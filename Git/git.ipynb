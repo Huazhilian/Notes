{
 "cells": [
  {
   "cell_type": "markdown",
   "metadata": {},
   "source": [
    "- ### Config\n",
    "`git config --global user.name \"huazhilianwu\"`\n",
    "\n",
    "`git config --global user.email \"huazhilianwu@gmail.com\"`\n",
    "\n",
    "---"
   ]
  },
  {
   "cell_type": "markdown",
   "metadata": {},
   "source": [
    "- ### Branch\n",
    "`git branch *branch-name*`\n",
    "\n",
    "`git switch -c *branch-name*`\n",
    "\n",
    "`git merge *branch*`\n",
    "\n",
    "`git branch -d *branch-name*`\n",
    "\n",
    "---"
   ]
  },
  {
   "cell_type": "markdown",
   "metadata": {},
   "source": [
    "- ### Create a repistory\n",
    "`git init`\n",
    "\n",
    "`git remote add origin *SSH key from github*`\n",
    "\n",
    "`git clone *SSH key from github*`\n",
    "\n",
    "---"
   ]
  },
  {
   "cell_type": "markdown",
   "metadata": {},
   "source": [
    "- ### Upload\n",
    "`git pull`\n",
    "\n",
    "---\n"
   ]
  }
 ],
 "metadata": {
  "language_info": {
   "name": "python"
  }
 },
 "nbformat": 4,
 "nbformat_minor": 2
}
