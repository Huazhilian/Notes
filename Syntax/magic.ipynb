{
 "cells": [
  {
   "cell_type": "markdown",
   "metadata": {},
   "source": [
    "- ### Jupter notebook magic commands\n",
    "\n",
    "1. [shell (terminal) commands: ! or !! (list output)](#shell-terminal-commands-)\n",
    "\n",
    "**file & directory:**\n",
    "\n",
    "`!dir`\n",
    "\n",
    "**package installation:**\n",
    "\n",
    "`!pip install` `!conda install`\n",
    "\n",
    "**script running:**\n",
    "\n",
    "`!python *script*.py`\n",
    "\n",
    "---\n",
    "\n",
    "2. [help: ? or *? (* for fuzzy query)](#help---)\n",
    "\n",
    "`lib/module/function?`\n",
    "\n",
    "`*b/mod*/funct*?`\n",
    "\n",
    "3. [Line Magic —— one line only:](#line-magic-)\n",
    "\n",
    "**shell (terminal) commands: !:** \n",
    "\n",
    "`%time` `%timeit`\n",
    "\n",
    "**file & directory:**\n",
    "\n",
    "`%pwd` `%cd`\n",
    "\n",
    "**variables handling:**\n",
    "\n",
    "`%who` `%whos` `%reset`\n",
    "\n",
    "**package installation:**\n",
    "\n",
    "`%pip install` `%conda install`\n",
    "\n",
    "---\n",
    "\n",
    "4. [Cell Magic —— entire cell: %%](#cell-magic-)\n",
    "\n",
    "**time:** \n",
    "\n",
    "`%%time` `%%timeit`\n",
    "\n",
    "**cell:**\n",
    "\n",
    "`%%capture` `%%writefile filename.py` `%%system`\n",
    "\n",
    "**rendering:**\n",
    "\n",
    "`%%html` `%%latex` `%%markdown` `%%python`\n",
    "\n",
    "---\n",
    "\n"
   ]
  },
  {
   "cell_type": "markdown",
   "metadata": {},
   "source": [
    "- ### Shell (terminal) commands: !\n",
    "\n",
    "**file & directory:**"
   ]
  },
  {
   "cell_type": "code",
   "execution_count": 11,
   "metadata": {},
   "outputs": [
    {
     "name": "stdout",
     "output_type": "stream",
     "text": [
      " Volume in drive C is Windows\n",
      " Volume Serial Number is A646-6FB6\n",
      "\n",
      " Directory of c:\\Users\\Taylor\\OneDrive\\桌面\\程序\\Python\\Notes\\Syntax\n",
      "\n",
      "2025/04/29  15:55    <DIR>          .\n",
      "2025/04/28  22:32    <DIR>          ..\n",
      "2025/04/17  11:47            30,562 data_type.ipynb\n",
      "2025/04/22  18:26            84,905 error.ipynb\n",
      "2025/04/22  19:11            12,037 function.ipynb\n",
      "2025/04/23  17:55            27,477 input-output.ipynb\n",
      "2025/04/29  15:55                85 Jupyter_generated.py\n",
      "2025/04/29  16:31            10,462 magic.ipynb\n",
      "2025/04/28  18:26            16,539 module.ipynb\n",
      "2025/04/28  22:37            29,466 numerical.ipynb\n",
      "2025/04/17  12:16            13,683 Object_oriented.ipynb\n",
      "2025/04/28  18:34             9,489 operation.ipynb\n",
      "2025/04/23  17:47                26 output.txt\n",
      "2025/04/17  12:51             5,737 statement.ipynb\n",
      "2025/04/19  14:39                25 test.md\n",
      "2025/04/19  18:51                28 test_json.json\n",
      "2025/04/19  18:44                39 test_pickle.pkl\n",
      "              15 File(s)        240,560 bytes\n",
      "               2 Dir(s)  493,485,096,960 bytes free\n"
     ]
    }
   ],
   "source": [
    "!dir"
   ]
  },
  {
   "cell_type": "markdown",
   "metadata": {},
   "source": [
    "---"
   ]
  },
  {
   "cell_type": "markdown",
   "metadata": {},
   "source": [
    "- ### Help: ? / *?"
   ]
  },
  {
   "cell_type": "code",
   "execution_count": 25,
   "metadata": {},
   "outputs": [
    {
     "name": "stdout",
     "output_type": "stream",
     "text": [
      "numpy.abs\n",
      "numpy.absolute"
     ]
    }
   ],
   "source": [
    "import numpy\n",
    "numpy.ab*?"
   ]
  },
  {
   "cell_type": "code",
   "execution_count": 26,
   "metadata": {},
   "outputs": [
    {
     "name": "stdout",
     "output_type": "stream",
     "text": [
      "\u001b[1;31mSignature:\u001b[0m       \u001b[0mnumpy\u001b[0m\u001b[1;33m.\u001b[0m\u001b[0mabs\u001b[0m\u001b[1;33m(\u001b[0m\u001b[1;33m*\u001b[0m\u001b[0margs\u001b[0m\u001b[1;33m,\u001b[0m \u001b[1;33m**\u001b[0m\u001b[0mkwargs\u001b[0m\u001b[1;33m)\u001b[0m\u001b[1;33m\u001b[0m\u001b[1;33m\u001b[0m\u001b[0m\n",
      "\u001b[1;31mType:\u001b[0m            ufunc\n",
      "\u001b[1;31mString form:\u001b[0m     <ufunc 'absolute'>\n",
      "\u001b[1;31mFile:\u001b[0m            d:\\program files\\python\\python313\\lib\\site-packages\\numpy\\__init__.py\n",
      "\u001b[1;31mDocstring:\u001b[0m      \n",
      "absolute(x, /, out=None, *, where=True, casting='same_kind', order='K', dtype=None, subok=True[, signature])\n",
      "\n",
      "Calculate the absolute value element-wise.\n",
      "\n",
      "``np.abs`` is a shorthand for this function.\n",
      "\n",
      "Parameters\n",
      "----------\n",
      "x : array_like\n",
      "    Input array.\n",
      "out : ndarray, None, or tuple of ndarray and None, optional\n",
      "    A location into which the result is stored. If provided, it must have\n",
      "    a shape that the inputs broadcast to. If not provided or None,\n",
      "    a freshly-allocated array is returned. A tuple (possible only as a\n",
      "    keyword argument) must have length equal to the number of outputs.\n",
      "where : array_like, optional\n",
      "    This condition is broadcast over the input. At locations where the\n",
      "    condition is True, the `out` array will be set to the ufunc result.\n",
      "    Elsewhere, the `out` array will retain its original value.\n",
      "    Note that if an uninitialized `out` array is created via the default\n",
      "    ``out=None``, locations within it where the condition is False will\n",
      "    remain uninitialized.\n",
      "**kwargs\n",
      "    For other keyword-only arguments, see the\n",
      "    :ref:`ufunc docs <ufuncs.kwargs>`.\n",
      "\n",
      "Returns\n",
      "-------\n",
      "absolute : ndarray\n",
      "    An ndarray containing the absolute value of\n",
      "    each element in `x`.  For complex input, ``a + ib``, the\n",
      "    absolute value is :math:`\\sqrt{ a^2 + b^2 }`.\n",
      "    This is a scalar if `x` is a scalar.\n",
      "\n",
      "Examples\n",
      "--------\n",
      ">>> import numpy as np\n",
      ">>> x = np.array([-1.2, 1.2])\n",
      ">>> np.absolute(x)\n",
      "array([ 1.2,  1.2])\n",
      ">>> np.absolute(1.2 + 1j)\n",
      "1.5620499351813308\n",
      "\n",
      "Plot the function over ``[-10, 10]``:\n",
      "\n",
      ">>> import matplotlib.pyplot as plt\n",
      "\n",
      ">>> x = np.linspace(start=-10, stop=10, num=101)\n",
      ">>> plt.plot(x, np.absolute(x))\n",
      ">>> plt.show()\n",
      "\n",
      "Plot the function over the complex plane:\n",
      "\n",
      ">>> xx = x + 1j * x[:, np.newaxis]\n",
      ">>> plt.imshow(np.abs(xx), extent=[-10, 10, -10, 10], cmap='gray')\n",
      ">>> plt.show()\n",
      "\n",
      "The `abs` function can be used as a shorthand for ``np.absolute`` on\n",
      "ndarrays.\n",
      "\n",
      ">>> x = np.array([-1.2, 1.2])\n",
      ">>> abs(x)\n",
      "array([1.2, 1.2])\n",
      "\u001b[1;31mClass docstring:\u001b[0m\n",
      "Functions that operate element by element on whole arrays.\n",
      "\n",
      "To see the documentation for a specific ufunc, use `info`.  For\n",
      "example, ``np.info(np.sin)``.  Because ufuncs are written in C\n",
      "(for speed) and linked into Python with NumPy's ufunc facility,\n",
      "Python's help() function finds this page whenever help() is called\n",
      "on a ufunc.\n",
      "\n",
      "A detailed explanation of ufuncs can be found in the docs for :ref:`ufuncs`.\n",
      "\n",
      "**Calling ufuncs:** ``op(*x[, out], where=True, **kwargs)``\n",
      "\n",
      "Apply `op` to the arguments `*x` elementwise, broadcasting the arguments.\n",
      "\n",
      "The broadcasting rules are:\n",
      "\n",
      "* Dimensions of length 1 may be prepended to either array.\n",
      "* Arrays may be repeated along dimensions of length 1.\n",
      "\n",
      "Parameters\n",
      "----------\n",
      "*x : array_like\n",
      "    Input arrays.\n",
      "out : ndarray, None, or tuple of ndarray and None, optional\n",
      "    Alternate array object(s) in which to put the result; if provided, it\n",
      "    must have a shape that the inputs broadcast to. A tuple of arrays\n",
      "    (possible only as a keyword argument) must have length equal to the\n",
      "    number of outputs; use None for uninitialized outputs to be\n",
      "    allocated by the ufunc.\n",
      "where : array_like, optional\n",
      "    This condition is broadcast over the input. At locations where the\n",
      "    condition is True, the `out` array will be set to the ufunc result.\n",
      "    Elsewhere, the `out` array will retain its original value.\n",
      "    Note that if an uninitialized `out` array is created via the default\n",
      "    ``out=None``, locations within it where the condition is False will\n",
      "    remain uninitialized.\n",
      "**kwargs\n",
      "    For other keyword-only arguments, see the :ref:`ufunc docs <ufuncs.kwargs>`.\n",
      "\n",
      "Returns\n",
      "-------\n",
      "r : ndarray or tuple of ndarray\n",
      "    `r` will have the shape that the arrays in `x` broadcast to; if `out` is\n",
      "    provided, it will be returned. If not, `r` will be allocated and\n",
      "    may contain uninitialized values. If the function has more than one\n",
      "    output, then the result will be a tuple of arrays."
     ]
    }
   ],
   "source": [
    "import numpy\n",
    "numpy.abs?"
   ]
  },
  {
   "cell_type": "markdown",
   "metadata": {},
   "source": [
    "---"
   ]
  },
  {
   "cell_type": "markdown",
   "metadata": {},
   "source": [
    "- ### Line Magic: %\n",
    "\n",
    "**time**"
   ]
  },
  {
   "cell_type": "code",
   "execution_count": null,
   "metadata": {},
   "outputs": [
    {
     "name": "stdout",
     "output_type": "stream",
     "text": [
      "CPU times: total: 15.6 ms\n",
      "Wall time: 7.7 ms\n"
     ]
    },
    {
     "data": {
      "text/plain": [
       "499999500000"
      ]
     },
     "execution_count": 1,
     "metadata": {},
     "output_type": "execute_result"
    }
   ],
   "source": [
    "%time sum(range(10**6)) # time the sum of a large range"
   ]
  },
  {
   "cell_type": "code",
   "execution_count": 3,
   "metadata": {},
   "outputs": [
    {
     "name": "stdout",
     "output_type": "stream",
     "text": [
      "7.47 ms ± 25.1 μs per loop (mean ± std. dev. of 7 runs, 100 loops each)\n"
     ]
    }
   ],
   "source": [
    "%timeit sum(range(10**6)) # timeit the same operation with average over multiple runs"
   ]
  },
  {
   "cell_type": "markdown",
   "metadata": {},
   "source": [
    "**file & directory**"
   ]
  },
  {
   "cell_type": "code",
   "execution_count": 11,
   "metadata": {},
   "outputs": [
    {
     "data": {
      "text/plain": [
       "'c:\\\\Users\\\\Taylor\\\\OneDrive\\\\桌面\\\\程序\\\\Python\\\\Notes\\\\Syntax'"
      ]
     },
     "execution_count": 11,
     "metadata": {},
     "output_type": "execute_result"
    }
   ],
   "source": [
    "%pwd"
   ]
  },
  {
   "cell_type": "code",
   "execution_count": 35,
   "metadata": {},
   "outputs": [
    {
     "name": "stdout",
     "output_type": "stream",
     "text": [
      "c:\\Users\\Taylor\\OneDrive\\桌面\\程序\\Python\\Notes\n"
     ]
    }
   ],
   "source": [
    "%cd c:\\\\Users\\\\Taylor\\\\OneDrive\\\\桌面\\\\程序\\\\Python\\\\Notes"
   ]
  },
  {
   "cell_type": "markdown",
   "metadata": {},
   "source": [
    "**variables handling**"
   ]
  },
  {
   "cell_type": "code",
   "execution_count": 18,
   "metadata": {},
   "outputs": [
    {
     "name": "stdout",
     "output_type": "stream",
     "text": [
      "a\t b\t thread\t threading\t \n"
     ]
    }
   ],
   "source": [
    "a=2;b=3\n",
    "%who"
   ]
  },
  {
   "cell_type": "code",
   "execution_count": 17,
   "metadata": {},
   "outputs": [
    {
     "name": "stdout",
     "output_type": "stream",
     "text": [
      "Variable    Type                   Data/Info\n",
      "--------------------------------------------\n",
      "a           int                    2\n",
      "b           int                    3\n",
      "thread      ParentPollerWindows    <ParentPollerWindows(Thre<...>1, started daemon 18264)>\n",
      "threading   module                 <module 'threading' from <...>n313\\\\Lib\\\\threading.py'>\n"
     ]
    }
   ],
   "source": [
    "a=2;b=3\n",
    "%whos"
   ]
  },
  {
   "cell_type": "code",
   "execution_count": 27,
   "metadata": {},
   "outputs": [
    {
     "name": "stdout",
     "output_type": "stream",
     "text": [
      "a\t b\t \n",
      "b\t \n",
      "Interactive namespace is empty.\n"
     ]
    }
   ],
   "source": [
    "a=2;b=3\n",
    "%who\n",
    "# only reset the variable a\n",
    "%reset_selective -f a\n",
    "%who\n",
    "# forecefully reset the namespace\n",
    "%reset -f \n",
    "%who"
   ]
  },
  {
   "cell_type": "markdown",
   "metadata": {},
   "source": [
    "---"
   ]
  },
  {
   "cell_type": "markdown",
   "metadata": {},
   "source": [
    "- ### Cell Magic: %%\n",
    "\n",
    "**time**"
   ]
  },
  {
   "cell_type": "code",
   "execution_count": 4,
   "metadata": {},
   "outputs": [
    {
     "name": "stdout",
     "output_type": "stream",
     "text": [
      "499999500000\n",
      "2047999968000000\n",
      "CPU times: total: 469 ms\n",
      "Wall time: 483 ms\n"
     ]
    }
   ],
   "source": [
    "%%time\n",
    "a=sum(range(10**6))\n",
    "print(a)\n",
    "b=sum(range(20**6))\n",
    "print(b)"
   ]
  },
  {
   "cell_type": "code",
   "execution_count": 7,
   "metadata": {},
   "outputs": [
    {
     "name": "stdout",
     "output_type": "stream",
     "text": [
      "499999500000\n",
      "2047999968000000\n",
      "499999500000\n",
      "2047999968000000\n",
      "499999500000\n",
      "2047999968000000\n",
      "499999500000\n",
      "2047999968000000\n",
      "499999500000\n",
      "2047999968000000\n",
      "499999500000\n",
      "2047999968000000\n",
      "499999500000\n",
      "2047999968000000\n",
      "499999500000\n",
      "2047999968000000\n",
      "480 ms ± 6.22 ms per loop (mean ± std. dev. of 7 runs, 1 loop each)\n"
     ]
    }
   ],
   "source": [
    "%%timeit \n",
    "c=sum(range(10**6))\n",
    "print(c)\n",
    "d=sum(range(20**6))\n",
    "print(d)"
   ]
  },
  {
   "cell_type": "markdown",
   "metadata": {},
   "source": [
    "**cell**"
   ]
  },
  {
   "cell_type": "code",
   "execution_count": 1,
   "metadata": {},
   "outputs": [],
   "source": [
    "%%capture\n",
    "%pip install numpy"
   ]
  },
  {
   "cell_type": "code",
   "execution_count": 14,
   "metadata": {},
   "outputs": [
    {
     "name": "stdout",
     "output_type": "stream",
     "text": [
      "Writing Jupyter_generated.py\n"
     ]
    }
   ],
   "source": [
    "%%writefile Jupyter_generated.py\n",
    "# writing a file in the current folder\n",
    "def greet():\n",
    "    print(\"hello\")\n",
    "\n",
    "greet()"
   ]
  },
  {
   "cell_type": "code",
   "execution_count": 31,
   "metadata": {},
   "outputs": [
    {
     "name": "stdout",
     "output_type": "stream",
     "text": [
      "hello\n"
     ]
    }
   ],
   "source": [
    "!python Jupyter_generated.py\n",
    "# run the terminal command to execute the file"
   ]
  },
  {
   "cell_type": "code",
   "execution_count": 28,
   "metadata": {},
   "outputs": [
    {
     "data": {
      "text/plain": [
       "['hello']"
      ]
     },
     "execution_count": 28,
     "metadata": {},
     "output_type": "execute_result"
    }
   ],
   "source": [
    "!!python Jupyter_generated.py\n",
    "# run the terminal command to execute the file with output captured"
   ]
  },
  {
   "cell_type": "code",
   "execution_count": 29,
   "metadata": {},
   "outputs": [
    {
     "data": {
      "text/plain": [
       "['hello']"
      ]
     },
     "execution_count": 29,
     "metadata": {},
     "output_type": "execute_result"
    }
   ],
   "source": [
    "%%system\n",
    "python Jupyter_generated.py\n",
    "# run the terminal command to execute the file with output captured"
   ]
  },
  {
   "cell_type": "markdown",
   "metadata": {},
   "source": [
    "**rendering**"
   ]
  },
  {
   "cell_type": "code",
   "execution_count": 30,
   "metadata": {},
   "outputs": [
    {
     "data": {
      "text/html": [
       "<h2 style=\"color:teal;\">Hello from HTML!</h2>\n",
       "<p>This is <b>bold</b> and <i>italic</i>.</p>\n"
      ],
      "text/plain": [
       "<IPython.core.display.HTML object>"
      ]
     },
     "metadata": {},
     "output_type": "display_data"
    }
   ],
   "source": [
    "%%html\n",
    "<h2 style=\"color:teal;\">Hello from HTML!</h2>\n",
    "<p>This is <b>bold</b> and <i>italic</i>.</p>"
   ]
  },
  {
   "cell_type": "code",
   "execution_count": 49,
   "metadata": {},
   "outputs": [
    {
     "data": {
      "text/html": [
       "<style>\n",
       "  #hidden-text { display: none; color: teal; font-weight: bold; }\n",
       "</style>\n",
       "\n",
       "<button onclick=\"document.getElementById('hidden-text').style.display='block'\">\n",
       "    Reveal Message\n",
       "</button>\n",
       "\n",
       "<p id=\"hidden-text\">🎉 Surprise! You found the hidden message.</p>\n"
      ],
      "text/plain": [
       "<IPython.core.display.HTML object>"
      ]
     },
     "metadata": {},
     "output_type": "display_data"
    }
   ],
   "source": [
    "%%html\n",
    "<style>\n",
    "  #hidden-text { display: none; color: teal; font-weight: bold; }\n",
    "</style>\n",
    "\n",
    "<button onclick=\"document.getElementById('hidden-text').style.display='block'\">\n",
    "    Reveal Message\n",
    "</button>\n",
    "\n",
    "<p id=\"hidden-text\">🎉 Surprise! You found the hidden message.</p>"
   ]
  },
  {
   "cell_type": "code",
   "execution_count": 52,
   "metadata": {},
   "outputs": [
    {
     "data": {
      "text/html": [
       "<div id=\"clock\" style=\"font-size: 24px; color: yellow;\"></div>\n",
       "<script>\n",
       "  setInterval(function(){\n",
       "    document.getElementById('clock').innerHTML = new Date().toLocaleTimeString();\n",
       "  }, 1000);\n",
       "</script>\n"
      ],
      "text/plain": [
       "<IPython.core.display.HTML object>"
      ]
     },
     "metadata": {},
     "output_type": "display_data"
    }
   ],
   "source": [
    "%%html\n",
    "<div id=\"clock\" style=\"font-size: 24px; color: yellow;\"></div>\n",
    "<script>\n",
    "  setInterval(function(){\n",
    "    document.getElementById('clock').innerHTML = new Date().toLocaleTimeString();\n",
    "  }, 1000);\n",
    "</script>\n"
   ]
  },
  {
   "cell_type": "code",
   "execution_count": 45,
   "metadata": {},
   "outputs": [
    {
     "data": {
      "text/latex": [
       "$F(k) = \\int_{-\\infty}^{\\infty} f(x) e^{2\\pi i k} dx$\n",
       "$$e^{i \\pi} + 1 = 0$$\n"
      ],
      "text/plain": [
       "<IPython.core.display.Latex object>"
      ]
     },
     "metadata": {},
     "output_type": "display_data"
    }
   ],
   "source": [
    "%%latex\n",
    "$F(k) = \\int_{-\\infty}^{\\infty} f(x) e^{2\\pi i k} dx$\n",
    "$$e^{i \\pi} + 1 = 0$$"
   ]
  },
  {
   "cell_type": "code",
   "execution_count": 43,
   "metadata": {},
   "outputs": [
    {
     "data": {
      "text/latex": [
       "\\begin{align}\n",
       "\\nabla \\cdot \\vec{\\mathbf{E}} & = 4 \\pi \\rho \\\\\n",
       "\\nabla \\times \\vec{\\mathbf{E}}\\, +\\, \\frac1c\\, \\frac{\\partial\\vec{\\mathbf{B}}}{\\partial t} & = \\vec{\\mathbf{0}} \\\\\n",
       "\\nabla \\cdot \\vec{\\mathbf{B}} & = 0\n",
       "\\end{align}\n"
      ],
      "text/plain": [
       "<IPython.core.display.Latex object>"
      ]
     },
     "metadata": {},
     "output_type": "display_data"
    }
   ],
   "source": [
    "%%latex\n",
    "\\begin{align}\n",
    "\\nabla \\cdot \\vec{\\mathbf{E}} & = 4 \\pi \\rho \\\\\n",
    "\\nabla \\times \\vec{\\mathbf{E}}\\, +\\, \\frac1c\\, \\frac{\\partial\\vec{\\mathbf{B}}}{\\partial t} & = \\vec{\\mathbf{0}} \\\\\n",
    "\\nabla \\cdot \\vec{\\mathbf{B}} & = 0\n",
    "\\end{align}"
   ]
  },
  {
   "cell_type": "code",
   "execution_count": 47,
   "metadata": {},
   "outputs": [
    {
     "data": {
      "text/markdown": [
       "- Bullet 1\n",
       "- Bullet 2  \n",
       "**Bold text**, *italic text*\n"
      ],
      "text/plain": [
       "<IPython.core.display.Markdown object>"
      ]
     },
     "metadata": {},
     "output_type": "display_data"
    }
   ],
   "source": [
    "%%markdown\n",
    "- Bullet 1\n",
    "- Bullet 2  \n",
    "**Bold text**, *italic text*"
   ]
  },
  {
   "cell_type": "code",
   "execution_count": 48,
   "metadata": {},
   "outputs": [
    {
     "name": "stdout",
     "output_type": "stream",
     "text": [
      "This is Python code\n"
     ]
    }
   ],
   "source": [
    "%%python\n",
    "print(\"This is Python code\")"
   ]
  }
 ],
 "metadata": {
  "kernelspec": {
   "display_name": "Python 3",
   "language": "python",
   "name": "python3"
  },
  "language_info": {
   "codemirror_mode": {
    "name": "ipython",
    "version": 3
   },
   "file_extension": ".py",
   "mimetype": "text/x-python",
   "name": "python",
   "nbconvert_exporter": "python",
   "pygments_lexer": "ipython3",
   "version": "3.13.2"
  }
 },
 "nbformat": 4,
 "nbformat_minor": 2
}
