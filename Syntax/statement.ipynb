{
 "cells": [
  {
   "cell_type": "markdown",
   "metadata": {},
   "source": [
    "- ### Statement\n",
    "1. Condition: [if](#if-elif--elif-else), [match](#match-case--case)\n",
    "\n",
    "2. Loop: [while](#while-else), [for](#for-else)\n",
    "---"
   ]
  },
  {
   "cell_type": "markdown",
   "metadata": {},
   "source": [
    "- ### if(-elif-...-elif-else)"
   ]
  },
  {
   "cell_type": "code",
   "execution_count": null,
   "metadata": {},
   "outputs": [
    {
     "name": "stdout",
     "output_type": "stream",
     "text": [
      "x is in range 10 to 20\n"
     ]
    }
   ],
   "source": [
    "x=11\n",
    "if x in range(10):\n",
    "    print(\"x is in range 10\")\n",
    "elif x in range(10,20):\n",
    "    print(\"x is in range 10 to 20\")\n",
    "else:\n",
    "    print(\"x is not in range 10\")"
   ]
  },
  {
   "cell_type": "markdown",
   "metadata": {},
   "source": [
    "---\n"
   ]
  },
  {
   "cell_type": "markdown",
   "metadata": {},
   "source": [
    "- ### match(-case-...-case)"
   ]
  },
  {
   "cell_type": "code",
   "execution_count": 7,
   "metadata": {},
   "outputs": [
    {
     "name": "stdout",
     "output_type": "stream",
     "text": [
      "x is in range 10 to 20\n"
     ]
    }
   ],
   "source": [
    "x = 12\n",
    "match x:\n",
    "    case _ if x in range(10):\n",
    "        print(\"x is in range 10\")\n",
    "    case _ if x in range(10, 20):\n",
    "        print(\"x is in range 10 to 20\")\n",
    "    case _:\n",
    "        print(\"x is not in range 10\")"
   ]
  },
  {
   "cell_type": "markdown",
   "metadata": {},
   "source": [
    "---\n"
   ]
  },
  {
   "cell_type": "markdown",
   "metadata": {},
   "source": [
    "- ### while(-else)"
   ]
  },
  {
   "cell_type": "code",
   "execution_count": 16,
   "metadata": {},
   "outputs": [
    {
     "name": "stdout",
     "output_type": "stream",
     "text": [
      "2\n",
      "1\n"
     ]
    }
   ],
   "source": [
    "x=3\n",
    "while (x:=x-1) > 0:\n",
    "    print(x)"
   ]
  },
  {
   "cell_type": "code",
   "execution_count": 16,
   "metadata": {},
   "outputs": [
    {
     "name": "stdout",
     "output_type": "stream",
     "text": [
      "3\n",
      "2\n",
      "1\n",
      "x is not greater than 0\n"
     ]
    }
   ],
   "source": [
    "y=-3\n",
    "while (x:=-y) >0:print(x);y+=1\n",
    "else:\n",
    "    print(\"x is not greater than 0\")"
   ]
  },
  {
   "cell_type": "markdown",
   "metadata": {},
   "source": [
    "---\n"
   ]
  },
  {
   "cell_type": "markdown",
   "metadata": {},
   "source": [
    "- ### for(-else)"
   ]
  },
  {
   "cell_type": "code",
   "execution_count": 28,
   "metadata": {},
   "outputs": [
    {
     "name": "stdout",
     "output_type": "stream",
     "text": [
      "hello word\n",
      "End of characters\n"
     ]
    }
   ],
   "source": [
    "for letter in 'hello word':\n",
    "    print(letter, end='')\n",
    "else:\n",
    "    print(\"\\nEnd of characters\")"
   ]
  },
  {
   "cell_type": "code",
   "execution_count": 32,
   "metadata": {},
   "outputs": [
    {
     "name": "stdout",
     "output_type": "stream",
     "text": [
      "[2, 3, 5, 7, 11, 13, 17, 19, 23, 29, 31, 37, 41, 43, 47, 53, 59, 61, 67, 71, 73, 79, 83, 89, 97]\n",
      "Time taken to find prime numbers: 0.00025010108947753906\n"
     ]
    }
   ],
   "source": [
    "#detect prime numbers\n",
    "import time\n",
    "t1=time.time()\n",
    "\n",
    "def is_prime(n):\n",
    "    isprime=[1 for _ in range(n)];isprime[0]=0\n",
    "    for i in range(1,n+1):\n",
    "        for j in range(2,int(i**0.5)+1):\n",
    "            if i%j==0:\n",
    "                isprime[i-1]=0\n",
    "                break\n",
    "    return [i+1 for i in range(n) if isprime[i]]\n",
    "\n",
    "print(is_prime(100))\n",
    "t2=time.time()\n",
    "print(\"Time taken to find prime numbers:\",t2-t1)"
   ]
  },
  {
   "cell_type": "code",
   "execution_count": 43,
   "metadata": {},
   "outputs": [
    {
     "name": "stdout",
     "output_type": "stream",
     "text": [
      "[2, 3, 5, 7, 11, 13, 17, 19, 23, 29, 31, 37, 41, 43, 47, 53, 59, 61, 67, 71, 73, 79, 83, 89, 97]\n",
      "Time taken to find prime numbers: 0.00018453598022460938\n"
     ]
    }
   ],
   "source": [
    "#detect prime numbers using sieve of Eratosthenes\n",
    "import time\n",
    "t1=time.time()\n",
    "\n",
    "def eratosthenes(n):\n",
    "    primes = [True] * (n + 1)\n",
    "    for i in range(2, int(n**0.5) + 1):\n",
    "        if primes[i]:\n",
    "            for j in range(i * i, n + 1, i):\n",
    "                primes[j] = False\n",
    "    return [i for i in range(2, n + 1) if primes[i]]\n",
    "\n",
    "print(eratosthenes(100))\n",
    "t2=time.time()\n",
    "print(\"Time taken to find prime numbers:\",t2-t1)"
   ]
  },
  {
   "cell_type": "markdown",
   "metadata": {},
   "source": [
    "**break & continue & pass**"
   ]
  },
  {
   "cell_type": "code",
   "execution_count": 18,
   "metadata": {},
   "outputs": [
    {
     "name": "stdout",
     "output_type": "stream",
     "text": [
      "helloword"
     ]
    }
   ],
   "source": [
    "for letter in 'hello word, friend':\n",
    "    if letter==' ':\n",
    "        continue\n",
    "    if letter == ',':\n",
    "        break\n",
    "    pass\n",
    "    print(letter, end='')\n",
    "else:\n",
    "    print(\"\\nEnd\")"
   ]
  },
  {
   "cell_type": "markdown",
   "metadata": {},
   "source": [
    "---"
   ]
  },
  {
   "cell_type": "markdown",
   "metadata": {},
   "source": [
    "- ### iterator\n",
    "**iter() & next()**"
   ]
  },
  {
   "cell_type": "code",
   "execution_count": 37,
   "metadata": {},
   "outputs": [
    {
     "name": "stdout",
     "output_type": "stream",
     "text": [
      "<list_iterator object at 0x000001DFAA343EE0>\n",
      "1\n",
      "2\n"
     ]
    }
   ],
   "source": [
    "list=[1,2,3,4,5]\n",
    "it=iter(list);print(it)\n",
    "print(next(it))\n",
    "print(next(it))"
   ]
  },
  {
   "cell_type": "code",
   "execution_count": 16,
   "metadata": {},
   "outputs": [
    {
     "name": "stdout",
     "output_type": "stream",
     "text": [
      "1\n",
      "2\n",
      "3\n",
      "4\n",
      "5\n"
     ]
    }
   ],
   "source": [
    "class MyNumbers:\n",
    "  def __iter__(self):\n",
    "    self.a = 1\n",
    "    return self\n",
    " \n",
    "  def __next__(self):\n",
    "    if self.a <= 5:\n",
    "      x = self.a\n",
    "      self.a += 1\n",
    "      return x\n",
    "    else:\n",
    "      raise StopIteration # StopIteration exception\n",
    " \n",
    "myclass = MyNumbers()\n",
    "myiter = iter(myclass)\n",
    " \n",
    "for x in myiter:\n",
    "  print(x)"
   ]
  },
  {
   "cell_type": "markdown",
   "metadata": {},
   "source": [
    "**generator: yield()**"
   ]
  },
  {
   "cell_type": "code",
   "execution_count": 2,
   "metadata": {},
   "outputs": [
    {
     "name": "stdout",
     "output_type": "stream",
     "text": [
      "0\n",
      "1\n",
      "1\n",
      "2\n",
      "3\n"
     ]
    }
   ],
   "source": [
    "def fibonacci(n):\n",
    "    a,b,c= 0,1,0\n",
    "    while c<n:\n",
    "        yield a\n",
    "        a,b=b,a+b\n",
    "        c+=1\n",
    "fib = fibonacci(5)\n",
    "print(next(fib))\n",
    "print(next(fib))\n",
    "for i in fib:\n",
    "    print(i)  # print the remaining values"
   ]
  }
 ],
 "metadata": {
  "kernelspec": {
   "display_name": "Python 3",
   "language": "python",
   "name": "python3"
  },
  "language_info": {
   "codemirror_mode": {
    "name": "ipython",
    "version": 3
   },
   "file_extension": ".py",
   "mimetype": "text/x-python",
   "name": "python",
   "nbconvert_exporter": "python",
   "pygments_lexer": "ipython3",
   "version": "3.13.2"
  }
 },
 "nbformat": 4,
 "nbformat_minor": 2
}
