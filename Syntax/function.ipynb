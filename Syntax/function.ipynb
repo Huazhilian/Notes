{
 "cells": [
  {
   "cell_type": "markdown",
   "metadata": {},
   "source": [
    "- ### function\n",
    "\n",
    "1. [Built-in function](module.ipynb)\n",
    "\n",
    "2. [Self-defined function](#function-with-positionalkeyword-args)\n",
    "\n",
    "3. [Anonymous function](#anonymous-function)\n",
    "\n",
    "4. [Decorator](#Decorator)\n",
    "\n",
    "5. [Name space & scope](#name-space--scope)\n",
    "\n",
    "**name space:**\n",
    "\n",
    "local names -> global names -> built-in names\n",
    "\n",
    "**scope:**\n",
    "\n",
    "local -> enclosing -> global -> built-in\n",
    "\n",
    "---"
   ]
  },
  {
   "cell_type": "markdown",
   "metadata": {},
   "source": [
    "- ### Function with Positional/keyword args\n",
    "\n",
    "**default/specific order parameter**"
   ]
  },
  {
   "cell_type": "code",
   "execution_count": 35,
   "metadata": {},
   "outputs": [
    {
     "name": "stdout",
     "output_type": "stream",
     "text": [
      "yx\n",
      "6\n"
     ]
    }
   ],
   "source": [
    "def function(parameter1, parameter2):\n",
    "    if isinstance(parameter1, str) and isinstance(parameter2, str): #if both parameters are strings\n",
    "        return parameter1 + parameter2\n",
    "    else:\n",
    "        return parameter1 * parameter2\n",
    "print(function(parameter2='x', parameter1='y'))\n",
    "print(function(2, 3))"
   ]
  },
  {
   "cell_type": "markdown",
   "metadata": {},
   "source": [
    "**parameter setting default value**"
   ]
  },
  {
   "cell_type": "code",
   "execution_count": 48,
   "metadata": {},
   "outputs": [
    {
     "name": "stdout",
     "output_type": "stream",
     "text": [
      "4\n",
      "7\n"
     ]
    }
   ],
   "source": [
    "def add(x,y=2):\n",
    "    if isinstance(x, int) and isinstance(y, int):\n",
    "        return x + y\n",
    "print(add(2))\n",
    "print(add(2,5))"
   ]
  },
  {
   "cell_type": "markdown",
   "metadata": {},
   "source": [
    "**undetermined number of parameters, '\\*args' as tuple**"
   ]
  },
  {
   "cell_type": "code",
   "execution_count": 79,
   "metadata": {},
   "outputs": [
    {
     "name": "stdout",
     "output_type": "stream",
     "text": [
      "fixed args: ('a', 'b')\n",
      "flexible arg: ('c', 'd')\n"
     ]
    }
   ],
   "source": [
    "def split(arg1,arg2,*args_tuple): #*args_tuple as a tuple\n",
    "    print(f'fixed args: {arg1,arg2}')\n",
    "    print(f'flexible arg: {args_tuple}')\n",
    "split('a', 'b', 'c', 'd')"
   ]
  },
  {
   "cell_type": "markdown",
   "metadata": {},
   "source": [
    "**args: positional-only args, /, flexible, \\*, keyword-only args**"
   ]
  },
  {
   "cell_type": "code",
   "execution_count": 93,
   "metadata": {},
   "outputs": [
    {
     "name": "stdout",
     "output_type": "stream",
     "text": [
      "fixed args: ('a', 'b', 'c')\n"
     ]
    }
   ],
   "source": [
    "def split(arg1, /, arg2, *, arg3): #args before / are positional-only arguments\n",
    "    print(f'fixed args: {arg1, arg2, arg3}') #args between / and * are flexible\n",
    "split('a','b', arg3='c') #args after * are keyword-only arguments"
   ]
  },
  {
   "cell_type": "markdown",
   "metadata": {},
   "source": [
    "**undetermined number of parameters, '\\*\\*args' as dictionary**"
   ]
  },
  {
   "cell_type": "code",
   "execution_count": 80,
   "metadata": {},
   "outputs": [
    {
     "name": "stdout",
     "output_type": "stream",
     "text": [
      "fixed args: ('a', 'b')\n",
      "flexible arg: {'c': 2, 'd': 3}\n"
     ]
    }
   ],
   "source": [
    "def split(arg1,arg2,**args_dict): #**args_dict as a dictionary\n",
    "    print(f'fixed args: {arg1,arg2}')\n",
    "    print(f'flexible arg: {args_dict}')\n",
    "split('a', 'b', c=2, d=3)"
   ]
  },
  {
   "cell_type": "markdown",
   "metadata": {},
   "source": [
    "**return at the end, otherwise return 'None'**"
   ]
  },
  {
   "cell_type": "code",
   "execution_count": 31,
   "metadata": {},
   "outputs": [
    {
     "name": "stdout",
     "output_type": "stream",
     "text": [
      "This is a string\n"
     ]
    },
    {
     "data": {
      "text/plain": [
       "'This is a string'"
      ]
     },
     "execution_count": 31,
     "metadata": {},
     "output_type": "execute_result"
    }
   ],
   "source": [
    "def printme(str):\n",
    "   print (str) #print strings without ' '\n",
    "   return str #returning the string with ' '\n",
    "\n",
    "printme(str=\"This is a string\")"
   ]
  },
  {
   "cell_type": "markdown",
   "metadata": {},
   "source": [
    "---\n"
   ]
  },
  {
   "cell_type": "markdown",
   "metadata": {},
   "source": [
    "- ### Anonymous function\n",
    "\n",
    "**parameters**"
   ]
  },
  {
   "cell_type": "code",
   "execution_count": 86,
   "metadata": {},
   "outputs": [
    {
     "name": "stdout",
     "output_type": "stream",
     "text": [
      "6\n"
     ]
    }
   ],
   "source": [
    "product= lambda x,y: x*y #lambda function\n",
    "print(product(2,3)) #calling the lambda function"
   ]
  },
  {
   "cell_type": "markdown",
   "metadata": {},
   "source": [
    "**map**"
   ]
  },
  {
   "cell_type": "code",
   "execution_count": 1,
   "metadata": {},
   "outputs": [
    {
     "name": "stdout",
     "output_type": "stream",
     "text": [
      "[1, 4, 9, 16, 25]\n"
     ]
    }
   ],
   "source": [
    "origin=[1,2,3,4,5]\n",
    "squared=list(map(lambda x: x**2,origin))\n",
    "print(squared) #squared list"
   ]
  },
  {
   "cell_type": "markdown",
   "metadata": {},
   "source": [
    "**filter**"
   ]
  },
  {
   "cell_type": "code",
   "execution_count": 9,
   "metadata": {},
   "outputs": [
    {
     "name": "stdout",
     "output_type": "stream",
     "text": [
      "[2, 4]\n"
     ]
    }
   ],
   "source": [
    "origin=[1,2,3,4,5]\n",
    "even=list(filter(lambda x:x%2==0,origin)) #filtering even numbers\n",
    "print(even) #even list"
   ]
  },
  {
   "cell_type": "markdown",
   "metadata": {},
   "source": [
    "**reduce**"
   ]
  },
  {
   "cell_type": "code",
   "execution_count": 10,
   "metadata": {},
   "outputs": [
    {
     "name": "stdout",
     "output_type": "stream",
     "text": [
      "120\n"
     ]
    }
   ],
   "source": [
    "from functools import reduce\n",
    "origin=[1,2,3,4,5]\n",
    "product=reduce(lambda x,y:x*y,origin) #reducing the list to a single value\n",
    "print(product) #product of the list"
   ]
  },
  {
   "cell_type": "code",
   "execution_count": 8,
   "metadata": {},
   "outputs": [
    {
     "name": "stdout",
     "output_type": "stream",
     "text": [
      "a a b a a b c \n"
     ]
    }
   ],
   "source": [
    "from functools import reduce\n",
    "origin=['a ','b ','c ']\n",
    "acc=reduce(lambda x,y:2*x+y,origin) #iterating from left to right\n",
    "print(acc)"
   ]
  },
  {
   "cell_type": "markdown",
   "metadata": {},
   "source": [
    "**partial**"
   ]
  },
  {
   "cell_type": "code",
   "execution_count": 2,
   "metadata": {},
   "outputs": [
    {
     "name": "stdout",
     "output_type": "stream",
     "text": [
      "9 27\n"
     ]
    }
   ],
   "source": [
    "from functools import partial\n",
    "def pow(x,y):\n",
    "    return x**y\n",
    "squared=partial(pow,y=2) #partial function\n",
    "cubed=partial(pow,y=3) #partial function\n",
    "print(squared(3),cubed(3)) #calling the partial function\n"
   ]
  },
  {
   "cell_type": "markdown",
   "metadata": {},
   "source": [
    "**encapsulation**"
   ]
  },
  {
   "cell_type": "code",
   "execution_count": 89,
   "metadata": {},
   "outputs": [
    {
     "name": "stdout",
     "output_type": "stream",
     "text": [
      "9 27\n",
      "9\n"
     ]
    }
   ],
   "source": [
    "def myfunct(n):\n",
    "    return lambda a:a**n #returning the lambda function\n",
    "squre=myfunct(2) #calling the function\n",
    "cubic=myfunct(3) #calling the function\n",
    "print(squre(3),cubic(3)) #calling the lambda function\n",
    "print(myfunct(2)(3)) #calling the function"
   ]
  },
  {
   "cell_type": "markdown",
   "metadata": {},
   "source": [
    "---"
   ]
  },
  {
   "cell_type": "markdown",
   "metadata": {},
   "source": [
    "- ### Decorator\n",
    "\n",
    "**decorators without parameters**"
   ]
  },
  {
   "cell_type": "code",
   "execution_count": 43,
   "metadata": {},
   "outputs": [
    {
     "name": "stdout",
     "output_type": "stream",
     "text": [
      "Before calling the original function\n",
      "Inside the target function with par a and b\n",
      "After calling the original function\n"
     ]
    }
   ],
   "source": [
    "def decorator_function(original_function): #decorator function\n",
    "    def wrapper(*args, **kwargs):\n",
    "        print(\"Before calling the original function\")\n",
    "      \n",
    "        original_function(*args, **kwargs)\n",
    "        \n",
    "        print(\"After calling the original function\")\n",
    "        \n",
    "    return wrapper\n",
    "\n",
    "@decorator_function #calling the decorator function\n",
    "def target_function(arg1, arg2):\n",
    "    print(f\"Inside the target function with par {arg1} and {arg2}\")\n",
    "\n",
    "target_function('a', 'b') #calling the target function"
   ]
  },
  {
   "cell_type": "markdown",
   "metadata": {},
   "source": [
    "**decorators with parameters (extra outer function needed)**"
   ]
  },
  {
   "cell_type": "code",
   "execution_count": null,
   "metadata": {},
   "outputs": [
    {
     "name": "stdout",
     "output_type": "stream",
     "text": [
      "Repetition 1 of 3:\n",
      "Inside the target function with par a and b\n",
      "Repetition 2 of 3:\n",
      "Inside the target function with par a and b\n",
      "Repetition 3 of 3:\n",
      "Inside the target function with par a and b\n"
     ]
    }
   ],
   "source": [
    "def reappeater(num_times): #outer function accepting parameters\n",
    "    def decorator_function(original_function): #decorator function\n",
    "        def wrapper(*args, **kwargs): #wrapper function\n",
    "            for x in range(num_times): #looping\n",
    "                print(f\"Repetition {x+1} of {num_times}:\")\n",
    "                original_function(*args, **kwargs)\n",
    "        return wrapper \n",
    "    return decorator_function\n",
    "\n",
    "@reappeater(num_times=3) #calling the decorator function\n",
    "def target_function(arg1, arg2):\n",
    "    print(f\"Inside the target function with par {arg1} and {arg2}\")\n",
    "target_function('a', 'b')"
   ]
  },
  {
   "cell_type": "markdown",
   "metadata": {},
   "source": [
    "**multi-decorates**"
   ]
  },
  {
   "cell_type": "code",
   "execution_count": null,
   "metadata": {},
   "outputs": [
    {
     "name": "stdout",
     "output_type": "stream",
     "text": [
      "decorator1\n",
      "decorator2\n",
      "Hello, world!\n"
     ]
    }
   ],
   "source": [
    "def decorator1(func): # first decorator function\n",
    "    def wrapper():\n",
    "        print(\"decorator1\")\n",
    "        func()\n",
    "    return wrapper\n",
    "def decorator2(func): # second decorator function\n",
    "    def wrapper():\n",
    "        print(\"decorator2\")\n",
    "        func()\n",
    "    return wrapper\n",
    "\n",
    "@decorator1 # applying first decorator\n",
    "@decorator2 # applying second decorator\n",
    "def my_function(): \n",
    "    print(\"Hello, world!\")\n",
    "\n",
    "my_function() # calling decorated function"
   ]
  },
  {
   "cell_type": "markdown",
   "metadata": {},
   "source": [
    "---"
   ]
  },
  {
   "cell_type": "markdown",
   "metadata": {},
   "source": [
    "- ### Name space & scope\n",
    "\n",
    "**global**"
   ]
  },
  {
   "cell_type": "code",
   "execution_count": 2,
   "metadata": {},
   "outputs": [
    {
     "name": "stdout",
     "output_type": "stream",
     "text": [
      "2\n"
     ]
    }
   ],
   "source": [
    "num=1\n",
    "def fun():\n",
    "    global num #using global variable\n",
    "    num+=1\n",
    "    print(num)\n",
    "fun() #calling the function"
   ]
  },
  {
   "cell_type": "markdown",
   "metadata": {},
   "source": [
    "**nonlocal**"
   ]
  },
  {
   "cell_type": "code",
   "execution_count": 3,
   "metadata": {},
   "outputs": [
    {
     "name": "stdout",
     "output_type": "stream",
     "text": [
      "3\n"
     ]
    }
   ],
   "source": [
    "num=1\n",
    "def outer():\n",
    "    num=2\n",
    "    def inner():\n",
    "        nonlocal num #using nonlocal variable\n",
    "        num+=1\n",
    "        print(num)\n",
    "    inner()\n",
    "\n",
    "outer() #calling the outer function"
   ]
  }
 ],
 "metadata": {
  "kernelspec": {
   "display_name": "Python 3",
   "language": "python",
   "name": "python3"
  },
  "language_info": {
   "codemirror_mode": {
    "name": "ipython",
    "version": 3
   },
   "file_extension": ".py",
   "mimetype": "text/x-python",
   "name": "python",
   "nbconvert_exporter": "python",
   "pygments_lexer": "ipython3",
   "version": "3.13.2"
  }
 },
 "nbformat": 4,
 "nbformat_minor": 2
}
