{
 "cells": [
  {
   "cell_type": "markdown",
   "metadata": {},
   "source": [
    "- ### Operation type\n",
    "1. Operator\n",
    "\n",
    "`*operator* a` \n",
    "\n",
    "`a *operator* b`\n",
    "\n",
    "2. Keyword\n",
    "\n",
    "`*kw* object`\n",
    "\n",
    "3. Function\n",
    "\n",
    "`newargs=function(*args*)`\n",
    "\n",
    "4. Method\n",
    "\n",
    "`object.method(*args*)`\n",
    "\n",
    "---"
   ]
  },
  {
   "cell_type": "markdown",
   "metadata": {},
   "source": [
    "- ### Operator\n",
    "\n",
    "**assignment**"
   ]
  },
  {
   "cell_type": "code",
   "execution_count": null,
   "metadata": {},
   "outputs": [
    {
     "name": "stdout",
     "output_type": "stream",
     "text": [
      "12 12\n"
     ]
    }
   ],
   "source": [
    "a,b=3,4; d=c=a*b \n",
    "print(c,d)  # multiple statements in one line"
   ]
  },
  {
   "cell_type": "code",
   "execution_count": null,
   "metadata": {},
   "outputs": [
    {
     "name": "stdout",
     "output_type": "stream",
     "text": [
      "8\n",
      "6\n",
      "12\n",
      "6.0\n",
      "3.0\n",
      "1.0\n",
      "1.0\n"
     ]
    }
   ],
   "source": [
    "a=6;b=2\n",
    "a+=b; print(a) # a=a+b\n",
    "a-=b; print(a) # a=a-b\n",
    "a*=b; print(a) # a=a*b\n",
    "a/=b; print(a) # a=a/b\n",
    "a//=b; print(a) # a=a//b\n",
    "a%=b; print(a) # a=a%b\n",
    "a**=b; print(a) # a=a**b"
   ]
  },
  {
   "cell_type": "markdown",
   "metadata": {},
   "source": [
    "**walrus operator ':='**"
   ]
  },
  {
   "cell_type": "code",
   "execution_count": null,
   "metadata": {},
   "outputs": [
    {
     "name": "stdout",
     "output_type": "stream",
     "text": [
      "3\n"
     ]
    }
   ],
   "source": [
    "x='abc'\n",
    "if (a:=len(x))>2: \n",
    "    print(a) # walrus operator"
   ]
  },
  {
   "cell_type": "markdown",
   "metadata": {},
   "source": [
    "**comparison**"
   ]
  },
  {
   "cell_type": "code",
   "execution_count": 2,
   "metadata": {},
   "outputs": [
    {
     "name": "stdout",
     "output_type": "stream",
     "text": [
      "False True True True False False\n"
     ]
    }
   ],
   "source": [
    "print(1==2, 1!=2, 1<2, 1<=2, 1>2, 1>=2) "
   ]
  },
  {
   "cell_type": "markdown",
   "metadata": {},
   "source": [
    "**bitwise operator: ~  | & ^**"
   ]
  },
  {
   "cell_type": "code",
   "execution_count": 8,
   "metadata": {},
   "outputs": [
    {
     "name": "stdout",
     "output_type": "stream",
     "text": [
      "0b11 0b101\n",
      "0b1 0b111 0b110 -0b100 0b1100 0b0\n",
      "1 7 6 -4 12 0\n"
     ]
    }
   ],
   "source": [
    "a=3; b=5\n",
    "print(bin(a),bin(b))# 101, 011\n",
    "print(bin(a&b), bin(a|b), bin(a^b), bin(~a), bin(a<<2), bin(a>>2)) # bitwise operators\n",
    "print(a&b, a|b, a^b, ~a, a<<2, a>>2) # bitwise operators"
   ]
  },
  {
   "cell_type": "markdown",
   "metadata": {},
   "source": [
    "---"
   ]
  },
  {
   "cell_type": "markdown",
   "metadata": {},
   "source": [
    "- ### Keyword\n",
    "\n",
    "**logical opeartion**"
   ]
  },
  {
   "cell_type": "code",
   "execution_count": 8,
   "metadata": {},
   "outputs": [
    {
     "name": "stdout",
     "output_type": "stream",
     "text": [
      "at least one >2\n"
     ]
    }
   ],
   "source": [
    "a=3;b=3 #not\n",
    "if not (a<=2 and b<=2):\n",
    "     print('at least one >2')"
   ]
  },
  {
   "cell_type": "markdown",
   "metadata": {},
   "source": [
    "**affiliation opeartion**"
   ]
  },
  {
   "cell_type": "code",
   "execution_count": 1,
   "metadata": {},
   "outputs": [
    {
     "name": "stdout",
     "output_type": "stream",
     "text": [
      "[2, 4]\n"
     ]
    }
   ],
   "source": [
    "a=[1,2,3,4,5]\n",
    "b=[x for x in a if x%2==0]\n",
    "print(b)    # list comprehension"
   ]
  },
  {
   "cell_type": "markdown",
   "metadata": {},
   "source": [
    "**recognition opeartion**"
   ]
  },
  {
   "cell_type": "code",
   "execution_count": 19,
   "metadata": {},
   "outputs": [
    {
     "name": "stdout",
     "output_type": "stream",
     "text": [
      "True False False\n",
      "True True True\n"
     ]
    }
   ],
   "source": [
    "a=[1,2,3,3];b=a[:]\n",
    "print(a==b,a is b,id(a)==id(b)) # value identity vs object identity\n",
    "print(a==b,a is not b, not(id(a)==id(b)))"
   ]
  },
  {
   "cell_type": "markdown",
   "metadata": {},
   "source": [
    "**deletion opeartion**"
   ]
  },
  {
   "cell_type": "code",
   "execution_count": 37,
   "metadata": {},
   "outputs": [
    {
     "name": "stdout",
     "output_type": "stream",
     "text": [
      "name 'u' is not defined\n"
     ]
    }
   ],
   "source": [
    "u=v=1;del u,v\n",
    "try:\n",
    "    print(u,v)\n",
    "except NameError as e:\n",
    "    print(e) # name 'v' is not defined"
   ]
  }
 ],
 "metadata": {
  "kernelspec": {
   "display_name": "Python 3",
   "language": "python",
   "name": "python3"
  },
  "language_info": {
   "codemirror_mode": {
    "name": "ipython",
    "version": 3
   },
   "file_extension": ".py",
   "mimetype": "text/x-python",
   "name": "python",
   "nbconvert_exporter": "python",
   "pygments_lexer": "ipython3",
   "version": "3.13.2"
  }
 },
 "nbformat": 4,
 "nbformat_minor": 2
}
