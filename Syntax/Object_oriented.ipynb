{
 "cells": [
  {
   "cell_type": "markdown",
   "metadata": {},
   "source": [
    "- ### Class\n",
    "\n",
    "1. Method type\n",
    "\n",
    "[instance:](#instance-method)\n",
    "\n",
    "`def instance_method(self, args): `\n",
    "\n",
    "[class:](#class-method-classmethod)\n",
    "\n",
    "`@classmethod`\n",
    "\n",
    "`def class_method(cls, args): `\n",
    "\n",
    "[static:](#static-method-staticmethod)\n",
    "\n",
    "`@staticmethod`\n",
    "\n",
    "`def static_method(self, args): `\n",
    "\n",
    "[propety & setter:](#propety-propety--setter-methodsetter)\n",
    "\n",
    "`@propety`\n",
    "\n",
    "`@*method*.setter`\n",
    "\n",
    "[exclusive method:](#Exclusive-method)\n",
    "\n",
    "**constructor:**\n",
    "\n",
    "`def __init__(*self, argus*):`\n",
    "\n",
    "**destructor:**\n",
    "\n",
    "`def __del__(*self, argus*):`\n",
    "\n",
    "---\n",
    "\n",
    "2. Class decorator\n",
    "\n",
    "[decorators for method](#decorators-for-method)\n",
    "\n",
    "[decorators for class](#decorators-for-class)\n",
    "\n",
    "---\n",
    "\n",
    "3. Derived class & base class\n",
    "\n",
    "`class derivedclassname(modname.naseclassname):`\n",
    "\n",
    "---\n",
    "\n",
    "4. Attributions\n",
    "\n",
    "**(private) variable**\n",
    "\n",
    "`var=value`\n",
    "\n",
    "`__privatevar=privatevalue` (only callable inside class)\n",
    "\n",
    "**self-carried variable**\n",
    "\n",
    "instance method: self\n",
    "\n",
    "class method: cls\n",
    "\n",
    "static method: none\n",
    "\n",
    "propety & setter method: self\n",
    "\n",
    "**object**\n",
    "\n",
    "`object=classname(*argus*)`\n",
    "\n",
    "---"
   ]
  },
  {
   "cell_type": "markdown",
   "metadata": {},
   "source": [
    "- ### Instance method\n",
    "\n",
    "**object.variable & object.method**"
   ]
  },
  {
   "cell_type": "code",
   "execution_count": 1,
   "metadata": {},
   "outputs": [
    {
     "name": "stdout",
     "output_type": "stream",
     "text": [
      "variable\n",
      "method\n"
     ]
    }
   ],
   "source": [
    "class Myclass: #class definition\n",
    "    var='variable' #class variable\n",
    "    __var='private_variable' #private class variable\n",
    "    def method(self,func_var1,func_var2): #class method\n",
    "        return 'method'\n",
    "object=Myclass() #object creation\n",
    "print(object.var) #accessing class variable\n",
    "print(object.method('par1','par2')) #accessing class method"
   ]
  },
  {
   "cell_type": "markdown",
   "metadata": {},
   "source": [
    "**instance method: self**"
   ]
  },
  {
   "cell_type": "code",
   "execution_count": 12,
   "metadata": {},
   "outputs": [
    {
     "name": "stdout",
     "output_type": "stream",
     "text": [
      "variable\n"
     ]
    },
    {
     "data": {
      "text/plain": [
       "'variable'"
      ]
     },
     "execution_count": 12,
     "metadata": {},
     "output_type": "execute_result"
    }
   ],
   "source": [
    "class Myclass:\n",
    "    def __init__(self,var): #constructor\n",
    "        self.var=var\n",
    "    def func(self): #class method\n",
    "        print(self.var)\n",
    "\n",
    "object=Myclass('variable') #object creation\n",
    "object.func() #accessing method\n",
    "object.var #modifying object attribute"
   ]
  },
  {
   "cell_type": "markdown",
   "metadata": {},
   "source": [
    "**derived class (base class), overriding**"
   ]
  },
  {
   "cell_type": "code",
   "execution_count": 8,
   "metadata": {},
   "outputs": [
    {
     "name": "stdout",
     "output_type": "stream",
     "text": [
      "Name: John\n",
      "Age: 20\n",
      "Grade: A\n"
     ]
    }
   ],
   "source": [
    "class people:\n",
    "    name='' #class variable\n",
    "    age=0 #class variable\n",
    "    def __init__(self,n,a):\n",
    "        self.name=n #object variable\n",
    "        self.age=a #object variable\n",
    "    def display(self): #class method\n",
    "        print('Name:',self.name)\n",
    "        print('Age:',self.age)\n",
    "\n",
    "class student(people): #inheritance\n",
    "    def __init__(self,n,a,g):\n",
    "        people.__init__(self,n,a)\n",
    "        self.grade=g\n",
    "    def display(self): #overriding method\n",
    "        print('Name:',self.name)\n",
    "        print('Age:',self.age)\n",
    "        print('Grade:',self.grade)\n",
    "\n",
    "object=student('John',20,'A') #object creation\n",
    "object.display() #accessing method"
   ]
  },
  {
   "cell_type": "markdown",
   "metadata": {},
   "source": [
    "**super**"
   ]
  },
  {
   "cell_type": "code",
   "execution_count": 10,
   "metadata": {},
   "outputs": [
    {
     "name": "stdout",
     "output_type": "stream",
     "text": [
      "derived class method\n",
      "base class method\n"
     ]
    }
   ],
   "source": [
    "class Parent:        # base class\n",
    "   def myMethod(self):\n",
    "      print ('base class method')\n",
    " \n",
    "class Child(Parent): # derived class\n",
    "   def myMethod(self):\n",
    "      print ('derived class method')\n",
    " \n",
    "c = Child()          # creating object of derived class\n",
    "c.myMethod()         # calling derived class method\n",
    "super(Child,c).myMethod() #calling base class method"
   ]
  },
  {
   "cell_type": "markdown",
   "metadata": {},
   "source": [
    "**operator overloading**"
   ]
  },
  {
   "cell_type": "code",
   "execution_count": 15,
   "metadata": {},
   "outputs": [
    {
     "name": "stdout",
     "output_type": "stream",
     "text": [
      "6 8\n",
      "-2 -3\n"
     ]
    }
   ],
   "source": [
    "class Vector:\n",
    "    def __init__(self,x,y):\n",
    "        self.x=x\n",
    "        self.y=y\n",
    "    def __add__(self,other):\n",
    "        return Vector(self.x+other.x,self.y+other.y)\n",
    "    def __sub__(self):\n",
    "        return Vector(-self.x,-self.y)\n",
    "    \n",
    "v1=Vector(2,3)\n",
    "v2=Vector(4,5)\n",
    "v3=v1+v2 # using __add__ method, i.e. v3=v1.__add__(v2)\n",
    "v4=v1.__sub__()\n",
    "print(v3.x,v3.y) # accessing object attributes\n",
    "print(v4.x,v4.y) # accessing object attributes"
   ]
  },
  {
   "cell_type": "markdown",
   "metadata": {},
   "source": [
    "---"
   ]
  },
  {
   "cell_type": "markdown",
   "metadata": {},
   "source": [
    "- ### Class method (@classmethod)"
   ]
  },
  {
   "cell_type": "code",
   "execution_count": 2,
   "metadata": {},
   "outputs": [
    {
     "name": "stdout",
     "output_type": "stream",
     "text": [
      "Hello from MyClass with 2 times\n"
     ]
    }
   ],
   "source": [
    "class MyClass:\n",
    "    @classmethod # class method by using decorator\n",
    "    def say_hello(cls,arg1):\n",
    "        print(f\"Hello from {cls.__name__} with {arg1} times\")\n",
    "MyClass.say_hello(2) # calling class method without creating object"
   ]
  },
  {
   "cell_type": "markdown",
   "metadata": {},
   "source": [
    "---"
   ]
  },
  {
   "cell_type": "markdown",
   "metadata": {},
   "source": [
    "- ### Static method (@staticmethod)"
   ]
  },
  {
   "cell_type": "code",
   "execution_count": 3,
   "metadata": {},
   "outputs": [
    {
     "name": "stdout",
     "output_type": "stream",
     "text": [
      "Hello from John\n"
     ]
    }
   ],
   "source": [
    "class Myclass:\n",
    "    @staticmethod # static method by using decorator \n",
    "    def say_hello(name):\n",
    "        print(f\"Hello from {name}\")\n",
    "funct=Myclass.say_hello # calling static method without creating object\n",
    "funct('John') #act as a function"
   ]
  },
  {
   "cell_type": "markdown",
   "metadata": {},
   "source": [
    "---"
   ]
  },
  {
   "cell_type": "markdown",
   "metadata": {},
   "source": [
    "- ### propety (@propety) & setter (@method.setter)"
   ]
  },
  {
   "cell_type": "code",
   "execution_count": null,
   "metadata": {},
   "outputs": [
    {
     "name": "stdout",
     "output_type": "stream",
     "text": [
      "Alice\n"
     ]
    }
   ],
   "source": [
    "class MyClass:\n",
    "    @property # property decorator\n",
    "    def name(self): # getter method\n",
    "        return self._name # private attribute\n",
    "\n",
    "    @name.setter # property setter\n",
    "    def name(self, value): # setter method\n",
    "        self._name = value # private attribute\n",
    "\n",
    "obj = MyClass() # object creation\n",
    "obj.name = \"Alice\" # setting name using setter\n",
    "print(obj.name)"
   ]
  },
  {
   "cell_type": "markdown",
   "metadata": {},
   "source": [
    "---"
   ]
  },
  {
   "cell_type": "markdown",
   "metadata": {},
   "source": [
    "- ### Exclusive method"
   ]
  },
  {
   "cell_type": "markdown",
   "metadata": {},
   "source": [
    "**constructor '\\_\\_init__()'**"
   ]
  },
  {
   "cell_type": "code",
   "execution_count": null,
   "metadata": {},
   "outputs": [
    {
     "name": "stdout",
     "output_type": "stream",
     "text": [
      "<__main__.Complex object at 0x00000216C8540050>\n",
      "<class '__main__.Complex'>\n",
      "1 2 2.23606797749979\n"
     ]
    }
   ],
   "source": [
    "import math\n",
    "\n",
    "class Complex: #class definition\n",
    "    def __init__(self,real,imaginary): #constructor\n",
    "        self.re=real\n",
    "        self.im=imaginary\n",
    "        self.norm=((self.re)**2+(self.im)**2)**0.5\n",
    "z=Complex(1,2)\n",
    "print(z) #object representation\n",
    "print(z.__class__) #class of object\n",
    "print(z.re,z.im,z.norm) #accessing object attributes"
   ]
  },
  {
   "cell_type": "markdown",
   "metadata": {},
   "source": [
    "**destructor '\\_\\_del__()'**"
   ]
  },
  {
   "cell_type": "code",
   "execution_count": null,
   "metadata": {},
   "outputs": [
    {
     "name": "stdout",
     "output_type": "stream",
     "text": [
      "Object1 created.\n",
      "Object1 destroyed.\n"
     ]
    }
   ],
   "source": [
    "class MyClass:\n",
    "    def __init__(self, name):\n",
    "        self.name = name\n",
    "        print(f\"{self.name} created.\")\n",
    "\n",
    "    def __del__(self):\n",
    "        print(f\"{self.name} destroyed.\")\n",
    "\n",
    "object=MyClass(\"Object1\") # object creation\n",
    "del object # object deletion"
   ]
  },
  {
   "cell_type": "markdown",
   "metadata": {},
   "source": [
    "---"
   ]
  },
  {
   "cell_type": "markdown",
   "metadata": {},
   "source": [
    "- ### Decorators for method"
   ]
  },
  {
   "cell_type": "code",
   "execution_count": 19,
   "metadata": {},
   "outputs": [
    {
     "name": "stdout",
     "output_type": "stream",
     "text": [
      "Original method\n",
      "New method added by decorator\n"
     ]
    }
   ],
   "source": [
    "def decorator(cls): # decorator function\n",
    "    def new_method(self):\n",
    "        print(\"New method added by decorator\")\n",
    "    cls.new_method=new_method\n",
    "    return cls\n",
    "\n",
    "@decorator # using decorator\n",
    "class Myclass: # class definition\n",
    "    def method(self):\n",
    "        print(\"Original method\")\n",
    "        \n",
    "object=Myclass() # object creation\n",
    "object.method() # calling original method\n",
    "object.new_method() # calling new method added by decorator"
   ]
  },
  {
   "cell_type": "markdown",
   "metadata": {},
   "source": [
    "---"
   ]
  },
  {
   "cell_type": "markdown",
   "metadata": {},
   "source": [
    "- ### Decorators for class"
   ]
  },
  {
   "cell_type": "code",
   "execution_count": null,
   "metadata": {},
   "outputs": [
    {
     "name": "stdout",
     "output_type": "stream",
     "text": [
      "before method\n",
      "Hello from MyClass\n",
      "after method\n",
      "Hello from show method\n"
     ]
    }
   ],
   "source": [
    "def decorator(cls): # decorator function\n",
    "    class Wrapper: # wrapper class\n",
    "        def __init__(self, *args, **kwargs): # constructor\n",
    "            self.w = cls(*args, **kwargs) # creating object of original class\n",
    "        \n",
    "        def display(self): # decorate 'display' method\n",
    "            print(\"before method\")\n",
    "            self.w.display()\n",
    "            print(\"after method\")\n",
    "        \n",
    "        def __getattr__(self, name): # delegate attribute access\n",
    "            return getattr(self.w, name)\n",
    "    return Wrapper\n",
    "\n",
    "@decorator # using decorator\n",
    "class MyClass: # class definition\n",
    "    def display(self):\n",
    "        print(\"Hello from MyClass\")\n",
    "    def show(self):\n",
    "        print(\"Hello from show method\")\n",
    "\n",
    "object=MyClass() # object creation\n",
    "object.display() # calling method\n",
    "object.show() # calling method"
   ]
  }
 ],
 "metadata": {
  "kernelspec": {
   "display_name": "Python 3",
   "language": "python",
   "name": "python3"
  },
  "language_info": {
   "codemirror_mode": {
    "name": "ipython",
    "version": 3
   },
   "file_extension": ".py",
   "mimetype": "text/x-python",
   "name": "python",
   "nbconvert_exporter": "python",
   "pygments_lexer": "ipython3",
   "version": "3.13.2"
  }
 },
 "nbformat": 4,
 "nbformat_minor": 2
}
