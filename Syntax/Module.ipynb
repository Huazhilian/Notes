{
 "cells": [
  {
   "cell_type": "markdown",
   "metadata": {},
   "source": [
    "- ### Module\n",
    "\n",
    "1. Standard library\n",
    "\n",
    "[maths:](#Maths-module)\n",
    "\n",
    "math, cmath, random, statistics\n",
    "\n",
    "[date & time:](#date--time-module)\n",
    "\n",
    "time, datetime, calendar\n",
    "\n",
    "[data Handling:](#data-handling-module)\n",
    "\n",
    "pickle, json, csv, sqlite3, zlib\n",
    "\n",
    "[file & directory:](#file--directory)\n",
    "\n",
    "os, shutil, glob\n",
    "\n",
    "[internet & networking:](#internet--networking-module)\n",
    "\n",
    "urllib, http, socket\n",
    "\n",
    "[email:](#email-module)\n",
    "\n",
    "stmptlib\n",
    "\n",
    "[utilities & tools:](#utilities--tools-module)\n",
    "\n",
    "itertools, functools, sys, re\n",
    "\n",
    "2. Site-packages (installed by pip)\n",
    "\n",
    "**package names are recongnized by:** \n",
    "\n",
    "`__init__.py`\n",
    "\n",
    "**in the above file, functions are claimed by:**\n",
    "\n",
    "`__all__=[funct1,...,functn]`\n",
    "\n",
    "**divert in effects when running as main or imported:**\n",
    "\n",
    "`if __name__=\"__main__\":` \n",
    "\n",
    "---"
   ]
  },
  {
   "cell_type": "markdown",
   "metadata": {},
   "source": [
    "- ### import module"
   ]
  },
  {
   "cell_type": "markdown",
   "metadata": {},
   "source": [
    "**import *module* (as *modnickname*)**"
   ]
  },
  {
   "cell_type": "code",
   "execution_count": 1,
   "metadata": {},
   "outputs": [
    {
     "name": "stdout",
     "output_type": "stream",
     "text": [
      "3.141592653589793\n"
     ]
    }
   ],
   "source": [
    "import math  # import module\n",
    "print(math.pi)"
   ]
  },
  {
   "cell_type": "markdown",
   "metadata": {},
   "source": [
    "**from *module* import *\\* / funct* (as *functnickname*)**"
   ]
  },
  {
   "cell_type": "code",
   "execution_count": 2,
   "metadata": {},
   "outputs": [
    {
     "name": "stdout",
     "output_type": "stream",
     "text": [
      "3.141592653589793\n"
     ]
    }
   ],
   "source": [
    "from math import *  # import all functions from math module\n",
    "print(pi)"
   ]
  },
  {
   "cell_type": "code",
   "execution_count": 3,
   "metadata": {},
   "outputs": [
    {
     "name": "stdout",
     "output_type": "stream",
     "text": [
      "3.141592653589793\n"
     ]
    }
   ],
   "source": [
    "from math import pi as PI  # from module import *name* as *nickname*\n",
    "print(PI)"
   ]
  },
  {
   "cell_type": "markdown",
   "metadata": {},
   "source": [
    "**funct & attribution directory**"
   ]
  },
  {
   "cell_type": "code",
   "execution_count": 5,
   "metadata": {},
   "outputs": [
    {
     "name": "stdout",
     "output_type": "stream",
     "text": [
      "['__doc__', '__loader__', '__name__', '__package__', '__spec__', 'acos', 'acosh', 'asin', 'asinh', 'atan', 'atan2', 'atanh', 'cbrt', 'ceil', 'comb', 'copysign', 'cos', 'cosh', 'degrees', 'dist', 'e', 'erf', 'erfc', 'exp', 'exp2', 'expm1', 'fabs', 'factorial', 'floor', 'fma', 'fmod', 'frexp', 'fsum', 'gamma', 'gcd', 'hypot', 'inf', 'isclose', 'isfinite', 'isinf', 'isnan', 'isqrt', 'lcm', 'ldexp', 'lgamma', 'log', 'log10', 'log1p', 'log2', 'modf', 'nan', 'nextafter', 'perm', 'pi', 'pow', 'prod', 'radians', 'remainder', 'sin', 'sinh', 'sqrt', 'sumprod', 'tan', 'tanh', 'tau', 'trunc', 'ulp']\n",
      "Help on built-in function lcm in module math:\n",
      "\n",
      "lcm(*integers)\n",
      "    Least Common Multiple.\n",
      "\n",
      "None\n"
     ]
    }
   ],
   "source": [
    "import math\n",
    "print(dir(math))  # list all functions in math module\n",
    "print(help(math.lcm))  # get help on math.lcm module.funct"
   ]
  },
  {
   "cell_type": "markdown",
   "metadata": {},
   "source": [
    "---"
   ]
  },
  {
   "cell_type": "markdown",
   "metadata": {},
   "source": [
    "- ### Maths module"
   ]
  },
  {
   "cell_type": "markdown",
   "metadata": {},
   "source": [
    "**math**"
   ]
  },
  {
   "cell_type": "code",
   "execution_count": 5,
   "metadata": {},
   "outputs": [
    {
     "name": "stdout",
     "output_type": "stream",
     "text": [
      "3\n",
      "3.14\n",
      "4\n",
      "3\n",
      "(0.14158999999999988, 3.0)\n",
      "1 3\n",
      "6\n",
      "6\n"
     ]
    }
   ],
   "source": [
    "from math import *\n",
    "print(abs(-3))  # absolute value\n",
    "print(round(3.14159,2))  # round to 2 decimal places\n",
    "print(ceil(3.14159))  # round up\n",
    "print(floor(3.14159))  # round down\n",
    "print(modf(3.14159))  # split into integer and decimal parts\n",
    "print(min(1,2,3),max(1,2,3))  # minimum\n",
    "print(sum([1,2,3]))  # sum\n",
    "print(prod([1,2,3]))  # product"
   ]
  },
  {
   "cell_type": "code",
   "execution_count": 14,
   "metadata": {},
   "outputs": [
    {
     "name": "stdout",
     "output_type": "stream",
     "text": [
      "4.0\n",
      "8\n",
      "2.718281828459045\n",
      "2.718281828459045\n",
      "1.0\n"
     ]
    }
   ],
   "source": [
    "from math import e,sqrt,exp,log,log10\n",
    "print(sqrt(16))  # square root\n",
    "print(pow(2,3))  # 2^3\n",
    "print(exp(1))  # e^1\n",
    "print(log(exp(e)))  # ln(e^1)\n",
    "print(log10(10))  # log base 10"
   ]
  },
  {
   "cell_type": "code",
   "execution_count": 18,
   "metadata": {},
   "outputs": [
    {
     "name": "stdout",
     "output_type": "stream",
     "text": [
      "0.8660254037844386 0.5000000000000001 1.7320508075688767\n",
      "0.0 0.0 -0.7853981633974483\n",
      "59.99999999999999 1.0471975511965976\n",
      "5.0\n"
     ]
    }
   ],
   "source": [
    "from math import *\n",
    "print(sin(pi/3),cos(pi/3),tan(pi/3))  # sin(π/3),cos(π/3)\n",
    "print(asin(0),acos(1),atan(-1))  # tan(π/3)\n",
    "print(degrees(pi/3),radians(60))  # convert between degrees and radians\n",
    "print(hypot(3,4))  # sqrt(3^2+4^2)"
   ]
  },
  {
   "cell_type": "markdown",
   "metadata": {},
   "source": [
    "**cmath**"
   ]
  },
  {
   "cell_type": "code",
   "execution_count": null,
   "metadata": {},
   "outputs": [
    {
     "name": "stdout",
     "output_type": "stream",
     "text": [
      "(3+4j)\n",
      "(2+1j)\n"
     ]
    }
   ],
   "source": [
    "import cmath\n",
    "num=3+4j\n",
    "print(num)  # complex number\n",
    "print(cmath.sqrt(num))  # square root"
   ]
  },
  {
   "cell_type": "markdown",
   "metadata": {},
   "source": [
    "**random**"
   ]
  },
  {
   "cell_type": "code",
   "execution_count": 77,
   "metadata": {},
   "outputs": [
    {
     "name": "stdout",
     "output_type": "stream",
     "text": [
      "9\n",
      "7\n",
      "8\n",
      "0.813351507162973\n",
      "4.729820669551948\n"
     ]
    }
   ],
   "source": [
    "import random\n",
    "print(random.choice(range(1,10,2)))  # random choice\n",
    "print(random.randrange(1,10,2))  # random integer\n",
    "print(random.randint(1,10))  # random integer\n",
    "print(random.random())  # random float 0<x<1\n",
    "print(random.uniform(1,10))  # random float"
   ]
  },
  {
   "cell_type": "markdown",
   "metadata": {},
   "source": [
    "**statistics**"
   ]
  },
  {
   "cell_type": "code",
   "execution_count": 18,
   "metadata": {},
   "outputs": [
    {
     "name": "stdout",
     "output_type": "stream",
     "text": [
      "2.5\n",
      "2\n",
      "2.8333333333333335\n",
      "2.155688622754491\n",
      "2.4928828716784346\n"
     ]
    }
   ],
   "source": [
    "import statistics\n",
    "data = [1,2,2,3,4,5]\n",
    "print(statistics.median(data))  # median\n",
    "print(statistics.mode(data))  # mode\n",
    "\n",
    "print(statistics.mean(data))  # mean\n",
    "print(statistics.harmonic_mean(data))  # harmonic mean\n",
    "print(statistics.geometric_mean(data))  # geometric mean"
   ]
  },
  {
   "cell_type": "code",
   "execution_count": 20,
   "metadata": {},
   "outputs": [
    {
     "name": "stdout",
     "output_type": "stream",
     "text": [
      "2.1666666666666665\n",
      "1.4719601443879744\n",
      "1.8055555555555556\n",
      "1.3437096247164249\n"
     ]
    }
   ],
   "source": [
    "import statistics\n",
    "data = [1,2,2,3,4,5]\n",
    "print(statistics.variance(data))  # variance: s^2\n",
    "print(statistics.stdev(data))  # standard deviation: s\n",
    "\n",
    "print(statistics.pvariance(data))  # population variance:σ^2\n",
    "print(statistics.pstdev(data))  # population standard deviation:σ"
   ]
  },
  {
   "cell_type": "markdown",
   "metadata": {},
   "source": [
    "---"
   ]
  },
  {
   "cell_type": "markdown",
   "metadata": {},
   "source": [
    "- ### Date & time module\n",
    "\n",
    "**datetime**"
   ]
  },
  {
   "cell_type": "code",
   "execution_count": 10,
   "metadata": {},
   "outputs": [
    {
     "name": "stdout",
     "output_type": "stream",
     "text": [
      "Current date and time: 2025-05-05 13:03:13.242749\n",
      "Formatted date and time: 2025-05-05 13:03:13\n",
      "\n",
      "Today's date: 2025-05-05\n",
      "Age: 25 years and 131 days\n",
      "\n",
      "Unix time from datetime: 1746421393.242749\n",
      "Datetime from unix time: 2025-05-05 13:03:13.242749\n",
      "\n",
      "Before: 2025-04-27 12:02:12.241748\n",
      "After: 2025-05-13 14:04:14.243750\n"
     ]
    }
   ],
   "source": [
    "import datetime\n",
    "\n",
    "# Get current date and time\n",
    "now = datetime.datetime.now()\n",
    "print(\"Current date and time:\", now)\n",
    "\n",
    "# format date and time\n",
    "formatted_date = now.strftime(\"%Y-%m-%d %H:%M:%S\")\n",
    "print(\"Formatted date and time:\", formatted_date)\n",
    "\n",
    "# Get current date\n",
    "today = datetime.date.today()\n",
    "print(\"\\nToday's date:\", today)\n",
    "\n",
    "# age\n",
    "birth_date = datetime.date(2000, 1, 1)  # Replace with your birth date\n",
    "age = today - birth_date\n",
    "print(\"Age:\", age.days // 365, \"years and\", age.days % 365 ,\"days\")\n",
    "\n",
    "# Convert datetime to unix time\n",
    "unix_time = now.timestamp() # seconds since epoch January 1, 1970 (UTC)\n",
    "print(\"\\nUnix time from datetime:\", unix_time)\n",
    "\n",
    "# Convert unix time to datetime\n",
    "dt = datetime.datetime.fromtimestamp(unix_time)\n",
    "print(\"Datetime from unix time:\", dt)\n",
    "\n",
    "# before and after\n",
    "before = now - datetime.timedelta(weeks=1,days=1, hours=1, minutes=1,seconds=1,microseconds=1,milliseconds=1)\n",
    "print(\"\\nBefore:\", before)\n",
    "after = now + datetime.timedelta(weeks=1,days=1, hours=1, minutes=1,seconds=1,microseconds=1,milliseconds=1)\n",
    "print(\"After:\", after)"
   ]
  },
  {
   "cell_type": "markdown",
   "metadata": {},
   "source": [
    "**timezone**"
   ]
  },
  {
   "cell_type": "code",
   "execution_count": null,
   "metadata": {},
   "outputs": [],
   "source": [
    "%%capture \n",
    "%pip install tzdata\n",
    "# %%capture: only captures stdout and stderr in the cell"
   ]
  },
  {
   "cell_type": "code",
   "execution_count": null,
   "metadata": {},
   "outputs": [
    {
     "name": "stdout",
     "output_type": "stream",
     "text": [
      "Local time: 2025-04-28 12:02:21.943465\n",
      "UK time: 2025-04-28 05:02:21.943465+01:00\n",
      "US time: 2025-04-28 00:02:21.943465-04:00\n"
     ]
    }
   ],
   "source": [
    "import datetime\n",
    "import zoneinfo\n",
    "\n",
    "# local time\n",
    "local_time = datetime.datetime.now()\n",
    "print(\"Local time:\", local_time)\n",
    "\n",
    "# UK time\n",
    "uk_tz = zoneinfo.ZoneInfo(\"Europe/London\")\n",
    "UK_time = local_time.astimezone(uk_tz)\n",
    "print(\"UK time:\", UK_time)\n",
    "\n",
    "# US time\n",
    "us_tz = zoneinfo.ZoneInfo(\"America/New_York\")\n",
    "US_time = local_time.astimezone(us_tz)\n",
    "print(\"US time:\", US_time)"
   ]
  },
  {
   "cell_type": "markdown",
   "metadata": {},
   "source": [
    "**time**"
   ]
  },
  {
   "cell_type": "code",
   "execution_count": null,
   "metadata": {},
   "outputs": [
    {
     "name": "stdout",
     "output_type": "stream",
     "text": [
      "Elapsed time: 0.2004847526550293 seconds\n"
     ]
    }
   ],
   "source": [
    "import time\n",
    "\n",
    "# Get current time\n",
    "start_time = time.time()\n",
    "\n",
    "# wait for 0.2 seconds\n",
    "time.sleep(0.2)\n",
    "\n",
    "# Calculate elapsed time\n",
    "elapsed_time = time.time() - start_time\n",
    "print(\"Elapsed time:\", elapsed_time, \"seconds\")"
   ]
  },
  {
   "cell_type": "markdown",
   "metadata": {},
   "source": [
    "**calendar**"
   ]
  },
  {
   "cell_type": "code",
   "execution_count": 7,
   "metadata": {},
   "outputs": [
    {
     "name": "stdout",
     "output_type": "stream",
     "text": [
      "    January 2025\n",
      "Mo Tu We Th Fr Sa Su\n",
      "       1  2  3  4  5\n",
      " 6  7  8  9 10 11 12\n",
      "13 14 15 16 17 18 19\n",
      "20 21 22 23 24 25 26\n",
      "27 28 29 30 31\n",
      "\n",
      "                                  2025\n",
      "\n",
      "      January                   February                   March\n",
      "Mo Tu We Th Fr Sa Su      Mo Tu We Th Fr Sa Su      Mo Tu We Th Fr Sa Su\n",
      "       1  2  3  4  5                      1  2                      1  2\n",
      " 6  7  8  9 10 11 12       3  4  5  6  7  8  9       3  4  5  6  7  8  9\n",
      "13 14 15 16 17 18 19      10 11 12 13 14 15 16      10 11 12 13 14 15 16\n",
      "20 21 22 23 24 25 26      17 18 19 20 21 22 23      17 18 19 20 21 22 23\n",
      "27 28 29 30 31            24 25 26 27 28            24 25 26 27 28 29 30\n",
      "                                                    31\n",
      "\n",
      "       April                      May                       June\n",
      "Mo Tu We Th Fr Sa Su      Mo Tu We Th Fr Sa Su      Mo Tu We Th Fr Sa Su\n",
      "    1  2  3  4  5  6                1  2  3  4                         1\n",
      " 7  8  9 10 11 12 13       5  6  7  8  9 10 11       2  3  4  5  6  7  8\n",
      "14 15 16 17 18 19 20      12 13 14 15 16 17 18       9 10 11 12 13 14 15\n",
      "21 22 23 24 25 26 27      19 20 21 22 23 24 25      16 17 18 19 20 21 22\n",
      "28 29 30                  26 27 28 29 30 31         23 24 25 26 27 28 29\n",
      "                                                    30\n",
      "\n",
      "        July                     August                  September\n",
      "Mo Tu We Th Fr Sa Su      Mo Tu We Th Fr Sa Su      Mo Tu We Th Fr Sa Su\n",
      "    1  2  3  4  5  6                   1  2  3       1  2  3  4  5  6  7\n",
      " 7  8  9 10 11 12 13       4  5  6  7  8  9 10       8  9 10 11 12 13 14\n",
      "14 15 16 17 18 19 20      11 12 13 14 15 16 17      15 16 17 18 19 20 21\n",
      "21 22 23 24 25 26 27      18 19 20 21 22 23 24      22 23 24 25 26 27 28\n",
      "28 29 30 31               25 26 27 28 29 30 31      29 30\n",
      "\n",
      "      October                   November                  December\n",
      "Mo Tu We Th Fr Sa Su      Mo Tu We Th Fr Sa Su      Mo Tu We Th Fr Sa Su\n",
      "       1  2  3  4  5                      1  2       1  2  3  4  5  6  7\n",
      " 6  7  8  9 10 11 12       3  4  5  6  7  8  9       8  9 10 11 12 13 14\n",
      "13 14 15 16 17 18 19      10 11 12 13 14 15 16      15 16 17 18 19 20 21\n",
      "20 21 22 23 24 25 26      17 18 19 20 21 22 23      22 23 24 25 26 27 28\n",
      "27 28 29 30 31            24 25 26 27 28 29 30      29 30 31\n",
      "\n",
      "False\n"
     ]
    }
   ],
   "source": [
    "import calendar\n",
    "# Print calendar for a specific month\n",
    "print(calendar.month(2025, 1))\n",
    "# Print calendar for a specific year\n",
    "print(calendar.calendar(2025))\n",
    "# Check if a year is a leap year\n",
    "print(calendar.isleap(2025))"
   ]
  },
  {
   "cell_type": "markdown",
   "metadata": {},
   "source": [
    "---"
   ]
  },
  {
   "cell_type": "markdown",
   "metadata": {},
   "source": [
    "- ### Data handling module"
   ]
  },
  {
   "cell_type": "markdown",
   "metadata": {},
   "source": [
    "**pickle**"
   ]
  },
  {
   "cell_type": "code",
   "execution_count": null,
   "metadata": {},
   "outputs": [
    {
     "name": "stdout",
     "output_type": "stream",
     "text": [
      "{'name': 'hello', 'age': 18}\n"
     ]
    }
   ],
   "source": [
    "import pickle\n",
    "data={\"name\":\"hello\", \"age\":18}  # dictionary\n",
    "with open(r\"test_pickle.pkl\", \"wb+\") as file:  # open file for writing in binary mode\n",
    "    pickle.dump(data, file)  # write dictionary to file\n",
    "    file.seek(0)  # move the file pointer to the beginning\n",
    "    read_data=pickle.load(file)  # read dictionary from file\n",
    "    print(read_data)  # print dictionary"
   ]
  },
  {
   "cell_type": "markdown",
   "metadata": {},
   "source": [
    "**json**"
   ]
  },
  {
   "cell_type": "code",
   "execution_count": 8,
   "metadata": {},
   "outputs": [
    {
     "name": "stdout",
     "output_type": "stream",
     "text": [
      "{'name': 'hello', 'age': 18}\n"
     ]
    }
   ],
   "source": [
    "import json\n",
    "data={\"name\":\"hello\", \"age\":18}  # dictionary\n",
    "with open(r\"test_json.json\", \"w+\", encoding=\"utf-8\") as file:  # open file for writing using row string, encoding utf-8\n",
    "    json.dump(data, file)  # write dictionary to file\n",
    "    file.seek(0)  # move the file pointer to the beginning\n",
    "    read_data=json.load(file)  # read dictionary from file\n",
    "    print(read_data)  # print dictionary"
   ]
  },
  {
   "cell_type": "markdown",
   "metadata": {},
   "source": [
    "**csv**"
   ]
  },
  {
   "cell_type": "code",
   "execution_count": 20,
   "metadata": {},
   "outputs": [],
   "source": [
    "import csv\n",
    "\n",
    "data1=[[1,2],[3,4],[5,6]]\n",
    "data2=[('a','b'),('c','d'),('e','f')]\n",
    "\n",
    "with open(r\"test.csv\", \"w+\", newline=\"\", encoding=\"utf-8\") as file:  # open file for writing using row string, encoding utf-8\n",
    "    writer=csv.writer(file)  # create a csv writer object\n",
    "    \n",
    "    writer.writerows(data1)  # write list of lists to file\n",
    "    writer.writerows(data2)  # write list of tuples to file\n",
    "    writer.writerow(data2)  # write list of tuples to file as a single row"
   ]
  },
  {
   "cell_type": "code",
   "execution_count": null,
   "metadata": {},
   "outputs": [
    {
     "name": "stdout",
     "output_type": "stream",
     "text": [
      "[['1', '2'], ['3', '4'], ['5', '6'], ['a', 'b'], ['c', 'd'], ['e', 'f'], [\"('a', 'b')\", \"('c', 'd')\", \"('e', 'f')\"]]\n"
     ]
    }
   ],
   "source": [
    "import csv\n",
    "\n",
    "with open(r\"test.csv\", \"r+\", newline=\"\", encoding=\"utf-8\") as file:  # open file for reading using row string, encoding utf-8\n",
    "    reader=csv.reader(file)  # create a csv reader object\n",
    "    data=list(reader)  # read all lines from file\n",
    "    print(data)  # print all lines"
   ]
  },
  {
   "cell_type": "code",
   "execution_count": 29,
   "metadata": {},
   "outputs": [],
   "source": [
    "import csv\n",
    "\n",
    "data = [\n",
    "    {'name': 'Alice', 'age': 30, 'city': 'New York'},\n",
    "    {'name': 'Bob', 'age': 25, 'city': 'Los Angeles'}\n",
    "]\n",
    "\n",
    "with open('test_dict.csv', 'w', newline='') as csvfile:\n",
    "    fieldnames = data[0].keys()  # or set a fixed list: ['name', 'age', 'city']\n",
    "    writer = csv.DictWriter(csvfile, fieldnames=fieldnames)\n",
    "    \n",
    "    writer.writeheader()\n",
    "    writer.writerows(data)\n"
   ]
  },
  {
   "cell_type": "code",
   "execution_count": null,
   "metadata": {},
   "outputs": [
    {
     "name": "stdout",
     "output_type": "stream",
     "text": [
      "[{'name': 'Alice', 'age': '30', 'city': 'New York'}, {'name': 'Bob', 'age': '25', 'city': 'Los Angeles'}]\n"
     ]
    }
   ],
   "source": [
    "import csv\n",
    "\n",
    "with open(r\"test_dict.csv\", \"r+\", newline=\"\", encoding=\"utf-8\") as file:  # open file for reading using row string, encoding utf-8\n",
    "    reader=csv.DictReader(file)  # create a csv reader object\n",
    "    data = list(reader)  # read all rows into a list\n",
    "    print(data)"
   ]
  },
  {
   "cell_type": "markdown",
   "metadata": {},
   "source": [
    "**zlib**"
   ]
  },
  {
   "cell_type": "code",
   "execution_count": null,
   "metadata": {},
   "outputs": [
    {
     "name": "stdout",
     "output_type": "stream",
     "text": [
      "b'witch which watch what why wharf'\n",
      "32\n",
      "b'x\\x9c+\\xcf,I\\xceP(\\xcf\\xc8\\x04\\x91\\x89\\x10vb\\t\\x90\\xa8\\x041\\x8a\\xd2\\x00\\xc7\\xdb\\x0c\\x0e'\n",
      "29\n",
      "b'witch which watch what why wharf'\n",
      "32\n"
     ]
    }
   ],
   "source": [
    "import zlib\n",
    "s=b'witch which watch what why wharf';print(s);print(len(s))\n",
    "s_compressed=zlib.compress(s);print(s_compressed);print(len(s_compressed))\n",
    "s_decompressed=zlib.decompress(s_compressed);print(s_decompressed);print(len(s_decompressed))"
   ]
  },
  {
   "cell_type": "markdown",
   "metadata": {},
   "source": [
    "**sqlite3**"
   ]
  },
  {
   "cell_type": "code",
   "execution_count": 54,
   "metadata": {},
   "outputs": [
    {
     "name": "stdout",
     "output_type": "stream",
     "text": [
      "[{'name': 'Alice', 'age': '30', 'city': 'New York'}, {'name': 'Bob', 'age': '25', 'city': 'Los Angeles'}]\n",
      "[('Alice', '30', 'New York'), ('Bob', '25', 'Los Angeles')]\n"
     ]
    }
   ],
   "source": [
    "import sqlite3\n",
    "import csv\n",
    "\n",
    "with open(r\"test_dict.csv\", \"r+\", newline=\"\", encoding=\"utf-8\") as file:  # open file for reading using row string, encoding utf-8\n",
    "    reader=csv.DictReader(file)  # create a csv reader object\n",
    "    data = [row for row in reader]  # read all rows into a list\n",
    "    key_order = data[0].keys()  # get the keys from the first dictionary\n",
    "    tu=[tuple(d[key] for key in key_order) for d in data]  # convert list of dictionaries to tuple of tuples\n",
    "    print(data)\n",
    "    print(tu)\n",
    "\n",
    "# Connect to DB\n",
    "conn = sqlite3.connect('test_database.db')\n",
    "cursor = conn.cursor()\n",
    "\n",
    "# Create table if needed\n",
    "cursor.execute('''\n",
    "CREATE TABLE IF NOT EXISTS users (\n",
    "    id INTEGER PRIMARY KEY AUTOINCREMENT,\n",
    "    name TEXT NOT NULL,\n",
    "    age INTEGER,\n",
    "    city TEXT\n",
    ")\n",
    "''')\n",
    "\n",
    "# Batch insert\n",
    "cursor.executemany('INSERT INTO users (name, age, city) VALUES (?, ?, ?)', tu)\n",
    "\n",
    "# Commit and close\n",
    "conn.commit()\n",
    "conn.close()\n"
   ]
  },
  {
   "cell_type": "code",
   "execution_count": 55,
   "metadata": {},
   "outputs": [
    {
     "name": "stdout",
     "output_type": "stream",
     "text": [
      "(1, 'Alice', 30, 'New York')\n",
      "(2, 'Bob', 25, 'Los Angeles')\n"
     ]
    }
   ],
   "source": [
    "import sqlite3\n",
    "\n",
    "conn = sqlite3.connect('test_database.db') # Connect to DB\n",
    "cursor = conn.cursor() # Create cursor\n",
    "\n",
    "cursor.execute('SELECT * FROM users') \n",
    "for row in cursor.fetchall():\n",
    "    print(row)\n",
    "\n",
    "conn.close()\n"
   ]
  },
  {
   "cell_type": "markdown",
   "metadata": {},
   "source": [
    "---"
   ]
  },
  {
   "cell_type": "markdown",
   "metadata": {},
   "source": [
    "- ### file & directory\n",
    "\n",
    "**os**"
   ]
  },
  {
   "cell_type": "code",
   "execution_count": 4,
   "metadata": {},
   "outputs": [
    {
     "name": "stdout",
     "output_type": "stream",
     "text": [
      "C:\\Users\\Taylor\\OneDrive\\Desktop\\code\\Python\\Notes\n",
      "['.git', 'Git', 'Markdown', 'output.txt', 'Pypi', 'README.md', 'Scripts', 'Syntax', 'test.md']\n"
     ]
    }
   ],
   "source": [
    "import os\n",
    "print(os.getcwd())  # get current working directory\n",
    "os.chdir(r\"C:\\Users\\Taylor\\OneDrive\\Desktop\\code\\Python\\Notes\")  # change directory\n",
    "print(os.listdir())  # list files in directory\n",
    "os.mkdir(\"new_folder\")  # create directory\n",
    "os.rename(\"new_folder\", \"folder\")  # rename directory\n",
    "os.makedirs(\"new_folder/sub_folder\")  # create directory and subdirectory"
   ]
  },
  {
   "cell_type": "code",
   "execution_count": 5,
   "metadata": {},
   "outputs": [
    {
     "name": "stdout",
     "output_type": "stream",
     "text": [
      "True\n"
     ]
    }
   ],
   "source": [
    "import os,stat\n",
    "print(os.access('new_folder', os.W_OK))  # check if file is executable\n",
    "os.chmod('new_folder', stat.S_IWRITE) # change permission to read and write\n",
    "os.chmod('new_folder/sub_folder', stat.S_IWRITE) # change permission to read and write\n",
    "os.chmod('folder', stat.S_IWRITE) # change permission to read and write\n",
    "os.rmdir('folder')  # remove directory\n",
    "os.removedirs('new_folder/sub_folder')  # remove directory and subdirectory"
   ]
  },
  {
   "cell_type": "code",
   "execution_count": 6,
   "metadata": {},
   "outputs": [
    {
     "name": "stdout",
     "output_type": "stream",
     "text": [
      "C:\\Users\\Taylor\\OneDrive\\Desktop\\code\\Python\\Notes\\Syntax [] ['data_type.ipynb', 'error.ipynb', 'function.ipynb', 'input-output.ipynb', 'magic.ipynb', 'module.ipynb', 'numerical.ipynb', 'Object_oriented.ipynb', 'operation.ipynb', 'statement.ipynb', 'test.md', 'test_json.json', 'test_pickle.pkl']\n"
     ]
    }
   ],
   "source": [
    "import os\n",
    "os.chdir(r\"C:\\Users\\Taylor\\OneDrive\\Desktop\\code\\Python\\Notes\\Syntax\")  # change directory\n",
    "for dirpath, dirnames, filenames in os.walk(os.getcwd()):  # walk through directory\n",
    "    print(dirpath, dirnames, filenames)"
   ]
  },
  {
   "cell_type": "markdown",
   "metadata": {},
   "source": [
    "**os.path**"
   ]
  },
  {
   "cell_type": "code",
   "execution_count": 8,
   "metadata": {},
   "outputs": [
    {
     "name": "stdout",
     "output_type": "stream",
     "text": [
      "C:\\Users\\Taylor\\OneDrive\\Desktop\\code\\Python\\Notes\\Syntax\n",
      "C:\\Users\\Taylor\\OneDrive\\Desktop\\code\\Python\\Notes\\Syntax\\test.md\n",
      "True\n",
      "True\n",
      "False\n",
      "C:\\Users\\Taylor\\OneDrive\\Desktop\\code\\Python\\Notes\\Syntax\\test.md\n"
     ]
    }
   ],
   "source": [
    "import os\n",
    "print(os.getcwd())  # get current working directory\n",
    "cdir=r\"C:\\Users\\Taylor\\OneDrive\\Desktop\\code\\Python\\Notes\\Syntax\"\n",
    "os.chdir(cdir)  # change directory\n",
    "print(os.path.join(cdir, 'test.md'))  # join path\n",
    "print(os.path.exists('test.md'))  # check if file exists\n",
    "print(os.path.isfile('test.md'))  # check if file is a file\n",
    "print(os.path.isdir('test.md'))  # check if file is a directory\n",
    "print(os.path.abspath('test.md'))  # get absolute path"
   ]
  },
  {
   "cell_type": "markdown",
   "metadata": {},
   "source": [
    "**os.environ**"
   ]
  },
  {
   "cell_type": "code",
   "execution_count": 1,
   "metadata": {},
   "outputs": [
    {
     "name": "stdout",
     "output_type": "stream",
     "text": [
      "C:\\Users\\Taylor\\OneDrive\\Desktop\\code\\Python\\Notes\n",
      "ALLUSERSPROFILE C:\\ProgramData\n",
      "APPDATA C:\\Users\\Taylor\\AppData\\Roaming\n",
      "CHROME_CRASHPAD_PIPE_NAME \\\\.\\pipe\\crashpad_8304_PRXIGLDCBRHWKXRB\n",
      "COMMONPROGRAMFILES C:\\Program Files\\Common Files\n",
      "COMMONPROGRAMFILES(X86) C:\\Program Files (x86)\\Common Files\n",
      "COMMONPROGRAMW6432 C:\\Program Files\\Common Files\n",
      "COMPUTERNAME LAPTOP-160GFFEC\n",
      "COMSPEC C:\\WINDOWS\\system32\\cmd.exe\n",
      "DRIVERDATA C:\\Windows\\System32\\Drivers\\DriverData\n",
      "ELECTRON_RUN_AS_NODE 1\n",
      "HOMEDRIVE C:\n",
      "HOMEPATH \\Users\\Taylor\n",
      "IGCCSVC_DB AQAAANCMnd8BFdERjHoAwE/Cl+sBAAAAgbQQYPCEY0CadL0JENljjgQAAAACAAAAAAAQZgAAAAEAACAAAADK3CHumjPa+vdkhQBlZTaQGfMEN9OAjmSJ6MIjnHkBaAAAAAAOgAAAAAIAACAAAAALaPbjwveWjtr5YuUclgcQQ2I1bno5fsgbySCq0AcPw2AAAADdFM7UEovfF7Z4MMFsqch4F2qpkKVubrfnGz1FObLrDhB7iBUtP8BsaJhg47g2ffAaOM2XdQENGkOBs1O6kT0VXJBxNcGTmktbthDHCdjvtN/IoNLYAyOmv0AoD/uRU8hAAAAAXbaSdd14SiJwzNlHeGx/13OsgyAeVOvxyRdl5UrixgfplOjx2SRdtWkB7iDkTsua1pD+K5H/4iWolVez2ealYA==\n",
      "JPY_INTERRUPT_EVENT 1116\n",
      "LOCALAPPDATA C:\\Users\\Taylor\\AppData\\Local\n",
      "LOGONSERVER \\\\LAPTOP-160GFFEC\n",
      "NUMBER_OF_PROCESSORS 16\n",
      "ONEDRIVE C:\\Users\\Taylor\\OneDrive\n",
      "ONEDRIVECONSUMER C:\\Users\\Taylor\\OneDrive\n",
      "ONLINESERVICES Online Services\n",
      "ORIGINAL_XDG_CURRENT_DESKTOP undefined\n",
      "OS Windows_NT\n",
      "PATH C:\\Users\\Taylor\\OneDrive\\Desktop\\code\\Python\\Notes\n",
      "PATHEXT .COM;.EXE;.BAT;.CMD;.VBS;.VBE;.JS;.JSE;.WSF;.WSH;.MSC;.PY;.PYW\n",
      "PLATFORMCODE KV\n",
      "PROCESSOR_ARCHITECTURE AMD64\n",
      "PROCESSOR_IDENTIFIER Intel64 Family 6 Model 186 Stepping 2, GenuineIntel\n",
      "PROCESSOR_LEVEL 6\n",
      "PROCESSOR_REVISION ba02\n",
      "PROGRAMDATA C:\\ProgramData\n",
      "PROGRAMFILES C:\\Program Files\n",
      "PROGRAMFILES(X86) C:\\Program Files (x86)\n",
      "PROGRAMW6432 C:\\Program Files\n",
      "PSMODULEPATH C:\\Program Files\\WindowsPowerShell\\Modules;C:\\WINDOWS\\system32\\WindowsPowerShell\\v1.0\\Modules\n",
      "PUBLIC C:\\Users\\Public\n",
      "PYDEVD_IPYTHON_COMPATIBLE_DEBUGGING 1\n",
      "PYTHONIOENCODING utf-8\n",
      "PYTHONUNBUFFERED 1\n",
      "PYTHON_FROZEN_MODULES on\n",
      "REGIONCODE APJ\n",
      "SYSTEMDRIVE C:\n",
      "SYSTEMROOT C:\\WINDOWS\n",
      "TEMP C:\\Users\\Taylor\\AppData\\Local\\Temp\n",
      "TMP C:\\Users\\Taylor\\AppData\\Local\\Temp\n",
      "USERDOMAIN LAPTOP-160GFFEC\n",
      "USERDOMAIN_ROAMINGPROFILE LAPTOP-160GFFEC\n",
      "USERNAME Taylor\n",
      "USERPROFILE C:\\Users\\Taylor\n",
      "VSCODE_CODE_CACHE_PATH C:\\Users\\Taylor\\AppData\\Roaming\\Code\\CachedData\\e54c774e0add60467559eb0d1e229c6452cf8447\n",
      "VSCODE_CRASH_REPORTER_PROCESS_TYPE extensionHost\n",
      "VSCODE_CWD D:\\Program Files\\Microsoft VS Code\n",
      "VSCODE_ESM_ENTRYPOINT vs/workbench/api/node/extensionHostProcess\n",
      "VSCODE_HANDLES_UNCAUGHT_ERRORS true\n",
      "VSCODE_IPC_HOOK \\\\.\\pipe\\cd490763-1.97.2-main-sock\n",
      "VSCODE_L10N_BUNDLE_LOCATION \n",
      "VSCODE_NLS_CONFIG {\"userLocale\":\"en-us\",\"osLocale\":\"zh-cn\",\"resolvedLanguage\":\"en\",\"defaultMessagesFile\":\"D:\\\\Program Files\\\\Microsoft VS Code\\\\resources\\\\app\\\\out\\\\nls.messages.json\",\"locale\":\"en-us\",\"availableLanguages\":{}}\n",
      "VSCODE_PID 8304\n",
      "WINDIR C:\\WINDOWS\n",
      "ZES_ENABLE_SYSMAN 1\n",
      "__COMPAT_LAYER RunAsAdmin\n",
      "PYDEVD_USE_FRAME_EVAL NO\n",
      "TERM xterm-color\n",
      "CLICOLOR 1\n",
      "FORCE_COLOR 1\n",
      "CLICOLOR_FORCE 1\n",
      "PAGER cat\n",
      "GIT_PAGER cat\n",
      "MPLBACKEND module://matplotlib_inline.backend_inline\n"
     ]
    }
   ],
   "source": [
    "import os\n",
    "os.environ['PATH'] = r\"C:\\Users\\Taylor\\OneDrive\\Desktop\\code\\Python\\Notes\"  # set environment variable\n",
    "print(os.environ['PATH'])  # get environment variable\n",
    "\n",
    "for key,value in os.environ.items():  # iterate through environment variables\n",
    "    print(key, value)  # print key and value"
   ]
  },
  {
   "cell_type": "markdown",
   "metadata": {},
   "source": [
    "**shutil**"
   ]
  },
  {
   "cell_type": "code",
   "execution_count": 5,
   "metadata": {},
   "outputs": [
    {
     "data": {
      "text/plain": [
       "'C:\\\\Users\\\\Taylor\\\\OneDrive\\\\Desktop\\\\code\\\\Python\\\\Notes\\\\test.md'"
      ]
     },
     "execution_count": 5,
     "metadata": {},
     "output_type": "execute_result"
    }
   ],
   "source": [
    "import shutil           \n",
    "shutil.copy(r\"C:\\Users\\Taylor\\OneDrive\\Desktop\\code\\Python\\Notes\\Syntax\\test.md\", r\"C:\\Users\\Taylor\\OneDrive\\Desktop\\code\\Python\\Notes\\Git\")  # copy file\n",
    "shutil.move(r\"C:\\Users\\Taylor\\OneDrive\\Desktop\\code\\Python\\Notes\\Git\\test.md\", r\"C:\\Users\\Taylor\\OneDrive\\Desktop\\code\\Python\\Notes\")  # move file"
   ]
  },
  {
   "cell_type": "markdown",
   "metadata": {},
   "source": [
    "**glob**"
   ]
  },
  {
   "cell_type": "code",
   "execution_count": 2,
   "metadata": {},
   "outputs": [
    {
     "data": {
      "text/plain": [
       "['C:\\\\Users\\\\Taylor\\\\OneDrive\\\\Desktop\\\\code\\\\Python\\\\Notes\\\\README.md',\n",
       " 'C:\\\\Users\\\\Taylor\\\\OneDrive\\\\Desktop\\\\code\\\\Python\\\\Notes\\\\test.md']"
      ]
     },
     "execution_count": 2,
     "metadata": {},
     "output_type": "execute_result"
    }
   ],
   "source": [
    "import glob\n",
    "#file wildcard\n",
    "glob.glob(r\"C:\\Users\\Taylor\\OneDrive\\Desktop\\code\\Python\\Notes\\*.md\")  # get all files with .md extension"
   ]
  },
  {
   "cell_type": "markdown",
   "metadata": {},
   "source": [
    "---"
   ]
  },
  {
   "cell_type": "markdown",
   "metadata": {},
   "source": [
    "- ### Internet & networking module\n",
    "\n",
    "**urlib**"
   ]
  },
  {
   "cell_type": "code",
   "execution_count": 35,
   "metadata": {},
   "outputs": [
    {
     "name": "stdout",
     "output_type": "stream",
     "text": [
      "ParseResult(scheme='https', netloc='www.example.com', path='', params='', query='', fragment='') \n",
      "\n",
      "<!doctype html>\n",
      "<html>\n",
      "<head>\n",
      "    <title>Example Domain</title>\n",
      "\n",
      "    <meta charset=\"utf-8\" />\n",
      "    <meta http-equiv=\"Content-type\" content=\"text/html; charset=utf-8\" />\n",
      "    <meta name=\"viewport\" content=\"width=device-width, initial-scale=1\" />\n",
      "    <style type=\"text/css\">\n",
      "    body {\n",
      "        background-color: #f0f0f2;\n",
      "        margin: 0;\n",
      "        padding: 0;\n",
      "        font-family: -apple-system, system-ui, BlinkMacSystemFont, \"Segoe UI\", \"Open Sans\", \"Helvetica Neue\", Helvetica, Arial, sans-serif;\n",
      "        \n",
      "    }\n",
      "    div {\n",
      "        width: 600px;\n",
      "        margin: 5em auto;\n",
      "        padding: 2em;\n",
      "        background-color: #fdfdff;\n",
      "        border-radius: 0.5em;\n",
      "        box-shadow: 2px 3px 7px 2px rgba(0,0,0,0.02);\n",
      "    }\n",
      "    a:link, a:visited {\n",
      "        color: #38488f;\n",
      "        text-decoration: none;\n",
      "    }\n",
      "    @media (max-width: 700px) {\n",
      "        div {\n",
      "            margin: 0 auto;\n",
      "            width: auto;\n",
      "        }\n",
      "    }\n",
      "    </style>    \n",
      "</head>\n",
      "\n",
      "<body>\n",
      "<div>\n",
      "    <h1>Example Domain</h1>\n",
      "    <p>This domain is for use in illustrative examples in documents. You may use this\n",
      "    domain in literature without prior coordination or asking for permission.</p>\n",
      "    <p><a href=\"https://www.iana.org/domains/example\">More information...</a></p>\n",
      "</div>\n",
      "</body>\n",
      "</html>\n",
      "\n"
     ]
    }
   ],
   "source": [
    "from urllib.request import urlopen\n",
    "from urllib.parse import urlparse\n",
    "\n",
    "url = 'https://www.example.com'\n",
    "\n",
    "parsed = urlparse(url)\n",
    "print(parsed,'\\n')\n",
    "\n",
    "response = urlopen(url)\n",
    "data = response.read().decode()  # read line from url\n",
    "print(data)  # read data from url\n"
   ]
  },
  {
   "cell_type": "markdown",
   "metadata": {},
   "source": [
    "**web scraping**"
   ]
  },
  {
   "cell_type": "code",
   "execution_count": 3,
   "metadata": {},
   "outputs": [],
   "source": [
    "%%capture\n",
    "%pip install requests beautifulsoup4"
   ]
  },
  {
   "cell_type": "code",
   "execution_count": 37,
   "metadata": {},
   "outputs": [
    {
     "name": "stdout",
     "output_type": "stream",
     "text": [
      "A Light in the Attic - Â£51.77\n",
      "Tipping the Velvet - Â£53.74\n",
      "Soumission - Â£50.10\n",
      "Sharp Objects - Â£47.82\n",
      "Sapiens: A Brief History of Humankind - Â£54.23\n",
      "The Requiem Red - Â£22.65\n",
      "The Dirty Little Secrets of Getting Your Dream Job - Â£33.34\n",
      "The Coming Woman: A Novel Based on the Life of the Infamous Feminist, Victoria Woodhull - Â£17.93\n",
      "The Boys in the Boat: Nine Americans and Their Epic Quest for Gold at the 1936 Berlin Olympics - Â£22.60\n",
      "The Black Maria - Â£52.15\n",
      "Starving Hearts (Triangular Trade Trilogy, #1) - Â£13.99\n",
      "Shakespeare's Sonnets - Â£20.66\n",
      "Set Me Free - Â£17.46\n",
      "Scott Pilgrim's Precious Little Life (Scott Pilgrim #1) - Â£52.29\n",
      "Rip it Up and Start Again - Â£35.02\n",
      "Our Band Could Be Your Life: Scenes from the American Indie Underground, 1981-1991 - Â£57.25\n",
      "Olio - Â£23.88\n",
      "Mesaerion: The Best Science Fiction Stories 1800-1849 - Â£37.59\n",
      "Libertarianism for Beginners - Â£51.33\n",
      "It's Only the Himalayas - Â£45.17\n"
     ]
    }
   ],
   "source": [
    "from bs4 import BeautifulSoup\n",
    "import requests\n",
    "\n",
    "# Target URL\n",
    "url = 'https://books.toscrape.com/catalogue/page-1.html'\n",
    "\n",
    "# Fetch the webpage\n",
    "response = requests.get(url)\n",
    "soup = BeautifulSoup(response.text, 'html.parser')\n",
    "\n",
    "# Find all products\n",
    "products = soup.find_all('article', class_='product_pod')\n",
    "\n",
    "# Loop through each product\n",
    "for product in products:\n",
    "    title = product.h3.a['title']   # Product name\n",
    "    price = product.find('p', class_='price_color').text  # Product price\n",
    "    print(f\"{title} - {price}\")"
   ]
  },
  {
   "cell_type": "markdown",
   "metadata": {},
   "source": [
    "---"
   ]
  },
  {
   "cell_type": "markdown",
   "metadata": {},
   "source": [
    "- ### Email module\n",
    "\n",
    "**smtplib**"
   ]
  },
  {
   "cell_type": "code",
   "execution_count": null,
   "metadata": {},
   "outputs": [],
   "source": [
    "import smtplib\n",
    "\n",
    "# Email configuration\n",
    "sender_email=\"sender_email\" # Replace with your email\n",
    "receiver_email=\"receiver_email\" # Replace with receiver email\n",
    "password=\"password\"  # Replace with your email password\n",
    "\n",
    "# Email content\n",
    "subject = \"Test Email from python\"\n",
    "body = \"Hi:\\n\\n  This is a test email sent from Python.\"\n",
    "sign =\"Best regards,\\nTom\"\n",
    "message = f\"Subject: {subject}\\n\\n{body}\\n\\n{sign}\"\n",
    "\n",
    "# Send email\n",
    "try:\n",
    "    with smtplib.SMTP('smtp.126.com') as server:\n",
    "        server.starttls()  # Upgrade to a secure connection\n",
    "        server.login(sender_email, password)\n",
    "        server.sendmail(sender_email, receiver_email, message)\n",
    "    print(\"Email sent successfully!\")\n",
    "except Exception as e:\n",
    "    print(f\"Error: {e}\")"
   ]
  },
  {
   "cell_type": "markdown",
   "metadata": {},
   "source": [
    "---"
   ]
  },
  {
   "cell_type": "markdown",
   "metadata": {},
   "source": [
    "- ### Utilities & tools"
   ]
  },
  {
   "cell_type": "markdown",
   "metadata": {},
   "source": [
    "**sys**"
   ]
  },
  {
   "cell_type": "code",
   "execution_count": null,
   "metadata": {},
   "outputs": [
    {
     "name": "stdout",
     "output_type": "stream",
     "text": [
      "['d:\\\\Program Files\\\\Python\\\\Python313\\\\python313.zip', 'd:\\\\Program Files\\\\Python\\\\Python313\\\\DLLs', 'd:\\\\Program Files\\\\Python\\\\Python313\\\\Lib', 'd:\\\\Program Files\\\\Python\\\\Python313', '', 'C:\\\\Users\\\\Taylor\\\\AppData\\\\Roaming\\\\Python\\\\Python313\\\\site-packages', 'C:\\\\Users\\\\Taylor\\\\AppData\\\\Roaming\\\\Python\\\\Python313\\\\site-packages\\\\win32', 'C:\\\\Users\\\\Taylor\\\\AppData\\\\Roaming\\\\Python\\\\Python313\\\\site-packages\\\\win32\\\\lib', 'C:\\\\Users\\\\Taylor\\\\AppData\\\\Roaming\\\\Python\\\\Python313\\\\site-packages\\\\Pythonwin', 'd:\\\\Program Files\\\\Python\\\\Python313\\\\Lib\\\\site-packages']\n",
      "['C:\\\\Users\\\\Taylor\\\\AppData\\\\Roaming\\\\Python\\\\Python313\\\\site-packages\\\\ipykernel_launcher.py', '--f=c:\\\\Users\\\\Taylor\\\\AppData\\\\Roaming\\\\jupyter\\\\runtime\\\\kernel-v3c1edcd2ff9aad6734b7ab2b81edb824614f642a3.json']\n"
     ]
    }
   ],
   "source": [
    "import sys\n",
    "print(sys.path)  # print path\n",
    "print(sys.argv)  # print arguments"
   ]
  },
  {
   "cell_type": "markdown",
   "metadata": {},
   "source": [
    "**sys.stdin, sys.stdout, sys.stderr**"
   ]
  },
  {
   "cell_type": "code",
   "execution_count": null,
   "metadata": {},
   "outputs": [],
   "source": [
    "#package the following codes to the terminal\n",
    "#run *filename*.py in cmd or powershell"
   ]
  },
  {
   "cell_type": "code",
   "execution_count": null,
   "metadata": {},
   "outputs": [],
   "source": [
    "import sys\n",
    "message=sys.stdin.readline()  # read from standard input\n",
    "print(message) # print message"
   ]
  },
  {
   "cell_type": "code",
   "execution_count": null,
   "metadata": {},
   "outputs": [],
   "source": [
    "import sys\n",
    "sys.stdout.write(\"Hello world!\\n\")  # write to standard output"
   ]
  },
  {
   "cell_type": "code",
   "execution_count": null,
   "metadata": {},
   "outputs": [],
   "source": [
    "import sys\n",
    "with open(\"output.txt\", \"w\") as f: # open file for writing\n",
    "    sys.stdout = f # redirect standard output to file\n",
    "    print(\"This goes into the file!\")"
   ]
  },
  {
   "cell_type": "code",
   "execution_count": null,
   "metadata": {},
   "outputs": [],
   "source": [
    "import sys\n",
    "sys.stderr.write(\"This is an error message!\\n\") # write to standard error"
   ]
  }
 ],
 "metadata": {
  "kernelspec": {
   "display_name": "Python 3",
   "language": "python",
   "name": "python3"
  },
  "language_info": {
   "codemirror_mode": {
    "name": "ipython",
    "version": 3
   },
   "file_extension": ".py",
   "mimetype": "text/x-python",
   "name": "python",
   "nbconvert_exporter": "python",
   "pygments_lexer": "ipython3",
   "version": "3.13.2"
  }
 },
 "nbformat": 4,
 "nbformat_minor": 2
}
