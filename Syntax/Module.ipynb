{
 "cells": [
  {
   "cell_type": "markdown",
   "metadata": {},
   "source": [
    "- ### Module\n",
    "\n",
    "1. Standard module\n",
    "\n",
    "**math, random, os, sys, datetime, re, itertools, functools...**\n",
    "\n",
    "2. site-packages (installed by pip)\n",
    "\n",
    "**package names are recongnized by:** \n",
    "\n",
    "`__init__.py`\n",
    "\n",
    "**in the above file, functions are claimed by:**\n",
    "\n",
    "`__all__=[funct1,...,functn]`\n",
    "\n",
    "**divert in effects when running as main or imported:**\n",
    "\n",
    "`if __name__=\"__main__\":` \n",
    "\n",
    "---"
   ]
  },
  {
   "cell_type": "markdown",
   "metadata": {},
   "source": [
    "- ### import module"
   ]
  },
  {
   "cell_type": "markdown",
   "metadata": {},
   "source": [
    "**import *module* (as *modnickname*)**"
   ]
  },
  {
   "cell_type": "code",
   "execution_count": 1,
   "metadata": {},
   "outputs": [
    {
     "name": "stdout",
     "output_type": "stream",
     "text": [
      "3.141592653589793\n"
     ]
    }
   ],
   "source": [
    "import math  # import module\n",
    "print(math.pi)"
   ]
  },
  {
   "cell_type": "markdown",
   "metadata": {},
   "source": [
    "**from *module* import *\\* / funct* (as *functnickname*)**"
   ]
  },
  {
   "cell_type": "code",
   "execution_count": 2,
   "metadata": {},
   "outputs": [
    {
     "name": "stdout",
     "output_type": "stream",
     "text": [
      "3.141592653589793\n"
     ]
    }
   ],
   "source": [
    "from math import *  # import all functions from math module\n",
    "print(pi)"
   ]
  },
  {
   "cell_type": "code",
   "execution_count": 3,
   "metadata": {},
   "outputs": [
    {
     "name": "stdout",
     "output_type": "stream",
     "text": [
      "3.141592653589793\n"
     ]
    }
   ],
   "source": [
    "from math import pi as PI  # from module import *name* as *nickname*\n",
    "print(PI)"
   ]
  },
  {
   "cell_type": "markdown",
   "metadata": {},
   "source": [
    "**funct & attribution directory**"
   ]
  },
  {
   "cell_type": "code",
   "execution_count": 15,
   "metadata": {},
   "outputs": [
    {
     "data": {
      "text/plain": [
       "['__doc__',\n",
       " '__loader__',\n",
       " '__name__',\n",
       " '__package__',\n",
       " '__spec__',\n",
       " 'acos',\n",
       " 'acosh',\n",
       " 'asin',\n",
       " 'asinh',\n",
       " 'atan',\n",
       " 'atan2',\n",
       " 'atanh',\n",
       " 'cbrt',\n",
       " 'ceil',\n",
       " 'comb',\n",
       " 'copysign',\n",
       " 'cos',\n",
       " 'cosh',\n",
       " 'degrees',\n",
       " 'dist',\n",
       " 'e',\n",
       " 'erf',\n",
       " 'erfc',\n",
       " 'exp',\n",
       " 'exp2',\n",
       " 'expm1',\n",
       " 'fabs',\n",
       " 'factorial',\n",
       " 'floor',\n",
       " 'fma',\n",
       " 'fmod',\n",
       " 'frexp',\n",
       " 'fsum',\n",
       " 'gamma',\n",
       " 'gcd',\n",
       " 'hypot',\n",
       " 'inf',\n",
       " 'isclose',\n",
       " 'isfinite',\n",
       " 'isinf',\n",
       " 'isnan',\n",
       " 'isqrt',\n",
       " 'lcm',\n",
       " 'ldexp',\n",
       " 'lgamma',\n",
       " 'log',\n",
       " 'log10',\n",
       " 'log1p',\n",
       " 'log2',\n",
       " 'modf',\n",
       " 'nan',\n",
       " 'nextafter',\n",
       " 'perm',\n",
       " 'pi',\n",
       " 'pow',\n",
       " 'prod',\n",
       " 'radians',\n",
       " 'remainder',\n",
       " 'sin',\n",
       " 'sinh',\n",
       " 'sqrt',\n",
       " 'sumprod',\n",
       " 'tan',\n",
       " 'tanh',\n",
       " 'tau',\n",
       " 'trunc',\n",
       " 'ulp']"
      ]
     },
     "execution_count": 15,
     "metadata": {},
     "output_type": "execute_result"
    }
   ],
   "source": [
    "import math\n",
    "dir(math)  # list all functions in math module"
   ]
  },
  {
   "cell_type": "markdown",
   "metadata": {},
   "source": [
    "---\n",
    "- ### Math module"
   ]
  },
  {
   "cell_type": "markdown",
   "metadata": {},
   "source": [
    "**operation**"
   ]
  },
  {
   "cell_type": "code",
   "execution_count": 5,
   "metadata": {},
   "outputs": [
    {
     "name": "stdout",
     "output_type": "stream",
     "text": [
      "3\n",
      "3.14\n",
      "4\n",
      "3\n",
      "(0.14158999999999988, 3.0)\n",
      "1 3\n",
      "6\n",
      "6\n"
     ]
    }
   ],
   "source": [
    "from math import *\n",
    "print(abs(-3))  # absolute value\n",
    "print(round(3.14159,2))  # round to 2 decimal places\n",
    "print(ceil(3.14159))  # round up\n",
    "print(floor(3.14159))  # round down\n",
    "print(modf(3.14159))  # split into integer and decimal parts\n",
    "print(min(1,2,3),max(1,2,3))  # minimum\n",
    "print(sum([1,2,3]))  # sum\n",
    "print(prod([1,2,3]))  # product"
   ]
  },
  {
   "cell_type": "code",
   "execution_count": 14,
   "metadata": {},
   "outputs": [
    {
     "name": "stdout",
     "output_type": "stream",
     "text": [
      "4.0\n",
      "8\n",
      "2.718281828459045\n",
      "2.718281828459045\n",
      "1.0\n"
     ]
    }
   ],
   "source": [
    "from math import e,sqrt,exp,log,log10\n",
    "print(sqrt(16))  # square root\n",
    "print(pow(2,3))  # 2^3\n",
    "print(exp(1))  # e^1\n",
    "print(log(exp(e)))  # ln(e^1)\n",
    "print(log10(10))  # log base 10"
   ]
  },
  {
   "cell_type": "code",
   "execution_count": 91,
   "metadata": {},
   "outputs": [
    {
     "name": "stdout",
     "output_type": "stream",
     "text": [
      "0.8660254037844386 0.5000000000000001 1.7320508075688767\n",
      "0.0 0.0 -0.7853981633974483\n",
      "59.99999999999999 1.0471975511965976\n",
      "5.0\n"
     ]
    }
   ],
   "source": [
    "print(sin(pi/3),cos(pi/3),tan(pi/3))  # sin(π/3),cos(π/3)\n",
    "print(asin(0),acos(1),atan(-1))  # tan(π/3)\n",
    "print(degrees(pi/3),radians(60))  # convert between degrees and radians\n",
    "print(hypot(3,4))  # sqrt(3^2+4^2)"
   ]
  },
  {
   "cell_type": "markdown",
   "metadata": {},
   "source": [
    "---"
   ]
  },
  {
   "cell_type": "markdown",
   "metadata": {},
   "source": [
    "- ### Random module\n",
    "\n",
    "**random integer/float**"
   ]
  },
  {
   "cell_type": "code",
   "execution_count": 77,
   "metadata": {},
   "outputs": [
    {
     "name": "stdout",
     "output_type": "stream",
     "text": [
      "9\n",
      "7\n",
      "8\n",
      "0.813351507162973\n",
      "4.729820669551948\n"
     ]
    }
   ],
   "source": [
    "import random\n",
    "print(random.choice(range(1,10,2)))  # random choice\n",
    "print(random.randrange(1,10,2))  # random integer\n",
    "print(random.randint(1,10))  # random integer\n",
    "print(random.random())  # random float 0<x<1\n",
    "print(random.uniform(1,10))  # random float"
   ]
  }
 ],
 "metadata": {
  "kernelspec": {
   "display_name": "Python 3",
   "language": "python",
   "name": "python3"
  },
  "language_info": {
   "codemirror_mode": {
    "name": "ipython",
    "version": 3
   },
   "file_extension": ".py",
   "mimetype": "text/x-python",
   "name": "python",
   "nbconvert_exporter": "python",
   "pygments_lexer": "ipython3",
   "version": "3.13.2"
  }
 },
 "nbformat": 4,
 "nbformat_minor": 2
}
