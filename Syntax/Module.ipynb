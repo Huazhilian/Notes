{
 "cells": [
  {
   "cell_type": "markdown",
   "metadata": {},
   "source": [
    "- ### Module\n",
    "\n",
    "1. Standard module\n",
    "\n",
    "**maths:** \n",
    "\n",
    "math, random, statistics\n",
    "\n",
    "**file & directory:**\n",
    "\n",
    "os, shutil, glob\n",
    "\n",
    "**data Handling:**\n",
    "\n",
    "json, csv, pickle, sqlite3, zlib\n",
    "\n",
    "**date & time:**\n",
    "\n",
    "time, datetime, calendar\n",
    "\n",
    "**internet & networking:**\n",
    "\n",
    "urllib, http, socket\n",
    "\n",
    "**email:**\n",
    "\n",
    "stmptlib\n",
    "\n",
    "**utilities & tools:**\n",
    "\n",
    "itertools, functools, sys, re\n",
    "\n",
    "2. Site-packages (installed by pip)\n",
    "\n",
    "**package names are recongnized by:** \n",
    "\n",
    "`__init__.py`\n",
    "\n",
    "**in the above file, functions are claimed by:**\n",
    "\n",
    "`__all__=[funct1,...,functn]`\n",
    "\n",
    "**divert in effects when running as main or imported:**\n",
    "\n",
    "`if __name__=\"__main__\":` \n",
    "\n",
    "---"
   ]
  },
  {
   "cell_type": "markdown",
   "metadata": {},
   "source": [
    "- ### import module"
   ]
  },
  {
   "cell_type": "markdown",
   "metadata": {},
   "source": [
    "**import *module* (as *modnickname*)**"
   ]
  },
  {
   "cell_type": "code",
   "execution_count": 1,
   "metadata": {},
   "outputs": [
    {
     "name": "stdout",
     "output_type": "stream",
     "text": [
      "3.141592653589793\n"
     ]
    }
   ],
   "source": [
    "import math  # import module\n",
    "print(math.pi)"
   ]
  },
  {
   "cell_type": "markdown",
   "metadata": {},
   "source": [
    "**from *module* import *\\* / funct* (as *functnickname*)**"
   ]
  },
  {
   "cell_type": "code",
   "execution_count": 2,
   "metadata": {},
   "outputs": [
    {
     "name": "stdout",
     "output_type": "stream",
     "text": [
      "3.141592653589793\n"
     ]
    }
   ],
   "source": [
    "from math import *  # import all functions from math module\n",
    "print(pi)"
   ]
  },
  {
   "cell_type": "code",
   "execution_count": 3,
   "metadata": {},
   "outputs": [
    {
     "name": "stdout",
     "output_type": "stream",
     "text": [
      "3.141592653589793\n"
     ]
    }
   ],
   "source": [
    "from math import pi as PI  # from module import *name* as *nickname*\n",
    "print(PI)"
   ]
  },
  {
   "cell_type": "markdown",
   "metadata": {},
   "source": [
    "**funct & attribution directory**"
   ]
  },
  {
   "cell_type": "code",
   "execution_count": 5,
   "metadata": {},
   "outputs": [
    {
     "name": "stdout",
     "output_type": "stream",
     "text": [
      "['__doc__', '__loader__', '__name__', '__package__', '__spec__', 'acos', 'acosh', 'asin', 'asinh', 'atan', 'atan2', 'atanh', 'cbrt', 'ceil', 'comb', 'copysign', 'cos', 'cosh', 'degrees', 'dist', 'e', 'erf', 'erfc', 'exp', 'exp2', 'expm1', 'fabs', 'factorial', 'floor', 'fma', 'fmod', 'frexp', 'fsum', 'gamma', 'gcd', 'hypot', 'inf', 'isclose', 'isfinite', 'isinf', 'isnan', 'isqrt', 'lcm', 'ldexp', 'lgamma', 'log', 'log10', 'log1p', 'log2', 'modf', 'nan', 'nextafter', 'perm', 'pi', 'pow', 'prod', 'radians', 'remainder', 'sin', 'sinh', 'sqrt', 'sumprod', 'tan', 'tanh', 'tau', 'trunc', 'ulp']\n",
      "Help on built-in function lcm in module math:\n",
      "\n",
      "lcm(*integers)\n",
      "    Least Common Multiple.\n",
      "\n",
      "None\n"
     ]
    }
   ],
   "source": [
    "import math\n",
    "print(dir(math))  # list all functions in math module\n",
    "print(help(math.lcm))  # get help on math.lcm module.funct"
   ]
  },
  {
   "cell_type": "markdown",
   "metadata": {},
   "source": [
    "---"
   ]
  },
  {
   "cell_type": "markdown",
   "metadata": {},
   "source": [
    "- ### Maths module"
   ]
  },
  {
   "cell_type": "markdown",
   "metadata": {},
   "source": [
    "**math**"
   ]
  },
  {
   "cell_type": "code",
   "execution_count": 5,
   "metadata": {},
   "outputs": [
    {
     "name": "stdout",
     "output_type": "stream",
     "text": [
      "3\n",
      "3.14\n",
      "4\n",
      "3\n",
      "(0.14158999999999988, 3.0)\n",
      "1 3\n",
      "6\n",
      "6\n"
     ]
    }
   ],
   "source": [
    "from math import *\n",
    "print(abs(-3))  # absolute value\n",
    "print(round(3.14159,2))  # round to 2 decimal places\n",
    "print(ceil(3.14159))  # round up\n",
    "print(floor(3.14159))  # round down\n",
    "print(modf(3.14159))  # split into integer and decimal parts\n",
    "print(min(1,2,3),max(1,2,3))  # minimum\n",
    "print(sum([1,2,3]))  # sum\n",
    "print(prod([1,2,3]))  # product"
   ]
  },
  {
   "cell_type": "code",
   "execution_count": 14,
   "metadata": {},
   "outputs": [
    {
     "name": "stdout",
     "output_type": "stream",
     "text": [
      "4.0\n",
      "8\n",
      "2.718281828459045\n",
      "2.718281828459045\n",
      "1.0\n"
     ]
    }
   ],
   "source": [
    "from math import e,sqrt,exp,log,log10\n",
    "print(sqrt(16))  # square root\n",
    "print(pow(2,3))  # 2^3\n",
    "print(exp(1))  # e^1\n",
    "print(log(exp(e)))  # ln(e^1)\n",
    "print(log10(10))  # log base 10"
   ]
  },
  {
   "cell_type": "code",
   "execution_count": 18,
   "metadata": {},
   "outputs": [
    {
     "name": "stdout",
     "output_type": "stream",
     "text": [
      "0.8660254037844386 0.5000000000000001 1.7320508075688767\n",
      "0.0 0.0 -0.7853981633974483\n",
      "59.99999999999999 1.0471975511965976\n",
      "5.0\n"
     ]
    }
   ],
   "source": [
    "from math import *\n",
    "print(sin(pi/3),cos(pi/3),tan(pi/3))  # sin(π/3),cos(π/3)\n",
    "print(asin(0),acos(1),atan(-1))  # tan(π/3)\n",
    "print(degrees(pi/3),radians(60))  # convert between degrees and radians\n",
    "print(hypot(3,4))  # sqrt(3^2+4^2)"
   ]
  },
  {
   "cell_type": "markdown",
   "metadata": {},
   "source": [
    "**random**"
   ]
  },
  {
   "cell_type": "code",
   "execution_count": 77,
   "metadata": {},
   "outputs": [
    {
     "name": "stdout",
     "output_type": "stream",
     "text": [
      "9\n",
      "7\n",
      "8\n",
      "0.813351507162973\n",
      "4.729820669551948\n"
     ]
    }
   ],
   "source": [
    "import random\n",
    "print(random.choice(range(1,10,2)))  # random choice\n",
    "print(random.randrange(1,10,2))  # random integer\n",
    "print(random.randint(1,10))  # random integer\n",
    "print(random.random())  # random float 0<x<1\n",
    "print(random.uniform(1,10))  # random float"
   ]
  },
  {
   "cell_type": "markdown",
   "metadata": {},
   "source": [
    "**statistics**"
   ]
  },
  {
   "cell_type": "code",
   "execution_count": null,
   "metadata": {},
   "outputs": [],
   "source": []
  },
  {
   "cell_type": "markdown",
   "metadata": {},
   "source": [
    "---"
   ]
  },
  {
   "cell_type": "markdown",
   "metadata": {},
   "source": [
    "- ### Internet & networking module\n",
    "\n",
    "**urlib**"
   ]
  },
  {
   "cell_type": "code",
   "execution_count": 35,
   "metadata": {},
   "outputs": [
    {
     "name": "stdout",
     "output_type": "stream",
     "text": [
      "ParseResult(scheme='https', netloc='www.example.com', path='', params='', query='', fragment='') \n",
      "\n",
      "<!doctype html>\n",
      "<html>\n",
      "<head>\n",
      "    <title>Example Domain</title>\n",
      "\n",
      "    <meta charset=\"utf-8\" />\n",
      "    <meta http-equiv=\"Content-type\" content=\"text/html; charset=utf-8\" />\n",
      "    <meta name=\"viewport\" content=\"width=device-width, initial-scale=1\" />\n",
      "    <style type=\"text/css\">\n",
      "    body {\n",
      "        background-color: #f0f0f2;\n",
      "        margin: 0;\n",
      "        padding: 0;\n",
      "        font-family: -apple-system, system-ui, BlinkMacSystemFont, \"Segoe UI\", \"Open Sans\", \"Helvetica Neue\", Helvetica, Arial, sans-serif;\n",
      "        \n",
      "    }\n",
      "    div {\n",
      "        width: 600px;\n",
      "        margin: 5em auto;\n",
      "        padding: 2em;\n",
      "        background-color: #fdfdff;\n",
      "        border-radius: 0.5em;\n",
      "        box-shadow: 2px 3px 7px 2px rgba(0,0,0,0.02);\n",
      "    }\n",
      "    a:link, a:visited {\n",
      "        color: #38488f;\n",
      "        text-decoration: none;\n",
      "    }\n",
      "    @media (max-width: 700px) {\n",
      "        div {\n",
      "            margin: 0 auto;\n",
      "            width: auto;\n",
      "        }\n",
      "    }\n",
      "    </style>    \n",
      "</head>\n",
      "\n",
      "<body>\n",
      "<div>\n",
      "    <h1>Example Domain</h1>\n",
      "    <p>This domain is for use in illustrative examples in documents. You may use this\n",
      "    domain in literature without prior coordination or asking for permission.</p>\n",
      "    <p><a href=\"https://www.iana.org/domains/example\">More information...</a></p>\n",
      "</div>\n",
      "</body>\n",
      "</html>\n",
      "\n"
     ]
    }
   ],
   "source": [
    "from urllib.request import urlopen\n",
    "from urllib.parse import urlparse\n",
    "\n",
    "url = 'https://www.example.com'\n",
    "\n",
    "parsed = urlparse(url)\n",
    "print(parsed,'\\n')\n",
    "\n",
    "response = urlopen(url)\n",
    "data = response.read().decode()  # read line from url\n",
    "print(data)  # read data from url\n"
   ]
  },
  {
   "cell_type": "markdown",
   "metadata": {},
   "source": [
    "**web scraping**"
   ]
  },
  {
   "cell_type": "code",
   "execution_count": 52,
   "metadata": {},
   "outputs": [],
   "source": [
    "%%capture\n",
    "%pip install requests beautifulsoup4"
   ]
  },
  {
   "cell_type": "code",
   "execution_count": 37,
   "metadata": {},
   "outputs": [
    {
     "name": "stdout",
     "output_type": "stream",
     "text": [
      "A Light in the Attic - Â£51.77\n",
      "Tipping the Velvet - Â£53.74\n",
      "Soumission - Â£50.10\n",
      "Sharp Objects - Â£47.82\n",
      "Sapiens: A Brief History of Humankind - Â£54.23\n",
      "The Requiem Red - Â£22.65\n",
      "The Dirty Little Secrets of Getting Your Dream Job - Â£33.34\n",
      "The Coming Woman: A Novel Based on the Life of the Infamous Feminist, Victoria Woodhull - Â£17.93\n",
      "The Boys in the Boat: Nine Americans and Their Epic Quest for Gold at the 1936 Berlin Olympics - Â£22.60\n",
      "The Black Maria - Â£52.15\n",
      "Starving Hearts (Triangular Trade Trilogy, #1) - Â£13.99\n",
      "Shakespeare's Sonnets - Â£20.66\n",
      "Set Me Free - Â£17.46\n",
      "Scott Pilgrim's Precious Little Life (Scott Pilgrim #1) - Â£52.29\n",
      "Rip it Up and Start Again - Â£35.02\n",
      "Our Band Could Be Your Life: Scenes from the American Indie Underground, 1981-1991 - Â£57.25\n",
      "Olio - Â£23.88\n",
      "Mesaerion: The Best Science Fiction Stories 1800-1849 - Â£37.59\n",
      "Libertarianism for Beginners - Â£51.33\n",
      "It's Only the Himalayas - Â£45.17\n"
     ]
    }
   ],
   "source": [
    "from bs4 import BeautifulSoup\n",
    "import requests\n",
    "\n",
    "# Target URL\n",
    "url = 'https://books.toscrape.com/catalogue/page-1.html'\n",
    "\n",
    "# Fetch the webpage\n",
    "response = requests.get(url)\n",
    "soup = BeautifulSoup(response.text, 'html.parser')\n",
    "\n",
    "# Find all products\n",
    "products = soup.find_all('article', class_='product_pod')\n",
    "\n",
    "# Loop through each product\n",
    "for product in products:\n",
    "    title = product.h3.a['title']   # Product name\n",
    "    price = product.find('p', class_='price_color').text  # Product price\n",
    "    print(f\"{title} - {price}\")"
   ]
  },
  {
   "cell_type": "markdown",
   "metadata": {},
   "source": [
    "---"
   ]
  },
  {
   "cell_type": "markdown",
   "metadata": {},
   "source": [
    "- ### Email module\n",
    "\n",
    "**smtplib**"
   ]
  },
  {
   "cell_type": "code",
   "execution_count": null,
   "metadata": {},
   "outputs": [
    {
     "name": "stdout",
     "output_type": "stream",
     "text": [
      "Email sent successfully!\n"
     ]
    }
   ],
   "source": [
    "import smtplib\n",
    "\n",
    "# Email configuration\n",
    "sender_email=\"sender_email\" # Replace with your email\n",
    "receiver_email=\"receiver_email\" # Replace with receiver email\n",
    "password=\"password\"  # Replace with your email password\n",
    "\n",
    "# Email content\n",
    "subject = \"Test Email from python\"\n",
    "body = \"Hi:\\n\\n  This is a test email sent from Python.\"\n",
    "sign =\"Best regards,\\nTom\"\n",
    "message = f\"Subject: {subject}\\n\\n{body}\\n\\n{sign}\"\n",
    "\n",
    "# Send email\n",
    "try:\n",
    "    with smtplib.SMTP('smtp.126.com') as server:\n",
    "        server.starttls()  # Upgrade to a secure connection\n",
    "        server.login(sender_email, password)\n",
    "        server.sendmail(sender_email, receiver_email, message)\n",
    "    print(\"Email sent successfully!\")\n",
    "except Exception as e:\n",
    "    print(f\"Error: {e}\")"
   ]
  },
  {
   "cell_type": "markdown",
   "metadata": {},
   "source": [
    "---"
   ]
  },
  {
   "cell_type": "markdown",
   "metadata": {},
   "source": [
    "- ### Date & time module\n",
    "\n",
    "**datetime**"
   ]
  },
  {
   "cell_type": "code",
   "execution_count": 42,
   "metadata": {},
   "outputs": [
    {
     "name": "stdout",
     "output_type": "stream",
     "text": [
      "Current date and time: 2025-04-28 11:56:10.274747\n",
      "Formatted date and time: 2025-04-28 11:56:10\n",
      "Today's date: 2025-04-28\n",
      "Age: 25 years and 124 days\n"
     ]
    }
   ],
   "source": [
    "import datetime\n",
    "\n",
    "# Get current date and time\n",
    "now = datetime.datetime.now()\n",
    "print(\"Current date and time:\", now)\n",
    "\n",
    "# format date and time\n",
    "formatted_date = now.strftime(\"%Y-%m-%d %H:%M:%S\")\n",
    "print(\"Formatted date and time:\", formatted_date)\n",
    "\n",
    "# Get current date\n",
    "today = datetime.date.today()\n",
    "print(\"Today's date:\", today)\n",
    "\n",
    "# age\n",
    "birth_date = datetime.date(2000, 1, 1)  # Replace with your birth date\n",
    "age = today - birth_date\n",
    "print(\"Age:\", age.days // 365, \"years and\", age.days % 365 ,\"days\")"
   ]
  },
  {
   "cell_type": "markdown",
   "metadata": {},
   "source": [
    "**timezone**"
   ]
  },
  {
   "cell_type": "code",
   "execution_count": 59,
   "metadata": {},
   "outputs": [],
   "source": [
    "%%capture \n",
    "%pip install tzdata\n",
    "# %%capture: only captures stdout and stderr in the cell"
   ]
  },
  {
   "cell_type": "code",
   "execution_count": 49,
   "metadata": {},
   "outputs": [
    {
     "name": "stdout",
     "output_type": "stream",
     "text": [
      "Local time: 2025-04-28 12:02:21.943465\n",
      "UK time: 2025-04-28 05:02:21.943465+01:00\n",
      "US time: 2025-04-28 00:02:21.943465-04:00\n"
     ]
    }
   ],
   "source": [
    "import datetime\n",
    "import zoneinfo\n",
    "\n",
    "# local time\n",
    "local_time = datetime.datetime.now()\n",
    "print(\"Local time:\", local_time)\n",
    "\n",
    "# UK time\n",
    "uk_tz = zoneinfo.ZoneInfo(\"Europe/London\")\n",
    "UK_time = local_time.astimezone(uk_tz)\n",
    "print(\"UK time:\", UK_time)\n",
    "\n",
    "# US time\n",
    "us_tz = zoneinfo.ZoneInfo(\"America/New_York\")\n",
    "US_time = local_time.astimezone(us_tz)\n",
    "print(\"US time:\", US_time)"
   ]
  },
  {
   "cell_type": "markdown",
   "metadata": {},
   "source": [
    "**time**"
   ]
  },
  {
   "cell_type": "code",
   "execution_count": 65,
   "metadata": {},
   "outputs": [
    {
     "name": "stdout",
     "output_type": "stream",
     "text": [
      "Elapsed time: 0.2003777027130127 seconds\n"
     ]
    }
   ],
   "source": [
    "import time\n",
    "\n",
    "# Get current time\n",
    "start_time = time.time()\n",
    "\n",
    "# wait for 0.2 seconds\n",
    "time.sleep(0.2)\n",
    "\n",
    "# Calculate elapsed time\n",
    "elapsed_time = time.time() - start_time\n",
    "print(\"Elapsed time:\", elapsed_time, \"seconds\")"
   ]
  },
  {
   "cell_type": "markdown",
   "metadata": {},
   "source": [
    "- ### Data handling module\n",
    "**zlib**"
   ]
  },
  {
   "cell_type": "code",
   "execution_count": 11,
   "metadata": {},
   "outputs": [
    {
     "name": "stdout",
     "output_type": "stream",
     "text": [
      "b'witch which watch what why wharf'\n",
      "32\n",
      "b'x\\x9c+\\xcf,I\\xceP(\\xcf\\xc8\\x04\\x91\\x89\\x10vb\\t\\x90\\xa8\\x041\\x8a\\xd2\\x00\\xc7\\xdb\\x0c\\x0e'\n",
      "29\n",
      "b'witch which watch what why wharf'\n",
      "32\n"
     ]
    }
   ],
   "source": [
    "import zlib\n",
    "s=b'witch which watch what why wharf';print(s);print(len(s))\n",
    "s_compressed=zlib.compress(s);print(s_compressed);print(len(s_compressed))\n",
    "s_decompressed=zlib.decompress(s_compressed);print(s_decompressed);print(len(s_decompressed))"
   ]
  }
 ],
 "metadata": {
  "kernelspec": {
   "display_name": "Python 3",
   "language": "python",
   "name": "python3"
  },
  "language_info": {
   "codemirror_mode": {
    "name": "ipython",
    "version": 3
   },
   "file_extension": ".py",
   "mimetype": "text/x-python",
   "name": "python",
   "nbconvert_exporter": "python",
   "pygments_lexer": "ipython3",
   "version": "3.13.2"
  }
 },
 "nbformat": 4,
 "nbformat_minor": 2
}
