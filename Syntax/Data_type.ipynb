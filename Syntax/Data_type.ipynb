{
 "cells": [
  {
   "cell_type": "markdown",
   "metadata": {},
   "source": [
    "- ### Data type\n",
    "1. Immutable: [number](#number) / [string](#string) / [tuple](#tuple)\n",
    "\n",
    "2. Mutable:  [list](#list) / [dictionary](#dictionary) / [set](#set)\n",
    "\n",
    "3. Other: [Boolen](#Boolen) / [bytes](#bytes)\n",
    "\n",
    " ---"
   ]
  },
  {
   "cell_type": "markdown",
   "metadata": {},
   "source": [
    "- ### Number"
   ]
  },
  {
   "cell_type": "markdown",
   "metadata": {},
   "source": [
    "**type**"
   ]
  },
  {
   "cell_type": "code",
   "execution_count": 4,
   "metadata": {},
   "outputs": [
    {
     "name": "stdout",
     "output_type": "stream",
     "text": [
      "<class 'int'>\n",
      "<class 'float'>\n",
      "<class 'complex'>\n",
      "<class 'str'>\n",
      "<class 'bool'>\n",
      "<class 'NoneType'>\n",
      "<class 'list'>\n",
      "<class 'tuple'>\n",
      "<class 'dict'>\n",
      "<class 'set'>\n"
     ]
    }
   ],
   "source": [
    "print(type(1)) #integer\n",
    "print(type(1.0)) #float\n",
    "print(type(1 + 1j)) #complex\n",
    "print(type(\"1\")) #string\n",
    "print(type(True)) #boolean\n",
    "print(type(None)) #NoneType\n",
    "print(type([])) #list\n",
    "print(type(())) #tuple\n",
    "print(type({})) #dictionary\n",
    "print(type(set())) #set"
   ]
  },
  {
   "cell_type": "markdown",
   "metadata": {},
   "source": [
    "**basic calculation**"
   ]
  },
  {
   "cell_type": "code",
   "execution_count": 5,
   "id": "341679d1-e77e-4f90-b499-d52507db1eef",
   "metadata": {},
   "outputs": [
    {
     "name": "stdout",
     "output_type": "stream",
     "text": [
      "18\n",
      "2.3333333333333335\n"
     ]
    }
   ],
   "source": [
    "print(3 * 6)  # multiplication\n",
    "print(7/3)  # division"
   ]
  },
  {
   "cell_type": "code",
   "execution_count": 6,
   "metadata": {},
   "outputs": [
    {
     "name": "stdout",
     "output_type": "stream",
     "text": [
      "2\n",
      "1\n",
      "(2, 1)\n"
     ]
    }
   ],
   "source": [
    "print(7//3)  # integer division\n",
    "print(7 % 3)  # modulus\n",
    "print(divmod(7, 3))  # integer division and modulus"
   ]
  },
  {
   "cell_type": "code",
   "execution_count": 7,
   "metadata": {},
   "outputs": [
    {
     "name": "stdout",
     "output_type": "stream",
     "text": [
      "9\n",
      "9\n"
     ]
    }
   ],
   "source": [
    "print(3 ** 2)\n",
    "print(pow(3,2))  # exponentiation"
   ]
  },
  {
   "cell_type": "code",
   "execution_count": 8,
   "metadata": {},
   "outputs": [
    {
     "name": "stdout",
     "output_type": "stream",
     "text": [
      "1\n",
      "3\n"
     ]
    }
   ],
   "source": [
    "print(pow(3,2,mod=4))  # exponentiation with modulus\n",
    "print(pow(3,-1,mod=4))  # negative exponentiation with modulus"
   ]
  },
  {
   "cell_type": "markdown",
   "metadata": {},
   "source": [
    "**scientific notation**"
   ]
  },
  {
   "cell_type": "code",
   "execution_count": 5,
   "metadata": {},
   "outputs": [
    {
     "name": "stdout",
     "output_type": "stream",
     "text": [
      "0.03\n"
     ]
    }
   ],
   "source": [
    "print(3E-2)  # scientific notation (3 * 10^-2)"
   ]
  },
  {
   "cell_type": "markdown",
   "metadata": {},
   "source": [
    "**complex number**"
   ]
  },
  {
   "cell_type": "code",
   "execution_count": 10,
   "metadata": {},
   "outputs": [
    {
     "name": "stdout",
     "output_type": "stream",
     "text": [
      "(3+4j) (3+4j) (-inf+nanj)\n",
      "5.0\n",
      "3.0\n",
      "4.0\n"
     ]
    }
   ],
   "source": [
    "a=complex('3+4j');b=complex(3,4);c=complex('-Infinity+NaNj')\n",
    "print(a,b,c);print(abs(a));print(a.real);print(a.imag)  # complex number"
   ]
  },
  {
   "cell_type": "markdown",
   "metadata": {},
   "source": [
    "---\n",
    "- ### String"
   ]
  },
  {
   "cell_type": "markdown",
   "metadata": {},
   "source": [
    "**calculation**"
   ]
  },
  {
   "cell_type": "code",
   "execution_count": 11,
   "metadata": {},
   "outputs": [
    {
     "name": "stdout",
     "output_type": "stream",
     "text": [
      "bracbracket\n"
     ]
    }
   ],
   "source": [
    "print(2*'brac'+'ket')  # string concatenation"
   ]
  },
  {
   "cell_type": "markdown",
   "metadata": {},
   "source": [
    "**escape \"\\\\\"**"
   ]
  },
  {
   "cell_type": "code",
   "execution_count": 12,
   "metadata": {},
   "outputs": [
    {
     "name": "stdout",
     "output_type": "stream",
     "text": [
      "don't  or  don't\n"
     ]
    }
   ],
   "source": [
    "print('don\\'t',\" or \",\"don't\")  # escape character"
   ]
  },
  {
   "cell_type": "markdown",
   "metadata": {},
   "source": [
    "**raw string**"
   ]
  },
  {
   "cell_type": "code",
   "execution_count": 13,
   "metadata": {},
   "outputs": [
    {
     "name": "stdout",
     "output_type": "stream",
     "text": [
      "line1\\nline2\n"
     ]
    }
   ],
   "source": [
    "print(r\"line1\\nline2\")  # raw string"
   ]
  },
  {
   "cell_type": "markdown",
   "metadata": {},
   "source": [
    "**concatenation**"
   ]
  },
  {
   "cell_type": "code",
   "execution_count": 14,
   "metadata": {},
   "outputs": [
    {
     "name": "stdout",
     "output_type": "stream",
     "text": [
      "string1string2\n"
     ]
    }
   ],
   "source": [
    "print(\"string1\\\n",
    "string2\")  # string concatenation"
   ]
  },
  {
   "cell_type": "code",
   "execution_count": null,
   "metadata": {},
   "outputs": [
    {
     "name": "stdout",
     "output_type": "stream",
     "text": [
      "string1string2\n"
     ]
    }
   ],
   "source": [
    "print('string1', end='') # do not print new line\n",
    "print('string2')"
   ]
  },
  {
   "cell_type": "markdown",
   "metadata": {},
   "source": [
    "**multi-line**"
   ]
  },
  {
   "cell_type": "code",
   "execution_count": 16,
   "metadata": {},
   "outputs": [
    {
     "name": "stdout",
     "output_type": "stream",
     "text": [
      "line1\n",
      "line2\n"
     ]
    }
   ],
   "source": [
    "print(\"line1\\nline2\")  # new line"
   ]
  },
  {
   "cell_type": "code",
   "execution_count": 17,
   "metadata": {},
   "outputs": [
    {
     "name": "stdout",
     "output_type": "stream",
     "text": [
      "string1\n",
      "string2\n",
      "string3\n"
     ]
    }
   ],
   "source": [
    "print(\"\"\"string1\n",
    "string2\n",
    "string3\"\"\")  # multi-line string"
   ]
  },
  {
   "cell_type": "markdown",
   "metadata": {},
   "source": [
    "**string as list**"
   ]
  },
  {
   "cell_type": "code",
   "execution_count": 97,
   "metadata": {},
   "outputs": [
    {
     "name": "stdout",
     "output_type": "stream",
     "text": [
      "5\n",
      "w d\n",
      "wo ld\n"
     ]
    }
   ],
   "source": [
    "char=\"world\";print(len(char))   # length\n",
    "a=char[0];b=char[-1];print(a,b)  # string indexing\n",
    "c=char[:2];d=char[-2:];print(c,d)  # string slicing with positive 2 excludied"
   ]
  },
  {
   "cell_type": "markdown",
   "metadata": {},
   "source": [
    "**search**"
   ]
  },
  {
   "cell_type": "code",
   "execution_count": 110,
   "metadata": {},
   "outputs": [
    {
     "name": "stdout",
     "output_type": "stream",
     "text": [
      "3\n",
      "3\n"
     ]
    }
   ],
   "source": [
    "str=\"l\";word=\"hello\"\n",
    "print(word.find(str,3,5))  # find str from 3 to 5; return -1 if not found\n",
    "print(word.index(str,3,5))  # index str from 3 to 5; raise ValueError if not found"
   ]
  },
  {
   "cell_type": "markdown",
   "metadata": {},
   "source": [
    "**replace**"
   ]
  },
  {
   "cell_type": "code",
   "execution_count": 131,
   "metadata": {},
   "outputs": [
    {
     "name": "stdout",
     "output_type": "stream",
     "text": [
      "hi\n"
     ]
    }
   ],
   "source": [
    "word=\"hello\";wordnew=word.replace(\"ello\",\"i\",1) # replace all occurance with at most 1 times\n",
    "print(wordnew)  # replace first occurance"
   ]
  },
  {
   "cell_type": "markdown",
   "metadata": {},
   "source": [
    "**split**"
   ]
  },
  {
   "cell_type": "code",
   "execution_count": 132,
   "metadata": {},
   "outputs": [
    {
     "name": "stdout",
     "output_type": "stream",
     "text": [
      "['hello', 'world !']\n"
     ]
    }
   ],
   "source": [
    "sent=\"hello world !\";wordlist=sent.split(\" \",1) # split by space with at most 1 times\n",
    "print(wordlist)  # split string"
   ]
  },
  {
   "cell_type": "code",
   "execution_count": 139,
   "metadata": {},
   "outputs": [
    {
     "name": "stdout",
     "output_type": "stream",
     "text": [
      "['hello', 'world']\n"
     ]
    }
   ],
   "source": [
    "multiline=\"\"\"hello\n",
    "world\"\"\"\n",
    "print(multiline.splitlines())  # split by line without \\n; default keepends=False"
   ]
  },
  {
   "cell_type": "markdown",
   "metadata": {},
   "source": [
    "---\n",
    "- ### Tuple"
   ]
  },
  {
   "cell_type": "markdown",
   "metadata": {},
   "source": [
    "**empty tuple & tuple with 1 element**"
   ]
  },
  {
   "cell_type": "code",
   "execution_count": 20,
   "metadata": {},
   "outputs": [
    {
     "name": "stdout",
     "output_type": "stream",
     "text": [
      "()\n",
      "(1,)\n"
     ]
    }
   ],
   "source": [
    "tuple=();print(tuple)  # empty tuple\n",
    "tuple=(1,);print(tuple)  # tuple with one element"
   ]
  },
  {
   "cell_type": "markdown",
   "metadata": {},
   "source": [
    "**calculation**"
   ]
  },
  {
   "cell_type": "code",
   "execution_count": 1,
   "metadata": {},
   "outputs": [
    {
     "name": "stdout",
     "output_type": "stream",
     "text": [
      "(1, 2, 3, 4, 3, 4)\n",
      "False\n"
     ]
    }
   ],
   "source": [
    "tuple1=(1,2);tuple2=(3,4)\n",
    "tuple=tuple1+2*tuple2;print(tuple)  # list concatenation\n",
    "print(tuple1==tuple2)  # list comparison"
   ]
  },
  {
   "cell_type": "markdown",
   "metadata": {},
   "source": [
    "**extraction**"
   ]
  },
  {
   "cell_type": "code",
   "execution_count": null,
   "metadata": {},
   "outputs": [
    {
     "name": "stdout",
     "output_type": "stream",
     "text": [
      "(1, 2, 3, 4, 5, 'f')\n",
      "1\n",
      "f\n",
      "(1, 3, 5)\n"
     ]
    }
   ],
   "source": [
    "tuple=(1,2,3,4,5,'f');print(tuple)\n",
    "print(tuple[0]);print(tuple[-1])  # tuple, immutable\n",
    "print(tuple[::2])  # tuple slicing with steps 2"
   ]
  },
  {
   "cell_type": "markdown",
   "metadata": {},
   "source": [
    "**rearrange**"
   ]
  },
  {
   "cell_type": "code",
   "execution_count": null,
   "metadata": {},
   "outputs": [
    {
     "name": "stdout",
     "output_type": "stream",
     "text": [
      "0 a\n",
      "1 b\n",
      "2 c\n"
     ]
    }
   ],
   "source": [
    "line1=range(3);line2=('a','b','c')\n",
    "for i,j in zip(line1,line2):\n",
    "    print(i,j) # zip"
   ]
  },
  {
   "cell_type": "code",
   "execution_count": null,
   "metadata": {},
   "outputs": [
    {
     "name": "stdout",
     "output_type": "stream",
     "text": [
      "9\n",
      "range(5, 10, 2)\n",
      "7\n",
      "range(5, 10, 2)\n",
      "5\n",
      "range(5, 10, 2)\n"
     ]
    }
   ],
   "source": [
    "for i in reversed(range(5,10,2)):\n",
    "    print(i) # reversed"
   ]
  },
  {
   "cell_type": "code",
   "execution_count": null,
   "metadata": {},
   "outputs": [
    {
     "name": "stdout",
     "output_type": "stream",
     "text": [
      "a\n",
      "b\n",
      "c\n"
     ]
    }
   ],
   "source": [
    "for i in sorted(('c','b','a')):\n",
    "    print(i) # sorted"
   ]
  },
  {
   "cell_type": "markdown",
   "metadata": {},
   "source": [
    "**tuple comprehension**"
   ]
  },
  {
   "cell_type": "code",
   "execution_count": 29,
   "metadata": {},
   "outputs": [
    {
     "name": "stdout",
     "output_type": "stream",
     "text": [
      "<generator object <genexpr> at 0x0000012592D83040>\n",
      "(0, 1, 2, 3, 4)\n",
      "(0, 1, 2, 3, 4)\n"
     ]
    }
   ],
   "source": [
    "a=(x for x in range(5));print(a)  # generator\n",
    "print(tuple(a))  # generator\n",
    "b=tuple(x for x in range(5));print(b)  # generator\n"
   ]
  },
  {
   "cell_type": "markdown",
   "metadata": {},
   "source": [
    "---\n",
    "- ### List"
   ]
  },
  {
   "cell_type": "markdown",
   "metadata": {},
   "source": [
    "**calculation**"
   ]
  },
  {
   "cell_type": "code",
   "execution_count": 24,
   "metadata": {},
   "outputs": [
    {
     "name": "stdout",
     "output_type": "stream",
     "text": [
      "[1, 2, 3, 4, 3, 4]\n",
      "False\n"
     ]
    }
   ],
   "source": [
    "list1=[1,2];list2=[3,4]\n",
    "list=list1+2*list2;print(list)  # list concatenation\n",
    "list1==list2;print(list1==list2)  # list comparison"
   ]
  },
  {
   "cell_type": "markdown",
   "metadata": {},
   "source": [
    "**extraction**"
   ]
  },
  {
   "cell_type": "code",
   "execution_count": 4,
   "metadata": {},
   "outputs": [
    {
     "name": "stdout",
     "output_type": "stream",
     "text": [
      "[3, 5]\n",
      "[1, 6]\n"
     ]
    }
   ],
   "source": [
    "list=[1,2,3,4,5,6];print(list[2:-1:2]) # list slicing from pos 2 to pos -1(excluded) with step 2\n",
    "print([list[0],list[-1]])  # list, mutable"
   ]
  },
  {
   "cell_type": "markdown",
   "metadata": {},
   "source": [
    "**modification**"
   ]
  },
  {
   "cell_type": "code",
   "execution_count": 1,
   "metadata": {},
   "outputs": [
    {
     "name": "stdout",
     "output_type": "stream",
     "text": [
      "[1, 2, 3, 4, 5]\n",
      "[1, 2, 3, 4, 5, 6]\n",
      "[1, 2, 3, 4, 5, 6, 7]\n",
      "[1, 2, 3, 4, 5, 6, 7, 8, 9]\n",
      "[1, 2, 3, 4, 5, 6, 7, 8]\n",
      "[2, 3, 4, 5, 6, 7, 8]\n",
      "[2, 3, 4, 5, 6]\n",
      "[3, 4, 5, 6]\n",
      "4\n"
     ]
    }
   ],
   "source": [
    "list=[1,2,-3,4,5];list[2]=3;print(list) # list modification\n",
    "list.append(6);print(list) # add element to list\n",
    "list.insert(6,7);print(list)  # insert element to list\n",
    "list.extend([8,9]);print(list)  # extend list with another list\n",
    "list.pop();print(list)  # remove last element from list\n",
    "list.remove(1);print(list)  # remove specific value element from list\n",
    "list[-2:]=[];print(list) # list shrink\n",
    "del list[0];print(list)  # delete element from list\n",
    "print(len(list))  "
   ]
  },
  {
   "cell_type": "markdown",
   "metadata": {},
   "source": [
    "**nesting**"
   ]
  },
  {
   "cell_type": "code",
   "execution_count": 20,
   "metadata": {},
   "outputs": [
    {
     "name": "stdout",
     "output_type": "stream",
     "text": [
      "[[1, 'f'], [3, 4]]\n",
      "4\n"
     ]
    }
   ],
   "source": [
    "list1=[1,'f'];list2=[3,4]\n",
    "list=[list1,list2];print(list);print(list[1][1])  # list nesting"
   ]
  },
  {
   "cell_type": "markdown",
   "metadata": {},
   "source": [
    "**positional operator**"
   ]
  },
  {
   "cell_type": "code",
   "execution_count": 10,
   "metadata": {},
   "outputs": [
    {
     "name": "stdout",
     "output_type": "stream",
     "text": [
      "[4, 3, 2, 1]\n",
      "[1, 2, 3, 4]\n",
      "1\n",
      "1\n"
     ]
    }
   ],
   "source": [
    "list=[1,2,3,4];list.reverse();print(list)  # reverse list in place\n",
    "list.sort();print(list)  # sort list in place\n",
    "print(list.index(2))  # find index of element\n",
    "print(list.count(2))  # count number of element"
   ]
  },
  {
   "cell_type": "markdown",
   "metadata": {},
   "source": [
    "**ergodic**"
   ]
  },
  {
   "cell_type": "code",
   "execution_count": null,
   "metadata": {},
   "outputs": [
    {
     "name": "stdout",
     "output_type": "stream",
     "text": [
      "0 a\n",
      "1 b\n",
      "2 c\n"
     ]
    }
   ],
   "source": [
    "for i,v in enumerate(['a','b','c']):\n",
    "    print(i,v) # enumerate"
   ]
  },
  {
   "cell_type": "markdown",
   "metadata": {},
   "source": [
    "**list comprehensions**"
   ]
  },
  {
   "cell_type": "code",
   "execution_count": 65,
   "metadata": {},
   "outputs": [
    {
     "name": "stdout",
     "output_type": "stream",
     "text": [
      "[0, 1, 4, 9, 16]\n",
      "[0, 1, 4, 9, 16]\n"
     ]
    }
   ],
   "source": [
    "list0=[x**2 for x in range(5)];print(list0)  # list comprehension for creating list\n",
    "list1=list(map(lambda x:x**2,range(5)));print(list1)  # equivalent to list comprehension"
   ]
  },
  {
   "cell_type": "code",
   "execution_count": 53,
   "metadata": {},
   "outputs": [
    {
     "name": "stdout",
     "output_type": "stream",
     "text": [
      "['a', 'b', 'c', 'd', 'e']\n",
      "['A', 'B', 'C', 'D', 'E']\n",
      "['a', 'b', 'c', 'd', '']\n"
     ]
    }
   ],
   "source": [
    "list=[chr(i) for i in range(ord('a'),ord('f'))];print(list)  # list comprehension for creating list\n",
    "list1=[x.upper() for x in list if len(x)==1];print(list1)  # list comprehension with condition\n",
    "list2=[x.strip('e') for x in list];print(list2)  # list comprehension with cleaning function"
   ]
  },
  {
   "cell_type": "code",
   "execution_count": 68,
   "metadata": {},
   "outputs": [
    {
     "name": "stdout",
     "output_type": "stream",
     "text": [
      "[(1, 4), (2, 5), (3, 6)]\n",
      "32\n"
     ]
    }
   ],
   "source": [
    "vec1=[1,2,3];vec2=[4,5,6];print(list(zip(vec1,vec2)))\n",
    "innerproduct=sum(x*y for x,y in zip(vec1,vec2));print(innerproduct)  # inner product"
   ]
  },
  {
   "cell_type": "markdown",
   "metadata": {},
   "source": [
    "**matrix**"
   ]
  },
  {
   "cell_type": "code",
   "execution_count": 79,
   "metadata": {},
   "outputs": [
    {
     "name": "stdout",
     "output_type": "stream",
     "text": [
      "[[0, 1, 2], [3, 4, 5], [6, 7, 8], [9, 10, 11]]\n",
      "[[0, 3, 6, 9], [1, 4, 7, 10], [2, 5, 8, 11]]\n"
     ]
    }
   ],
   "source": [
    "r=4;c=3\n",
    "matrix=[[j+c*i for j in range(c)] for i in range(r)];print(matrix)  # list comprehension for creating matrix\n",
    "matrix_transpose=[[matrix[j][i] for j in range(r)] for i in range(c)];print(matrix_transpose)  # transpose matrix"
   ]
  },
  {
   "cell_type": "markdown",
   "metadata": {},
   "source": [
    "**del**"
   ]
  },
  {
   "cell_type": "code",
   "execution_count": 84,
   "metadata": {},
   "outputs": [
    {
     "name": "stdout",
     "output_type": "stream",
     "text": [
      "[1, 2, 3]\n",
      "[2, 3]\n",
      "[]\n"
     ]
    }
   ],
   "source": [
    "a=[1,2,3];print(a)\n",
    "del a[0];print(a)  # delete element from list\n",
    "del a[0:2];print(a)  # delete elements from list\n",
    "del a  # delete list"
   ]
  },
  {
   "cell_type": "markdown",
   "metadata": {},
   "source": [
    "**Stack (First-In-First-Out)**"
   ]
  },
  {
   "cell_type": "code",
   "execution_count": null,
   "metadata": {},
   "outputs": [],
   "source": [
    "class Stack:\n",
    "    def __init__(self):\n",
    "        self.Stack=[]\n",
    "    \n",
    "    def push(self, item):\n",
    "        self.Stack.append(item)\n",
    "    \n",
    "    def pop(self, index=-1):\n",
    "        if not self.is_empty():\n",
    "            return self.stack.pop(index)\n",
    "        else:\n",
    "            raise Exception(\"Stack is empty\")\n",
    "        \n",
    "    def peek(self, index=-1):\n",
    "        if not self.is_empty():\n",
    "            return self.stack[index]\n",
    "        else:\n",
    "            raise Exception(\"Stack is empty\")\n",
    "        \n",
    "    def is_empty(self):\n",
    "        return len(self.stack)==0\n",
    "    \n",
    "    def size(self):\n",
    "        return len(self.stack)\n",
    "    \n",
    "stack=Stack()\n",
    "stack.push(1);print(stack.stack)  # push\n",
    "stack.push(2);print(stack.stack)  # push\n",
    "stack.push(3);print(stack.stack)  # push\n",
    "top=stack.pop();print(top, stack.stack)  # pop\n",
    "top2=stack.peek();print(top2, stack.stack)  # peek\n",
    "is_empty=stack.is_empty();print(is_empty)  # check if empty\n",
    "size=stack.size();print(size)  # check size"
   ]
  },
  {
   "cell_type": "markdown",
   "metadata": {},
   "source": [
    "**queue (Last-In-First-Out)**"
   ]
  },
  {
   "cell_type": "code",
   "execution_count": null,
   "metadata": {},
   "outputs": [
    {
     "name": "stdout",
     "output_type": "stream",
     "text": [
      "[1]\n",
      "[1, 2]\n",
      "[1, 2, 3]\n",
      "1 [2, 3]\n",
      "2 [2, 3]\n",
      "False\n",
      "2\n"
     ]
    }
   ],
   "source": [
    "class Queue:\n",
    "    def __init__(self):\n",
    "        self.queue=[]\n",
    "    \n",
    "    def enqueue(self, item):\n",
    "        self.queue.append(item)\n",
    "    \n",
    "    def dequeue(self, index=0):\n",
    "        if not self.is_empty():\n",
    "            return self.queue.pop(index)\n",
    "        else:\n",
    "            raise Exception(\"Queue is empty\")\n",
    "        \n",
    "    def peek(self, index=0):\n",
    "        if not self.is_empty():\n",
    "            return self.queue[index]\n",
    "        else:\n",
    "            raise Exception(\"Queue is empty\")\n",
    "        \n",
    "    def is_empty(self):\n",
    "        return len(self.queue)==0\n",
    "    \n",
    "    def size(self):\n",
    "        return len(self.queue)\n",
    "    \n",
    "queue=Queue()\n",
    "queue.push(1);print(queue.queue)  # push\n",
    "queue.push(2);print(queue.queue)  # push\n",
    "queue.push(3);print(queue.queue)  # push\n",
    "top=queue.pop();print(top, queue.queue)  # pop\n",
    "top2=queue.peek();print(top2, queue.queue)  # peek\n",
    "is_empty=queue.is_empty();print(is_empty)  # check if empty\n",
    "size=queue.size();print(size)  # check size"
   ]
  },
  {
   "cell_type": "markdown",
   "metadata": {},
   "source": [
    "---\n",
    "- ### Dictionary"
   ]
  },
  {
   "cell_type": "markdown",
   "metadata": {},
   "source": [
    "**empty dictionary**"
   ]
  },
  {
   "cell_type": "code",
   "execution_count": 2,
   "metadata": {},
   "outputs": [
    {
     "name": "stdout",
     "output_type": "stream",
     "text": [
      "{}\n"
     ]
    }
   ],
   "source": [
    "d={};print(d)  # dictionary"
   ]
  },
  {
   "cell_type": "markdown",
   "metadata": {},
   "source": [
    "**creation by mapping using '[ ]'**"
   ]
  },
  {
   "cell_type": "code",
   "execution_count": 4,
   "metadata": {},
   "outputs": [
    {
     "name": "stdout",
     "output_type": "stream",
     "text": [
      "{'x': 'y'}\n",
      "y\n"
     ]
    }
   ],
   "source": [
    "d['x']='y';print(d);print(d['x'])  # dictionary creation"
   ]
  },
  {
   "cell_type": "markdown",
   "metadata": {},
   "source": [
    "**creation by {key:value} pairs**"
   ]
  },
  {
   "cell_type": "code",
   "execution_count": 6,
   "metadata": {},
   "outputs": [
    {
     "name": "stdout",
     "output_type": "stream",
     "text": [
      "{'name': 'A', 'age': 21, 'city': 'London'}\n",
      "dict_keys(['name', 'age', 'city'])\n",
      "dict_values(['A', 21, 'London'])\n",
      "dict_items([('name', 'A'), ('age', 21), ('city', 'London')])\n",
      "('city', 'London')\n",
      "A None\n"
     ]
    }
   ],
   "source": [
    "person={'name':'A','age':21,'city':'London'}\n",
    "print(person)  # tiny dictionary\n",
    "print(person.keys());print(person.values())  # dictionary keys and values\n",
    "print(person.items());print(person.popitem())  # dictionary items\n",
    "print(person.get('name'),person.get('salary'))  # prevents KeyError if key doesn't exist"
   ]
  },
  {
   "cell_type": "markdown",
   "metadata": {},
   "source": [
    "**creation by dict(key=value) without ' ' for key**"
   ]
  },
  {
   "cell_type": "code",
   "execution_count": 26,
   "metadata": {},
   "outputs": [
    {
     "name": "stdout",
     "output_type": "stream",
     "text": [
      "name B\n",
      "age 22\n",
      "city Paris\n",
      "\n",
      "\n",
      "name C\n",
      "age 23\n",
      "city Berlin\n"
     ]
    }
   ],
   "source": [
    "person1=dict(name='B',age=22,city='Paris')\n",
    "for key in person1:\n",
    "    print(key,person1[key])  # dictionary iteration\n",
    "\n",
    "print(\"\\n\")\n",
    "person2=dict([('name','C'),('age',23),('city','Berlin')])\n",
    "for key,value in person2.items():\n",
    "    print(key, value)  # dictionary iteration"
   ]
  },
  {
   "cell_type": "markdown",
   "metadata": {},
   "source": [
    "**dictionary comprehension**"
   ]
  },
  {
   "cell_type": "code",
   "execution_count": 27,
   "metadata": {},
   "outputs": [
    {
     "name": "stdout",
     "output_type": "stream",
     "text": [
      "{0: 0, 1: 1, 2: 4, 3: 9, 4: 16}\n",
      "{0: 0, 1: 1, 2: 4, 3: 9, 4: 16}\n"
     ]
    }
   ],
   "source": [
    "square={x:x**2 for x in range(5)};print(square)  # dictionary comprehension\n",
    "square=dict((x,x**2) for x in range(5));print(square)  # dictionary comprehension"
   ]
  },
  {
   "cell_type": "markdown",
   "metadata": {},
   "source": [
    "---\n",
    "- ### Set\n"
   ]
  },
  {
   "cell_type": "markdown",
   "metadata": {},
   "source": [
    "**empty set & creation by set()**"
   ]
  },
  {
   "cell_type": "code",
   "execution_count": 8,
   "metadata": {},
   "outputs": [
    {
     "name": "stdout",
     "output_type": "stream",
     "text": [
      "set()\n"
     ]
    }
   ],
   "source": [
    "setnull=set();print(setnull)  # empty set"
   ]
  },
  {
   "cell_type": "markdown",
   "metadata": {},
   "source": [
    "**creation by {elmt}**"
   ]
  },
  {
   "cell_type": "code",
   "execution_count": null,
   "metadata": {},
   "outputs": [],
   "source": [
    "set1={1,2,3,3};print(set1)  # set excludes duplicates"
   ]
  },
  {
   "cell_type": "markdown",
   "metadata": {},
   "source": [
    "**calculation**"
   ]
  },
  {
   "cell_type": "code",
   "execution_count": 30,
   "metadata": {},
   "outputs": [
    {
     "name": "stdout",
     "output_type": "stream",
     "text": [
      "{'d', 'b', 'c', 'a'}\n",
      "{'b', 'c'}\n",
      "{'a'}\n",
      "{'d', 'a'}\n",
      "{'d', 'a'}\n"
     ]
    }
   ],
   "source": [
    "s1={'a','b','c'};s2={'b','c','d'}\n",
    "print(s1|s2);print(s1&s2);print(s1-s2);print(s1^s2);print((s1|s2)-(s1&s2))  # set union, intersection, difference, union with not intersection"
   ]
  },
  {
   "cell_type": "markdown",
   "metadata": {},
   "source": [
    "**modification**"
   ]
  },
  {
   "cell_type": "code",
   "execution_count": 16,
   "metadata": {},
   "outputs": [
    {
     "name": "stdout",
     "output_type": "stream",
     "text": [
      "{1, 2, 3, 4}\n",
      "{1, 2, 3, 4}\n"
     ]
    }
   ],
   "source": [
    "a=set([1,2,3]);a.add(4);print(a)  # add element to set\n",
    "a.update([1,2]);print(a)  # update set with list"
   ]
  },
  {
   "cell_type": "code",
   "execution_count": 20,
   "metadata": {},
   "outputs": [
    {
     "name": "stdout",
     "output_type": "stream",
     "text": [
      "{2, 3}\n",
      "{2, 3}\n"
     ]
    }
   ],
   "source": [
    "a=set([1,2,3]);a.remove(1);print(a)  # remove element from set\n",
    "a.discard(4);print(a)  # discard element from set"
   ]
  },
  {
   "cell_type": "markdown",
   "metadata": {},
   "source": [
    "**set comprehension**"
   ]
  },
  {
   "cell_type": "code",
   "execution_count": 23,
   "metadata": {},
   "outputs": [
    {
     "name": "stdout",
     "output_type": "stream",
     "text": [
      "{0, 1, 2, 3, 4}\n"
     ]
    }
   ],
   "source": [
    "a=set(x for x in range(5));print(a)  # set comprehension"
   ]
  },
  {
   "cell_type": "markdown",
   "metadata": {},
   "source": [
    "---\n",
    "- ### Boolen"
   ]
  },
  {
   "cell_type": "markdown",
   "metadata": {},
   "source": [
    "**== & =!**"
   ]
  },
  {
   "cell_type": "code",
   "execution_count": 31,
   "metadata": {},
   "outputs": [
    {
     "name": "stdout",
     "output_type": "stream",
     "text": [
      "True True\n",
      "False True\n"
     ]
    }
   ],
   "source": [
    "print(True==1,False==0)  # boolean\n",
    "print(3 == 5,3 != 5)  # comparison"
   ]
  },
  {
   "cell_type": "markdown",
   "metadata": {},
   "source": [
    "**bool<->int**"
   ]
  },
  {
   "cell_type": "code",
   "execution_count": 32,
   "metadata": {},
   "outputs": [
    {
     "name": "stdout",
     "output_type": "stream",
     "text": [
      "True False\n",
      "1 0\n"
     ]
    }
   ],
   "source": [
    "print(bool('a'),bool([]))  # boolean conversion\n",
    "print(int(True),int(False))  # boolean conversion"
   ]
  },
  {
   "cell_type": "markdown",
   "metadata": {},
   "source": [
    "**calculation**"
   ]
  },
  {
   "cell_type": "code",
   "execution_count": 33,
   "metadata": {},
   "outputs": [
    {
     "name": "stdout",
     "output_type": "stream",
     "text": [
      "False True False\n"
     ]
    }
   ],
   "source": [
    "print(True and False,True or False,not True)  # logical operation"
   ]
  },
  {
   "cell_type": "markdown",
   "metadata": {},
   "source": [
    "---\n",
    "- ### Bytes"
   ]
  },
  {
   "cell_type": "markdown",
   "metadata": {},
   "source": [
    "**b'xxx'**"
   ]
  },
  {
   "cell_type": "code",
   "execution_count": 34,
   "metadata": {},
   "outputs": [
    {
     "name": "stdout",
     "output_type": "stream",
     "text": [
      "b'Hello'\n",
      "b'HelloHiHi'\n",
      "72 72\n"
     ]
    }
   ],
   "source": [
    "x=bytes('Hello',encoding='utf-8');print(x) #bytes\n",
    "y=b'Hi';print(x+2*y)\n",
    "print(x[0],ord('H'))  # byte indexing"
   ]
  },
  {
   "cell_type": "markdown",
   "metadata": {},
   "source": [
    "**ord()<->chr()**"
   ]
  },
  {
   "cell_type": "code",
   "execution_count": 35,
   "metadata": {},
   "outputs": [
    {
     "name": "stdout",
     "output_type": "stream",
     "text": [
      "65 90 97 122\n",
      "72\n",
      "H\n"
     ]
    }
   ],
   "source": [
    "print(ord('A'),ord('Z'),ord('a'),ord('z'))  # ASCII\n",
    "a=ord('H');print(a);print(chr(a))  # ord: ASCII to integer, chr: integer to ASCII"
   ]
  }
 ],
 "metadata": {
  "kernelspec": {
   "display_name": "Python 3",
   "language": "python",
   "name": "python3"
  },
  "language_info": {
   "codemirror_mode": {
    "name": "ipython",
    "version": 3
   },
   "file_extension": ".py",
   "mimetype": "text/x-python",
   "name": "python",
   "nbconvert_exporter": "python",
   "pygments_lexer": "ipython3",
   "version": "3.13.2"
  }
 },
 "nbformat": 4,
 "nbformat_minor": 2
}
