{
 "cells": [
  {
   "cell_type": "markdown",
   "metadata": {},
   "source": [
    "- ### Data type\n",
    "Immutable: number / string / tuple\n",
    "\n",
    "Mutable: list / dictionary / set\n",
    "\n",
    "Other: Boolen / bytes\n",
    "\n",
    " ---"
   ]
  },
  {
   "cell_type": "markdown",
   "metadata": {},
   "source": [
    "- ### Number"
   ]
  },
  {
   "cell_type": "markdown",
   "metadata": {},
   "source": [
    "**type**"
   ]
  },
  {
   "cell_type": "code",
   "execution_count": 4,
   "metadata": {},
   "outputs": [
    {
     "name": "stdout",
     "output_type": "stream",
     "text": [
      "<class 'int'>\n",
      "<class 'float'>\n",
      "<class 'complex'>\n",
      "<class 'str'>\n",
      "<class 'bool'>\n",
      "<class 'NoneType'>\n",
      "<class 'list'>\n",
      "<class 'tuple'>\n",
      "<class 'dict'>\n",
      "<class 'set'>\n"
     ]
    }
   ],
   "source": [
    "print(type(1)) #integer\n",
    "print(type(1.0)) #float\n",
    "print(type(1 + 1j)) #complex\n",
    "print(type(\"1\")) #string\n",
    "print(type(True)) #boolean\n",
    "print(type(None)) #NoneType\n",
    "print(type([])) #list\n",
    "print(type(())) #tuple\n",
    "print(type({})) #dictionary\n",
    "print(type(set())) #set"
   ]
  },
  {
   "cell_type": "markdown",
   "metadata": {},
   "source": [
    "**basic calculation**"
   ]
  },
  {
   "cell_type": "code",
   "execution_count": 5,
   "id": "341679d1-e77e-4f90-b499-d52507db1eef",
   "metadata": {},
   "outputs": [
    {
     "name": "stdout",
     "output_type": "stream",
     "text": [
      "18\n",
      "2.3333333333333335\n"
     ]
    }
   ],
   "source": [
    "print(3 * 6)  # multiplication\n",
    "print(7/3)  # division"
   ]
  },
  {
   "cell_type": "code",
   "execution_count": 6,
   "metadata": {},
   "outputs": [
    {
     "name": "stdout",
     "output_type": "stream",
     "text": [
      "2\n",
      "1\n",
      "(2, 1)\n"
     ]
    }
   ],
   "source": [
    "print(7//3)  # integer division\n",
    "print(7 % 3)  # modulus\n",
    "print(divmod(7, 3))  # integer division and modulus"
   ]
  },
  {
   "cell_type": "code",
   "execution_count": 7,
   "metadata": {},
   "outputs": [
    {
     "name": "stdout",
     "output_type": "stream",
     "text": [
      "9\n",
      "9\n"
     ]
    }
   ],
   "source": [
    "print(3 ** 2)\n",
    "print(pow(3,2))  # exponentiation"
   ]
  },
  {
   "cell_type": "code",
   "execution_count": 8,
   "metadata": {},
   "outputs": [
    {
     "name": "stdout",
     "output_type": "stream",
     "text": [
      "1\n",
      "3\n"
     ]
    }
   ],
   "source": [
    "print(pow(3,2,mod=4))  # exponentiation with modulus\n",
    "print(pow(3,-1,mod=4))  # negative exponentiation with modulus"
   ]
  },
  {
   "cell_type": "markdown",
   "metadata": {},
   "source": [
    "**scientific notation**"
   ]
  },
  {
   "cell_type": "code",
   "execution_count": 9,
   "metadata": {},
   "outputs": [
    {
     "name": "stdout",
     "output_type": "stream",
     "text": [
      "0.03\n"
     ]
    }
   ],
   "source": [
    "print(3E-2)  # scientific notation"
   ]
  },
  {
   "cell_type": "markdown",
   "metadata": {},
   "source": [
    "**complex number**"
   ]
  },
  {
   "cell_type": "code",
   "execution_count": 10,
   "metadata": {},
   "outputs": [
    {
     "name": "stdout",
     "output_type": "stream",
     "text": [
      "(3+4j) (3+4j) (-inf+nanj)\n",
      "5.0\n",
      "3.0\n",
      "4.0\n"
     ]
    }
   ],
   "source": [
    "a=complex('3+4j');b=complex(3,4);c=complex('-Infinity+NaNj')\n",
    "print(a,b,c);print(abs(a));print(a.real);print(a.imag)  # complex number"
   ]
  },
  {
   "cell_type": "markdown",
   "metadata": {},
   "source": [
    "---\n",
    "- ### String"
   ]
  },
  {
   "cell_type": "markdown",
   "metadata": {},
   "source": [
    "**operation**"
   ]
  },
  {
   "cell_type": "code",
   "execution_count": 11,
   "metadata": {},
   "outputs": [
    {
     "name": "stdout",
     "output_type": "stream",
     "text": [
      "bracbracket\n"
     ]
    }
   ],
   "source": [
    "print(2*'brac'+'ket')  # string concatenation"
   ]
  },
  {
   "cell_type": "markdown",
   "metadata": {},
   "source": [
    "**escape \"\\\\\"**"
   ]
  },
  {
   "cell_type": "code",
   "execution_count": 12,
   "metadata": {},
   "outputs": [
    {
     "name": "stdout",
     "output_type": "stream",
     "text": [
      "don't  or  don't\n"
     ]
    }
   ],
   "source": [
    "print('don\\'t',\" or \",\"don't\")  # escape character"
   ]
  },
  {
   "cell_type": "markdown",
   "metadata": {},
   "source": [
    "**raw string**"
   ]
  },
  {
   "cell_type": "code",
   "execution_count": 13,
   "metadata": {},
   "outputs": [
    {
     "name": "stdout",
     "output_type": "stream",
     "text": [
      "line1\\nline2\n"
     ]
    }
   ],
   "source": [
    "print(r\"line1\\nline2\")  # raw string"
   ]
  },
  {
   "cell_type": "markdown",
   "metadata": {},
   "source": [
    "**concatenation**"
   ]
  },
  {
   "cell_type": "code",
   "execution_count": 14,
   "metadata": {},
   "outputs": [
    {
     "name": "stdout",
     "output_type": "stream",
     "text": [
      "string1string2\n"
     ]
    }
   ],
   "source": [
    "print(\"string1\\\n",
    "string2\")  # string concatenation"
   ]
  },
  {
   "cell_type": "code",
   "execution_count": null,
   "metadata": {},
   "outputs": [
    {
     "name": "stdout",
     "output_type": "stream",
     "text": [
      "string1string2\n"
     ]
    }
   ],
   "source": [
    "print('string1', end='') # do not print new line\n",
    "print('string2')"
   ]
  },
  {
   "cell_type": "markdown",
   "metadata": {},
   "source": [
    "**multi-line**"
   ]
  },
  {
   "cell_type": "code",
   "execution_count": 16,
   "metadata": {},
   "outputs": [
    {
     "name": "stdout",
     "output_type": "stream",
     "text": [
      "line1\n",
      "line2\n"
     ]
    }
   ],
   "source": [
    "print(\"line1\\nline2\")  # new line"
   ]
  },
  {
   "cell_type": "code",
   "execution_count": 17,
   "metadata": {},
   "outputs": [
    {
     "name": "stdout",
     "output_type": "stream",
     "text": [
      "string1\n",
      "string2\n",
      "string3\n"
     ]
    }
   ],
   "source": [
    "print(\"\"\"string1\n",
    "string2\n",
    "string3\"\"\")  # multi-line string"
   ]
  },
  {
   "cell_type": "markdown",
   "metadata": {},
   "source": [
    "**format by %**"
   ]
  },
  {
   "cell_type": "code",
   "execution_count": 56,
   "metadata": {},
   "outputs": [
    {
     "name": "stdout",
     "output_type": "stream",
     "text": [
      "3.141593 in integer is 3\n"
     ]
    }
   ],
   "source": [
    "import math\n",
    "print(\"%f in %s is %d\" % (math.pi,\"integer\",math.pi))  # %s for string, %d for integer, %f for float"
   ]
  },
  {
   "cell_type": "markdown",
   "metadata": {},
   "source": [
    "**format by str.format()**"
   ]
  },
  {
   "cell_type": "code",
   "execution_count": 72,
   "metadata": {},
   "outputs": [
    {
     "name": "stdout",
     "output_type": "stream",
     "text": [
      "two decimal 3.14\n"
     ]
    }
   ],
   "source": [
    "import math\n",
    "str=\"{} {:.2f}\".format(\"two decimal\", math.pi) # default order; 2 decimal places\n",
    "print(str)  # string format"
   ]
  },
  {
   "cell_type": "code",
   "execution_count": 87,
   "metadata": {},
   "outputs": [
    {
     "name": "stdout",
     "output_type": "stream",
     "text": [
      "xx5 10,000\n"
     ]
    }
   ],
   "source": [
    "str=\"{0:x>3d} {1:,}\".format(5, 10000) # ordered; fill with x, align right, width 3; comma separator\n",
    "print(str)  # string format"
   ]
  },
  {
   "cell_type": "code",
   "execution_count": 96,
   "metadata": {},
   "outputs": [
    {
     "name": "stdout",
     "output_type": "stream",
     "text": [
      "25.67%  56 x\n"
     ]
    }
   ],
   "source": [
    "str=\"{pos1:.2%} {pos2:^4d}x\".format(pos1=0.2567, pos2=56) # named\n",
    "print(str)  # string format"
   ]
  },
  {
   "cell_type": "code",
   "execution_count": 59,
   "metadata": {},
   "outputs": [
    {
     "name": "stdout",
     "output_type": "stream",
     "text": [
      "hello world\n"
     ]
    }
   ],
   "source": [
    "dict={\"pos1\":\"hello\", \"pos2\":\"world\"}\n",
    "str=\"{pos1} {pos2}\".format(**dict) # dictionary with **\n",
    "print(str)  # string format"
   ]
  },
  {
   "cell_type": "code",
   "execution_count": 61,
   "metadata": {},
   "outputs": [
    {
     "name": "stdout",
     "output_type": "stream",
     "text": [
      "hello world\n"
     ]
    }
   ],
   "source": [
    "list=[\"hello\", \"world\"]\n",
    "str=\"{0[0]} {0[1]}\".format(list) # list with 0[]\n",
    "print(str)  # string format"
   ]
  },
  {
   "cell_type": "markdown",
   "metadata": {},
   "source": [
    "**string as list**"
   ]
  },
  {
   "cell_type": "code",
   "execution_count": 97,
   "metadata": {},
   "outputs": [
    {
     "name": "stdout",
     "output_type": "stream",
     "text": [
      "5\n",
      "w d\n",
      "wo ld\n"
     ]
    }
   ],
   "source": [
    "char=\"world\";print(len(char))   # length\n",
    "a=char[0];b=char[-1];print(a,b)  # string indexing\n",
    "c=char[:2];d=char[-2:];print(c,d)  # string slicing with positive 2 excludied"
   ]
  },
  {
   "cell_type": "markdown",
   "metadata": {},
   "source": [
    "**search**"
   ]
  },
  {
   "cell_type": "code",
   "execution_count": 110,
   "metadata": {},
   "outputs": [
    {
     "name": "stdout",
     "output_type": "stream",
     "text": [
      "3\n",
      "3\n"
     ]
    }
   ],
   "source": [
    "str=\"l\";word=\"hello\"\n",
    "print(word.find(str,3,5))  # find str from 3 to 5; return -1 if not found\n",
    "print(word.index(str,3,5))  # index str from 3 to 5; raise ValueError if not found"
   ]
  },
  {
   "cell_type": "markdown",
   "metadata": {},
   "source": [
    "**replace**"
   ]
  },
  {
   "cell_type": "code",
   "execution_count": 131,
   "metadata": {},
   "outputs": [
    {
     "name": "stdout",
     "output_type": "stream",
     "text": [
      "hi\n"
     ]
    }
   ],
   "source": [
    "word=\"hello\";wordnew=word.replace(\"ello\",\"i\",1) # replace all occurance with at most 1 times\n",
    "print(wordnew)  # replace first occurance"
   ]
  },
  {
   "cell_type": "markdown",
   "metadata": {},
   "source": [
    "**split**"
   ]
  },
  {
   "cell_type": "code",
   "execution_count": 132,
   "metadata": {},
   "outputs": [
    {
     "name": "stdout",
     "output_type": "stream",
     "text": [
      "['hello', 'world !']\n"
     ]
    }
   ],
   "source": [
    "sent=\"hello world !\";wordlist=sent.split(\" \",1) # split by space with at most 1 times\n",
    "print(wordlist)  # split string"
   ]
  },
  {
   "cell_type": "code",
   "execution_count": 139,
   "metadata": {},
   "outputs": [
    {
     "name": "stdout",
     "output_type": "stream",
     "text": [
      "['hello', 'world']\n"
     ]
    }
   ],
   "source": [
    "multiline=\"\"\"hello\n",
    "world\"\"\"\n",
    "print(multiline.splitlines())  # split by line without \\n; default keepends=False"
   ]
  },
  {
   "cell_type": "markdown",
   "metadata": {},
   "source": [
    "---\n",
    "- ### Tuple"
   ]
  },
  {
   "cell_type": "code",
   "execution_count": 19,
   "metadata": {},
   "outputs": [
    {
     "name": "stdout",
     "output_type": "stream",
     "text": [
      "(1, 2, 3, 4, 5, 'f')\n",
      "1\n",
      "f\n",
      "(1, 3, 5)\n"
     ]
    }
   ],
   "source": [
    "tuple=(1,2,3,4,5,'f');print(tuple)\n",
    "print(tuple[0]);print(tuple[-1])  # tuple, immutable\n",
    "print(tuple[::2])  # tuple slicing with steps 2"
   ]
  },
  {
   "cell_type": "code",
   "execution_count": 20,
   "metadata": {},
   "outputs": [
    {
     "name": "stdout",
     "output_type": "stream",
     "text": [
      "()\n",
      "(1,)\n"
     ]
    }
   ],
   "source": [
    "tuple=();print(tuple)  # empty tuple\n",
    "tuple=(1,);print(tuple)  # tuple with one element"
   ]
  },
  {
   "cell_type": "code",
   "execution_count": 21,
   "metadata": {},
   "outputs": [
    {
     "name": "stdout",
     "output_type": "stream",
     "text": [
      "a \\ b\n"
     ]
    }
   ],
   "source": [
    "print(\"a \\\\ b\")"
   ]
  },
  {
   "cell_type": "markdown",
   "metadata": {},
   "source": [
    "---\n",
    "- ### List"
   ]
  },
  {
   "cell_type": "code",
   "execution_count": 22,
   "metadata": {},
   "outputs": [
    {
     "name": "stdout",
     "output_type": "stream",
     "text": [
      "[3, 5]\n",
      "[1, 6]\n",
      "[1, 2, -3, 4, 5, 6]\n",
      "[1, 2, -3, 4, 5, 6, 6]\n",
      "[1, 2, -3, 4, 5, 6]\n",
      "[1, 2, -3, 4]\n",
      "4\n"
     ]
    }
   ],
   "source": [
    "list=[1,2,3,4,5,6];print(list[2:-1:2]) # list slicing from pos 2 to pos -1(excluded) with step 2\n",
    "print([list[0],list[-1]])  # list, mutable\n",
    "list[2]=-3;print(list);list.append(6);print(list);list.pop();print(list)  # list modification\n",
    "list[-2:]=[];print(list);print(len(list))  # list shrink"
   ]
  },
  {
   "cell_type": "code",
   "execution_count": 23,
   "metadata": {},
   "outputs": [
    {
     "name": "stdout",
     "output_type": "stream",
     "text": [
      "[[1, 'f'], [3, 4]]\n",
      "4\n",
      "[1, 'f', 1, 'f', 3, 4]\n"
     ]
    }
   ],
   "source": [
    "list1=[1,'f'];list2=[3,4]\n",
    "list=[list1,list2];print(list);print(list[1][1])  # list nesting\n",
    "list0=2*list1+list2;print(list0)  # list concatenation"
   ]
  },
  {
   "cell_type": "markdown",
   "metadata": {},
   "source": [
    "---\n",
    "- ### Dictionary"
   ]
  },
  {
   "cell_type": "code",
   "execution_count": 24,
   "metadata": {},
   "outputs": [
    {
     "name": "stdout",
     "output_type": "stream",
     "text": [
      "{}\n",
      "{'x': 'y'}\n",
      "y\n"
     ]
    }
   ],
   "source": [
    "d={};print(d)  # dictionary\n",
    "d['x']='y';print(d);print(d['x'])  # dictionary modification"
   ]
  },
  {
   "cell_type": "code",
   "execution_count": 25,
   "metadata": {},
   "outputs": [
    {
     "name": "stdout",
     "output_type": "stream",
     "text": [
      "{'name': 'A', 'age': 21, 'city': 'London'}\n",
      "dict_keys(['name', 'age', 'city'])\n",
      "dict_values(['A', 21, 'London'])\n",
      "dict_items([('name', 'A'), ('age', 21), ('city', 'London')])\n",
      "('city', 'London')\n",
      "A None\n"
     ]
    }
   ],
   "source": [
    "person={'name':'A','age':21,'city':'London'}\n",
    "print(person)  # tiny dictionary\n",
    "print(person.keys());print(person.values())  # dictionary keys and values\n",
    "print(person.items());print(person.popitem())  # dictionary items\n",
    "print(person.get('name'),person.get('salary'))  # prevents KeyError if key doesn't exist"
   ]
  },
  {
   "cell_type": "code",
   "execution_count": 26,
   "metadata": {},
   "outputs": [
    {
     "name": "stdout",
     "output_type": "stream",
     "text": [
      "name B\n",
      "age 22\n",
      "city Paris\n",
      "\n",
      "\n",
      "name C\n",
      "age 23\n",
      "city Berlin\n"
     ]
    }
   ],
   "source": [
    "person1=dict(name='B',age=22,city='Paris')\n",
    "for key in person1:\n",
    "    print(key,person1[key])  # dictionary iteration\n",
    "\n",
    "print(\"\\n\")\n",
    "person2=dict([('name','C'),('age',23),('city','Berlin')])\n",
    "for key,value in person2.items():\n",
    "    print(key, value)  # dictionary iteration"
   ]
  },
  {
   "cell_type": "code",
   "execution_count": 27,
   "metadata": {},
   "outputs": [
    {
     "name": "stdout",
     "output_type": "stream",
     "text": [
      "{0: 0, 1: 1, 2: 4, 3: 9, 4: 16}\n",
      "{0: 0, 1: 1, 2: 4, 3: 9, 4: 16}\n"
     ]
    }
   ],
   "source": [
    "square={x:x**2 for x in range(5)};print(square)  # dictionary comprehension\n",
    "square=dict((x,x**2) for x in range(5));print(square)  # dictionary comprehension"
   ]
  },
  {
   "cell_type": "code",
   "execution_count": 28,
   "metadata": {},
   "outputs": [
    {
     "name": "stdout",
     "output_type": "stream",
     "text": [
      "{'a': 3, 'b': 2, 'c': 4}\n"
     ]
    }
   ],
   "source": [
    "dict1 = {\"a\": 1, \"b\": 2}\n",
    "dict2 = {\"a\": 3, \"c\": 4}\n",
    "dict1.update(dict2);print(dict1)  # dictionary update"
   ]
  },
  {
   "cell_type": "markdown",
   "metadata": {},
   "source": [
    "---\n",
    "- ### Set\n"
   ]
  },
  {
   "cell_type": "code",
   "execution_count": 29,
   "metadata": {},
   "outputs": [
    {
     "name": "stdout",
     "output_type": "stream",
     "text": [
      "set()\n",
      "{1, 2, 3}\n"
     ]
    }
   ],
   "source": [
    "setnull=set();print(setnull)  # empty set\n",
    "set1={1,2,3,3};print(set1)  # set excludes duplicates"
   ]
  },
  {
   "cell_type": "code",
   "execution_count": 30,
   "metadata": {},
   "outputs": [
    {
     "name": "stdout",
     "output_type": "stream",
     "text": [
      "{'d', 'b', 'c', 'a'}\n",
      "{'b', 'c'}\n",
      "{'a'}\n",
      "{'d', 'a'}\n",
      "{'d', 'a'}\n"
     ]
    }
   ],
   "source": [
    "s1={'a','b','c'};s2={'b','c','d'}\n",
    "print(s1|s2);print(s1&s2);print(s1-s2);print(s1^s2);print((s1|s2)-(s1&s2))  # set union, intersection, difference, union with not intersection"
   ]
  },
  {
   "cell_type": "markdown",
   "metadata": {},
   "source": [
    "---\n",
    "- ### Boolen"
   ]
  },
  {
   "cell_type": "code",
   "execution_count": 31,
   "metadata": {},
   "outputs": [
    {
     "name": "stdout",
     "output_type": "stream",
     "text": [
      "True True\n",
      "False True\n"
     ]
    }
   ],
   "source": [
    "print(True==1,False==0)  # boolean\n",
    "print(3 == 5,3 != 5)  # comparison"
   ]
  },
  {
   "cell_type": "code",
   "execution_count": 32,
   "metadata": {},
   "outputs": [
    {
     "name": "stdout",
     "output_type": "stream",
     "text": [
      "True False\n",
      "1 0\n"
     ]
    }
   ],
   "source": [
    "print(bool('a'),bool([]))  # boolean conversion\n",
    "print(int(True),int(False))  # boolean conversion"
   ]
  },
  {
   "cell_type": "code",
   "execution_count": 33,
   "metadata": {},
   "outputs": [
    {
     "name": "stdout",
     "output_type": "stream",
     "text": [
      "False True False\n"
     ]
    }
   ],
   "source": [
    "print(True and False,True or False,not True)  # logical operation"
   ]
  },
  {
   "cell_type": "markdown",
   "metadata": {},
   "source": [
    "---\n",
    "- ### Bytes"
   ]
  },
  {
   "cell_type": "code",
   "execution_count": 34,
   "metadata": {},
   "outputs": [
    {
     "name": "stdout",
     "output_type": "stream",
     "text": [
      "b'Hello'\n",
      "b'HelloHiHi'\n",
      "72 72\n"
     ]
    }
   ],
   "source": [
    "x=bytes('Hello',encoding='utf-8');print(x) #bytes\n",
    "y=b'Hi';print(x+2*y)\n",
    "print(x[0],ord('H'))  # byte indexing"
   ]
  },
  {
   "cell_type": "code",
   "execution_count": 35,
   "metadata": {},
   "outputs": [
    {
     "name": "stdout",
     "output_type": "stream",
     "text": [
      "65 90 97 122\n",
      "72\n",
      "H\n"
     ]
    }
   ],
   "source": [
    "print(ord('A'),ord('Z'),ord('a'),ord('z'))  # ASCII\n",
    "a=ord('H');print(a);print(chr(a))  # ord: ASCII to integer, chr: integer to ASCII"
   ]
  }
 ],
 "metadata": {
  "kernelspec": {
   "display_name": "Python 3",
   "language": "python",
   "name": "python3"
  },
  "language_info": {
   "codemirror_mode": {
    "name": "ipython",
    "version": 3
   },
   "file_extension": ".py",
   "mimetype": "text/x-python",
   "name": "python",
   "nbconvert_exporter": "python",
   "pygments_lexer": "ipython3",
   "version": "3.13.2"
  }
 },
 "nbformat": 4,
 "nbformat_minor": 2
}
