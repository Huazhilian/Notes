{
 "cells": [
  {
   "cell_type": "markdown",
   "metadata": {},
   "source": [
    "- ### Data type\n",
    "Immutable: number / string / tuple\n",
    "\n",
    "Mutable: list / dictionary / set\n",
    "\n",
    "Other: Boolen / bytes ...\n",
    "\n",
    " ---"
   ]
  },
  {
   "cell_type": "markdown",
   "metadata": {},
   "source": [
    "- ### Number"
   ]
  },
  {
   "cell_type": "code",
   "execution_count": 17,
   "metadata": {},
   "outputs": [
    {
     "name": "stdout",
     "output_type": "stream",
     "text": [
      "<class 'int'>\n",
      "<class 'float'>\n",
      "<class 'complex'>\n",
      "<class 'str'>\n",
      "<class 'bool'>\n",
      "<class 'NoneType'>\n",
      "<class 'list'>\n",
      "<class 'tuple'>\n",
      "<class 'dict'>\n",
      "<class 'set'>\n"
     ]
    }
   ],
   "source": [
    "print(type(1)) #integer\n",
    "print(type(1.0)) #float\n",
    "print(type(1 + 1j)) #complex\n",
    "print(type(\"1\")) #string\n",
    "print(type(True)) #boolean\n",
    "print(type(None)) #NoneType\n",
    "print(type([])) #list\n",
    "print(type(())) #tuple\n",
    "print(type({})) #dictionary\n",
    "print(type(set())) #set"
   ]
  },
  {
   "cell_type": "code",
   "execution_count": 18,
   "id": "341679d1-e77e-4f90-b499-d52507db1eef",
   "metadata": {},
   "outputs": [
    {
     "name": "stdout",
     "output_type": "stream",
     "text": [
      "18\n",
      "2.3333333333333335\n"
     ]
    }
   ],
   "source": [
    "print(3 * 6)  # multiplication\n",
    "print(7/3)  # division"
   ]
  },
  {
   "cell_type": "code",
   "execution_count": 19,
   "metadata": {},
   "outputs": [
    {
     "name": "stdout",
     "output_type": "stream",
     "text": [
      "2\n",
      "1\n",
      "(2, 1)\n"
     ]
    }
   ],
   "source": [
    "print(7//3)  # integer division\n",
    "print(7 % 3)  # modulus\n",
    "print(divmod(7, 3))  # integer division and modulus"
   ]
  },
  {
   "cell_type": "code",
   "execution_count": 20,
   "metadata": {},
   "outputs": [
    {
     "name": "stdout",
     "output_type": "stream",
     "text": [
      "9\n",
      "9\n"
     ]
    }
   ],
   "source": [
    "print(3 ** 2)\n",
    "print(pow(3,2))  # exponentiation"
   ]
  },
  {
   "cell_type": "code",
   "execution_count": 21,
   "metadata": {},
   "outputs": [
    {
     "name": "stdout",
     "output_type": "stream",
     "text": [
      "1\n",
      "3\n"
     ]
    }
   ],
   "source": [
    "print(pow(3,2,mod=4))  # exponentiation with modulus\n",
    "print(pow(3,-1,mod=4))  # negative exponentiation with modulus"
   ]
  },
  {
   "cell_type": "code",
   "execution_count": 22,
   "metadata": {},
   "outputs": [
    {
     "name": "stdout",
     "output_type": "stream",
     "text": [
      "0.03\n"
     ]
    }
   ],
   "source": [
    "print(3E-2)  # scientific notation"
   ]
  },
  {
   "cell_type": "code",
   "execution_count": 23,
   "metadata": {},
   "outputs": [
    {
     "name": "stdout",
     "output_type": "stream",
     "text": [
      "(3+4j) (3+4j) (-inf+nanj)\n",
      "5.0\n",
      "3.0\n",
      "4.0\n"
     ]
    }
   ],
   "source": [
    "a=complex('3+4j');b=complex(3,4);c=complex('-Infinity+NaNj')\n",
    "print(a,b,c);print(abs(a));print(a.real);print(a.imag)  # complex number"
   ]
  },
  {
   "cell_type": "markdown",
   "metadata": {},
   "source": [
    "---\n",
    "- ### String"
   ]
  },
  {
   "cell_type": "code",
   "execution_count": 24,
   "metadata": {},
   "outputs": [
    {
     "name": "stdout",
     "output_type": "stream",
     "text": [
      "bracbracket\n",
      "don't  or  don't\n"
     ]
    }
   ],
   "source": [
    "print(2*'brac'+'ket')  # string concatenation\n",
    "print('don\\'t',\" or \",\"don't\")  # escape character"
   ]
  },
  {
   "cell_type": "code",
   "execution_count": 25,
   "metadata": {},
   "outputs": [
    {
     "name": "stdout",
     "output_type": "stream",
     "text": [
      "line1\n",
      "line2\n",
      "line1\\nline2\n"
     ]
    }
   ],
   "source": [
    "print(\"line1\\nline2\")  # new line\n",
    "print(r\"line1\\nline2\")  # raw string"
   ]
  },
  {
   "cell_type": "code",
   "execution_count": 26,
   "metadata": {},
   "outputs": [
    {
     "name": "stdout",
     "output_type": "stream",
     "text": [
      "string1string2\n"
     ]
    }
   ],
   "source": [
    "print(\"string1\\\n",
    "string2\")  # string concatenation"
   ]
  },
  {
   "cell_type": "code",
   "execution_count": 27,
   "metadata": {},
   "outputs": [
    {
     "name": "stdout",
     "output_type": "stream",
     "text": [
      "string1 string2\n"
     ]
    }
   ],
   "source": [
    "print('string1', end=' ') # do not print new line\n",
    "print('string2')"
   ]
  },
  {
   "cell_type": "code",
   "execution_count": 28,
   "metadata": {},
   "outputs": [
    {
     "name": "stdout",
     "output_type": "stream",
     "text": [
      "string1\n",
      "string2\n",
      "string3\n"
     ]
    }
   ],
   "source": [
    "print(\"\"\"string1\n",
    "string2\n",
    "string3\"\"\")  # multi-line string"
   ]
  },
  {
   "cell_type": "code",
   "execution_count": 29,
   "metadata": {},
   "outputs": [
    {
     "name": "stdout",
     "output_type": "stream",
     "text": [
      "5\n",
      "w\n",
      "d\n",
      "wo\n",
      "ld\n"
     ]
    }
   ],
   "source": [
    "char=\"world\";print(len(char))   # length\n",
    "a=char[0];b=char[-1];print(a);print(b)  # string indexing\n",
    "c=char[:2];d=char[-2:];print(c);print(d)  # string slicing with positive 2 excludied"
   ]
  },
  {
   "cell_type": "markdown",
   "metadata": {},
   "source": [
    "---\n",
    "- ### Tuple"
   ]
  },
  {
   "cell_type": "code",
   "execution_count": 30,
   "metadata": {},
   "outputs": [
    {
     "name": "stdout",
     "output_type": "stream",
     "text": [
      "(1, 2, 3, 4, 5, 'f')\n",
      "1\n",
      "f\n",
      "(1, 3, 5)\n"
     ]
    }
   ],
   "source": [
    "tuple=(1,2,3,4,5,'f');print(tuple)\n",
    "print(tuple[0]);print(tuple[-1])  # tuple, immutable\n",
    "print(tuple[::2])  # tuple slicing with steps 2"
   ]
  },
  {
   "cell_type": "code",
   "execution_count": 31,
   "metadata": {},
   "outputs": [
    {
     "name": "stdout",
     "output_type": "stream",
     "text": [
      "()\n",
      "(1,)\n"
     ]
    }
   ],
   "source": [
    "tuple=();print(tuple)  # empty tuple\n",
    "tuple=(1,);print(tuple)  # tuple with one element"
   ]
  },
  {
   "cell_type": "markdown",
   "metadata": {},
   "source": [
    "---\n",
    "- ### List"
   ]
  },
  {
   "cell_type": "code",
   "execution_count": 32,
   "metadata": {},
   "outputs": [
    {
     "name": "stdout",
     "output_type": "stream",
     "text": [
      "[3, 5]\n",
      "[1, 6]\n",
      "[1, 2, -3, 4, 5, 6]\n",
      "[1, 2, -3, 4, 5, 6, 6]\n",
      "[1, 2, -3, 4, 5, 6]\n",
      "[1, 2, -3, 4]\n",
      "4\n"
     ]
    }
   ],
   "source": [
    "list=[1,2,3,4,5,6];print(list[2:-1:2]) # list slicing from pos 2 to pos -1(excluded) with step 2\n",
    "print([list[0],list[-1]])  # list, mutable\n",
    "list[2]=-3;print(list);list.append(6);print(list);list.pop();print(list)  # list modification\n",
    "list[-2:]=[];print(list);print(len(list))  # list shrink"
   ]
  },
  {
   "cell_type": "code",
   "execution_count": 33,
   "metadata": {},
   "outputs": [
    {
     "name": "stdout",
     "output_type": "stream",
     "text": [
      "[[1, 'f'], [3, 4]]\n",
      "4\n",
      "[1, 'f', 1, 'f', 3, 4]\n"
     ]
    }
   ],
   "source": [
    "list1=[1,'f'];list2=[3,4]\n",
    "list=[list1,list2];print(list);print(list[1][1])  # list nesting\n",
    "list0=2*list1+list2;print(list0)  # list concatenation"
   ]
  },
  {
   "cell_type": "markdown",
   "metadata": {},
   "source": [
    "---\n",
    "- ### Dictionary"
   ]
  },
  {
   "cell_type": "code",
   "execution_count": 11,
   "metadata": {},
   "outputs": [
    {
     "name": "stdout",
     "output_type": "stream",
     "text": [
      "{}\n",
      "{'x': 'y'}\n",
      "y\n"
     ]
    }
   ],
   "source": [
    "d={};print(d)  # dictionary\n",
    "d['x']='y';print(d);print(d['x'])  # dictionary modification"
   ]
  },
  {
   "cell_type": "code",
   "execution_count": 1,
   "metadata": {},
   "outputs": [
    {
     "name": "stdout",
     "output_type": "stream",
     "text": [
      "{'name': 'A', 'age': 21, 'city': 'London'}\n",
      "dict_keys(['name', 'age', 'city'])\n",
      "dict_values(['A', 21, 'London'])\n",
      "dict_items([('name', 'A'), ('age', 21), ('city', 'London')])\n",
      "('city', 'London')\n",
      "A None\n"
     ]
    }
   ],
   "source": [
    "person={'name':'A','age':21,'city':'London'}\n",
    "print(person)  # tiny dictionary\n",
    "print(person.keys());print(person.values())  # dictionary keys and values\n",
    "print(person.items());print(person.popitem())  # dictionary items\n",
    "print(person.get('name'),person.get('salary'))  # prevents KeyError if key doesn't exist"
   ]
  },
  {
   "cell_type": "code",
   "execution_count": 11,
   "metadata": {},
   "outputs": [
    {
     "name": "stdout",
     "output_type": "stream",
     "text": [
      "name B\n",
      "age 22\n",
      "city Paris\n",
      "\n",
      "\n",
      "name C\n",
      "age 23\n",
      "city Berlin\n"
     ]
    }
   ],
   "source": [
    "person1=dict(name='B',age=22,city='Paris')\n",
    "for key in person1:\n",
    "    print(key,person1[key])  # dictionary iteration\n",
    "\n",
    "print(\"\\n\")\n",
    "person2=dict([('name','C'),('age',23),('city','Berlin')])\n",
    "for key,value in person2.items():\n",
    "    print(key, value)  # dictionary iteration"
   ]
  },
  {
   "cell_type": "code",
   "execution_count": 29,
   "metadata": {},
   "outputs": [
    {
     "name": "stdout",
     "output_type": "stream",
     "text": [
      "{0: 0, 1: 1, 2: 4, 3: 9, 4: 16}\n",
      "{0: 0, 1: 1, 2: 4, 3: 9, 4: 16}\n"
     ]
    }
   ],
   "source": [
    "square={x:x**2 for x in range(5)};print(square)  # dictionary comprehension\n",
    "square=dict((x,x**2) for x in range(5));print(square)  # dictionary comprehension"
   ]
  },
  {
   "cell_type": "code",
   "execution_count": null,
   "metadata": {},
   "outputs": [
    {
     "name": "stdout",
     "output_type": "stream",
     "text": [
      "{'a': 3, 'b': 2, 'c': 4}\n"
     ]
    }
   ],
   "source": [
    "dict1 = {\"a\": 1, \"b\": 2}\n",
    "dict2 = {\"a\": 3, \"c\": 4}\n",
    "dict1.update(dict2);print(dict1)  # dictionary update"
   ]
  },
  {
   "cell_type": "markdown",
   "metadata": {},
   "source": [
    "---\n",
    "- ### Set\n"
   ]
  },
  {
   "cell_type": "code",
   "execution_count": 36,
   "metadata": {},
   "outputs": [
    {
     "name": "stdout",
     "output_type": "stream",
     "text": [
      "set()\n",
      "{1, 2, 3}\n"
     ]
    }
   ],
   "source": [
    "setnull=set();print(setnull)  # empty set\n",
    "set1={1,2,3,3};print(set1)  # set excludes duplicates"
   ]
  },
  {
   "cell_type": "code",
   "execution_count": 37,
   "metadata": {},
   "outputs": [
    {
     "name": "stdout",
     "output_type": "stream",
     "text": [
      "{'a', 'd', 'c', 'b'}\n",
      "{'c', 'b'}\n",
      "{'a'}\n",
      "{'d', 'a'}\n",
      "{'a', 'd'}\n"
     ]
    }
   ],
   "source": [
    "s1={'a','b','c'};s2={'b','c','d'}\n",
    "print(s1|s2);print(s1&s2);print(s1-s2);print(s1^s2);print((s1|s2)-(s1&s2))  # set union, intersection, difference, union with not intersection"
   ]
  },
  {
   "cell_type": "markdown",
   "metadata": {},
   "source": [
    "---\n",
    "- ### Boolen"
   ]
  },
  {
   "cell_type": "code",
   "execution_count": 38,
   "metadata": {},
   "outputs": [
    {
     "name": "stdout",
     "output_type": "stream",
     "text": [
      "True True\n",
      "False True\n"
     ]
    }
   ],
   "source": [
    "print(True==1,False==0)  # boolean\n",
    "print(3 == 5,3 != 5)  # comparison"
   ]
  },
  {
   "cell_type": "code",
   "execution_count": 39,
   "metadata": {},
   "outputs": [
    {
     "name": "stdout",
     "output_type": "stream",
     "text": [
      "True False\n",
      "1 0\n"
     ]
    }
   ],
   "source": [
    "print(bool('a'),bool([]))  # boolean conversion\n",
    "print(int(True),int(False))  # boolean conversion"
   ]
  },
  {
   "cell_type": "code",
   "execution_count": 40,
   "metadata": {},
   "outputs": [
    {
     "name": "stdout",
     "output_type": "stream",
     "text": [
      "False True False\n"
     ]
    }
   ],
   "source": [
    "print(True and False,True or False,not True)  # logical operation"
   ]
  }
 ],
 "metadata": {
  "kernelspec": {
   "display_name": "Python 3",
   "language": "python",
   "name": "python3"
  },
  "language_info": {
   "codemirror_mode": {
    "name": "ipython",
    "version": 3
   },
   "file_extension": ".py",
   "mimetype": "text/x-python",
   "name": "python",
   "nbconvert_exporter": "python",
   "pygments_lexer": "ipython3",
   "version": "3.13.2"
  }
 },
 "nbformat": 4,
 "nbformat_minor": 2
}
