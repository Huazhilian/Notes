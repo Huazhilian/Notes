{
 "cells": [
  {
   "cell_type": "markdown",
   "metadata": {},
   "source": [
    "- ### Data type\n",
    "Immutable: number / string / tuple\n",
    "\n",
    "Mutable: list / dictionary / set\n",
    "\n",
    "Other: Bool / bytes ...\n",
    "\n",
    " ---"
   ]
  },
  {
   "cell_type": "markdown",
   "metadata": {},
   "source": [
    "- ### Number"
   ]
  },
  {
   "cell_type": "code",
   "execution_count": 12,
   "metadata": {},
   "outputs": [
    {
     "name": "stdout",
     "output_type": "stream",
     "text": [
      "<class 'int'>\n",
      "<class 'float'>\n",
      "<class 'complex'>\n",
      "<class 'str'>\n",
      "<class 'bool'>\n",
      "<class 'NoneType'>\n",
      "<class 'list'>\n",
      "<class 'tuple'>\n",
      "<class 'dict'>\n",
      "<class 'set'>\n"
     ]
    }
   ],
   "source": [
    "print(type(1)) #integer\n",
    "print(type(1.0)) #float\n",
    "print(type(1 + 1j)) #complex\n",
    "print(type(\"1\")) #string\n",
    "print(type(True)) #boolean\n",
    "print(type(None)) #NoneType\n",
    "print(type([])) #list\n",
    "print(type(())) #tuple\n",
    "print(type({})) #dictionary\n",
    "print(type(set())) #set"
   ]
  },
  {
   "cell_type": "code",
   "execution_count": null,
   "id": "341679d1-e77e-4f90-b499-d52507db1eef",
   "metadata": {},
   "outputs": [
    {
     "name": "stdout",
     "output_type": "stream",
     "text": [
      "18\n",
      "2.3333333333333335\n",
      "<class 'int'>\n"
     ]
    }
   ],
   "source": [
    "print(3 * 6)  # multiplication\n",
    "print(7/3)  # division"
   ]
  },
  {
   "cell_type": "code",
   "execution_count": null,
   "metadata": {},
   "outputs": [
    {
     "name": "stdout",
     "output_type": "stream",
     "text": [
      "2\n",
      "1\n",
      "(2, 1)\n"
     ]
    }
   ],
   "source": [
    "print(7//3)  # integer division\n",
    "print(7 % 3)  # modulus\n",
    "print(divmod(7, 3))  # integer division and modulus"
   ]
  },
  {
   "cell_type": "code",
   "execution_count": 2,
   "metadata": {},
   "outputs": [
    {
     "name": "stdout",
     "output_type": "stream",
     "text": [
      "9\n",
      "9\n"
     ]
    }
   ],
   "source": [
    "print(3 ** 2)\n",
    "print(pow(3,2))  # exponentiation"
   ]
  },
  {
   "cell_type": "code",
   "execution_count": 3,
   "metadata": {},
   "outputs": [
    {
     "name": "stdout",
     "output_type": "stream",
     "text": [
      "1\n",
      "3\n"
     ]
    }
   ],
   "source": [
    "print(pow(3,2,mod=4))  # exponentiation with modulus\n",
    "print(pow(3,-1,mod=4))  # negative exponentiation with modulus"
   ]
  },
  {
   "cell_type": "code",
   "execution_count": null,
   "metadata": {},
   "outputs": [
    {
     "name": "stdout",
     "output_type": "stream",
     "text": [
      "0.03\n"
     ]
    }
   ],
   "source": [
    "print(3E-2)  # scientific notation"
   ]
  },
  {
   "cell_type": "code",
   "execution_count": 7,
   "metadata": {},
   "outputs": [
    {
     "name": "stdout",
     "output_type": "stream",
     "text": [
      "(3+4j) (3+4j) (-inf+nanj)\n",
      "5.0\n",
      "3.0\n",
      "4.0\n"
     ]
    }
   ],
   "source": [
    "a=complex('3+4j');b=complex(3,4);c=complex('-Infinity+NaNj')\n",
    "print(a,b,c);print(abs(a));print(a.real);print(a.imag)  # complex number"
   ]
  },
  {
   "cell_type": "code",
   "execution_count": 13,
   "metadata": {},
   "outputs": [
    {
     "name": "stdout",
     "output_type": "stream",
     "text": [
      "True\n",
      "True\n",
      "False\n",
      "True\n"
     ]
    }
   ],
   "source": [
    "print(True==1);print(False==0)  # boolean\n",
    "print(3 == 5)\n",
    "print(3 != 5)  # comparison"
   ]
  },
  {
   "cell_type": "markdown",
   "metadata": {},
   "source": [
    "---\n",
    "- ### String"
   ]
  },
  {
   "cell_type": "code",
   "execution_count": null,
   "metadata": {},
   "outputs": [
    {
     "name": "stdout",
     "output_type": "stream",
     "text": [
      "bracbracket\n",
      "don't  or  don't\n"
     ]
    }
   ],
   "source": [
    "print(2*'brac'+'ket')  # string concatenation\n",
    "print('don\\'t',\" or \",\"don't\")  # escape character"
   ]
  },
  {
   "cell_type": "code",
   "execution_count": null,
   "metadata": {},
   "outputs": [
    {
     "name": "stdout",
     "output_type": "stream",
     "text": [
      "line1\n",
      "line2\n",
      "line1\\nline2\n"
     ]
    }
   ],
   "source": [
    "print(\"line1\\nline2\")  # new line\n",
    "print(r\"line1\\nline2\")  # raw string"
   ]
  },
  {
   "cell_type": "code",
   "execution_count": 6,
   "metadata": {},
   "outputs": [
    {
     "name": "stdout",
     "output_type": "stream",
     "text": [
      "string1string2\n"
     ]
    }
   ],
   "source": [
    "print(\"string1\\\n",
    "string2\")  # string concatenation"
   ]
  },
  {
   "cell_type": "code",
   "execution_count": 1,
   "metadata": {},
   "outputs": [
    {
     "name": "stdout",
     "output_type": "stream",
     "text": [
      "string1 string2\n"
     ]
    }
   ],
   "source": [
    "print('string1', end=' ') # do not print new line\n",
    "print('string2')"
   ]
  },
  {
   "cell_type": "code",
   "execution_count": 31,
   "metadata": {},
   "outputs": [
    {
     "name": "stdout",
     "output_type": "stream",
     "text": [
      "string1\n",
      "string2\n",
      "string3\n"
     ]
    }
   ],
   "source": [
    "print(\"\"\"string1\n",
    "string2\n",
    "string3\"\"\")  # multi-line string"
   ]
  },
  {
   "cell_type": "code",
   "execution_count": 32,
   "metadata": {},
   "outputs": [
    {
     "name": "stdout",
     "output_type": "stream",
     "text": [
      "5\n",
      "w\n",
      "d\n",
      "wo\n",
      "ld\n"
     ]
    }
   ],
   "source": [
    "char=\"world\";print(len(char))   # length\n",
    "a=char[0];b=char[-1];print(a);print(b)  # string indexing\n",
    "c=char[:2];d=char[-2:];print(c);print(d)  # string slicing with positive 2 excludied"
   ]
  },
  {
   "cell_type": "markdown",
   "metadata": {},
   "source": [
    "---\n",
    "- ### Tuple"
   ]
  },
  {
   "cell_type": "code",
   "execution_count": 6,
   "metadata": {},
   "outputs": [
    {
     "name": "stdout",
     "output_type": "stream",
     "text": [
      "(1, 2, 3, 4, 5, 'f')\n",
      "1\n",
      "f\n",
      "(1, 3, 5)\n"
     ]
    }
   ],
   "source": [
    "tuple=(1,2,3,4,5,'f');print(tuple)\n",
    "print(tuple[0]);print(tuple[-1])  # tuple, immutable\n",
    "print(tuple[::2])  # tuple slicing with steps 2"
   ]
  },
  {
   "cell_type": "markdown",
   "metadata": {},
   "source": [
    "---\n",
    "- ### List"
   ]
  },
  {
   "cell_type": "code",
   "execution_count": null,
   "metadata": {},
   "outputs": [
    {
     "name": "stdout",
     "output_type": "stream",
     "text": [
      "[3, 5]\n",
      "1\n",
      "6\n",
      "[1, 2, -3, 4, 5, 6]\n",
      "[1, 2, -3, 4, 5, 6, 6]\n",
      "[1, 2, -3, 4, 5, 6]\n",
      "[1, 2, -3, 4]\n",
      "4\n",
      "[[1, 'f'], [3, 4]]\n",
      "4\n"
     ]
    }
   ],
   "source": [
    "list=[1,2,3,4,5,6];print(list[2:-1:2]) # list slicing from pos 2 to pos -1(excluded) with step 2\n",
    "print(list[0]);print(list[-1])  # list, mutable\n",
    "list[2]=-3;print(list);list.append(6);print(list);list.pop();print(list)  # list modification\n",
    "list[-2:]=[];print(list);print(len(list))  # list shrink\n",
    "list1=[1,'f'];list2=[3,4];list=[list1,list2];print(list);print(list[1][1])  # list nesting"
   ]
  },
  {
   "cell_type": "markdown",
   "metadata": {},
   "source": [
    "---\n",
    "- ### Dictionary"
   ]
  },
  {
   "cell_type": "code",
   "execution_count": null,
   "metadata": {},
   "outputs": [],
   "source": []
  }
 ],
 "metadata": {
  "kernelspec": {
   "display_name": "Python 3",
   "language": "python",
   "name": "python3"
  },
  "language_info": {
   "codemirror_mode": {
    "name": "ipython",
    "version": 3
   },
   "file_extension": ".py",
   "mimetype": "text/x-python",
   "name": "python",
   "nbconvert_exporter": "python",
   "pygments_lexer": "ipython3",
   "version": "3.13.2"
  }
 },
 "nbformat": 4,
 "nbformat_minor": 2
}
