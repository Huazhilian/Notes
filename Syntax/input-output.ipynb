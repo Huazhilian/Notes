{
 "cells": [
  {
   "cell_type": "markdown",
   "metadata": {},
   "source": [
    "- ### Input & Output & file Storage & operating system\n",
    "\n",
    "1. Input\n",
    "\n",
    "**input from keyboard:**\n",
    "\n",
    "`input()`\n",
    "\n",
    "**open files:**\n",
    "\n",
    "`open(*filename*, [*mode*])`\n",
    "\n",
    "**with mode:**\n",
    "\n",
    "read / read&write / write / write&read / append / append&read\n",
    "\n",
    "`*mode* = r / r+ / w / w+ / a / a+`\n",
    "\n",
    "**location:**\n",
    "\n",
    "`seek()` `tell()`\n",
    "\n",
    "**operation:**\n",
    "\n",
    "`read()` `write()` `truncate()`\n",
    "\n",
    "---\n",
    "\n",
    "2. Output\n",
    "\n",
    "**display:**\n",
    "\n",
    "`print()` for string\n",
    "\n",
    "`repr()` for showing developer string representation\n",
    "\n",
    "`str()` for showing user string\n",
    "\n",
    "**formatting:**\n",
    "\n",
    "`str.format()` for formatted string\n",
    "\n",
    "3. Storage\n",
    "\n",
    "**pickle**:\n",
    "\n",
    "Binary, supports any Python object\n",
    "\n",
    "**json**:\n",
    "\n",
    "Human-readable, supports: `dict`, `list`, `str`, `int`, `float`, `bool`, and `None`\n",
    "\n",
    "4. OS\n",
    "\n",
    "**file and directory management**\n",
    "\n",
    "**File Path Operations**\n",
    "\n",
    "**environment Variables**\n",
    "\n",
    "**run a system command**\n",
    "\n",
    "---"
   ]
  },
  {
   "cell_type": "markdown",
   "metadata": {},
   "source": [
    "- ### Output"
   ]
  },
  {
   "cell_type": "markdown",
   "metadata": {},
   "source": [
    "**convert to str**"
   ]
  },
  {
   "cell_type": "code",
   "execution_count": 22,
   "metadata": {},
   "outputs": [
    {
     "name": "stdout",
     "output_type": "stream",
     "text": [
      "0.14285714285714285Hello\n"
     ]
    }
   ],
   "source": [
    "s='Hello';n=1/7\n",
    "a=str(n);print(a+s)"
   ]
  },
  {
   "cell_type": "markdown",
   "metadata": {},
   "source": [
    "**representation for interpreter**"
   ]
  },
  {
   "cell_type": "code",
   "execution_count": null,
   "metadata": {},
   "outputs": [
    {
     "name": "stdout",
     "output_type": "stream",
     "text": [
      "Hello\n",
      "\n",
      "'Hello\\n'\n"
     ]
    }
   ],
   "source": [
    "s='Hello/n';print(s)\n",
    "print(repr(s)) #repr() shows the string with escape characters"
   ]
  },
  {
   "cell_type": "markdown",
   "metadata": {},
   "source": [
    "**display in speicific position**"
   ]
  },
  {
   "cell_type": "code",
   "execution_count": 92,
   "metadata": {},
   "outputs": [
    {
     "name": "stdout",
     "output_type": "stream",
     "text": [
      "                                     'm'                                      \n",
      "                                    'mmm'                                     \n",
      "                                   'mmmmmm'                                   \n",
      "                                 'mmmmmmmmm'                                  \n",
      "                                'mmmmmmmmmmmm'                                \n",
      "                              'mmmmmmmmmmmmmmm'                               \n",
      "                             'mmmmmmmmmmmmmmmmmm'                             \n",
      "                           'mmmmmmmmmmmmmmmmmmmmm'                            \n",
      "                          'mmmmmmmmmmmmmmmmmmmmmmmm'                          \n",
      "                        'mmmmmmmmmmmmmmmmmmmmmmmmmmm'                         \n",
      "                                   'nnnnn'                                    \n",
      "                                   'nnnnn'                                    \n",
      "                                   'nnnnn'                                    \n",
      "                                   'nnnnn'                                    \n",
      "                                   'nnnnn'                                    \n",
      "                                   'nnnnn'                                    \n",
      "                                   'nnnnn'                                    \n",
      "                                   'nnnnn'                                    \n",
      "                                   'nnnnn'                                    \n"
     ]
    }
   ],
   "source": [
    "print(repr('m').center(78))\n",
    "for x in range(1, 10):\n",
    "    print(repr(3*x*'m').center(78))\n",
    "for y in range(1, 10):\n",
    "    print(repr(5*'n').center(78))"
   ]
  },
  {
   "cell_type": "markdown",
   "metadata": {},
   "source": [
    "**format by %**"
   ]
  },
  {
   "cell_type": "code",
   "execution_count": null,
   "metadata": {},
   "outputs": [
    {
     "name": "stdout",
     "output_type": "stream",
     "text": [
      "3.141593 in integer is 3\n"
     ]
    }
   ],
   "source": [
    "import math\n",
    "print(\"%f in %s is %d\" % (math.pi,\"integer\",math.pi))  # %s for string, %d for integer, %f for float"
   ]
  },
  {
   "cell_type": "markdown",
   "metadata": {},
   "source": [
    "**format by str.format()**"
   ]
  },
  {
   "cell_type": "code",
   "execution_count": null,
   "metadata": {},
   "outputs": [
    {
     "name": "stdout",
     "output_type": "stream",
     "text": [
      "two decimal 3.14\n"
     ]
    }
   ],
   "source": [
    "import math\n",
    "str=\"{} {:.2f}\".format(\"two decimal\", math.pi) # default order; 2 decimal places\n",
    "print(str)  # string format"
   ]
  },
  {
   "cell_type": "code",
   "execution_count": null,
   "metadata": {},
   "outputs": [
    {
     "name": "stdout",
     "output_type": "stream",
     "text": [
      "xx5 10,000\n"
     ]
    }
   ],
   "source": [
    "str=\"{0:x>3d} {1:,}\".format(5, 10000) # ordered; fill with x, align right, width 3; comma separator\n",
    "print(str)  # string format"
   ]
  },
  {
   "cell_type": "code",
   "execution_count": null,
   "metadata": {},
   "outputs": [
    {
     "name": "stdout",
     "output_type": "stream",
     "text": [
      "25.67%  56 x\n"
     ]
    }
   ],
   "source": [
    "str=\"{pos1:.2%} {pos2:^4d}x\".format(pos1=0.2567, pos2=56) # named\n",
    "print(str)  # string format"
   ]
  },
  {
   "cell_type": "code",
   "execution_count": null,
   "metadata": {},
   "outputs": [
    {
     "name": "stdout",
     "output_type": "stream",
     "text": [
      "hello world\n"
     ]
    }
   ],
   "source": [
    "dict={\"pos1\":\"hello\", \"pos2\":\"world\"}\n",
    "str=\"{pos1} {pos2}\".format(**dict) # dictionary with **\n",
    "print(str)  # string format"
   ]
  },
  {
   "cell_type": "code",
   "execution_count": null,
   "metadata": {},
   "outputs": [
    {
     "name": "stdout",
     "output_type": "stream",
     "text": [
      "hello world\n"
     ]
    }
   ],
   "source": [
    "list=[\"hello\", \"world\"]\n",
    "str=\"{0[0]} {0[1]}\".format(list) # list with 0[]\n",
    "print(str)  # string format"
   ]
  },
  {
   "cell_type": "markdown",
   "metadata": {},
   "source": [
    "---"
   ]
  },
  {
   "cell_type": "markdown",
   "metadata": {},
   "source": [
    "- ### Input\n",
    "\n",
    "**input from keyboard**"
   ]
  },
  {
   "cell_type": "code",
   "execution_count": 1,
   "metadata": {},
   "outputs": [
    {
     "name": "stdout",
     "output_type": "stream",
     "text": [
      "like\n"
     ]
    }
   ],
   "source": [
    "str=input(\"Enter a string: \") # input\n",
    "print(str)  # input string"
   ]
  },
  {
   "cell_type": "markdown",
   "metadata": {},
   "source": [
    "**read and write files**"
   ]
  },
  {
   "cell_type": "markdown",
   "metadata": {},
   "source": [
    "![image.png](https://www.runoob.com/wp-content/uploads/2013/11/2112205-861c05b2bdbc9c28.png)\n"
   ]
  },
  {
   "cell_type": "markdown",
   "metadata": {},
   "source": [
    "*file*.read()"
   ]
  },
  {
   "cell_type": "code",
   "execution_count": 27,
   "metadata": {},
   "outputs": [
    {
     "name": "stdout",
     "output_type": "stream",
     "text": [
      "# Notes\n",
      "Hey there! I'm currently learning Python, and I'll be updating the note files here regularly.\n",
      "\n",
      "Just so you know, the folder's got Git, Markdown, Pypi, Python scripts and Python syntax notes in it at the moment. I'll add more if I have time, but don't worry, there'll always be everything you need in there!\n",
      "\n",
      "Why not follow me as we learn Python together? I promise you'll find the notes super helpful, especially if you're just starting out.\n",
      "\n",
      "Python is a great language to learn if you're just starting out.\n",
      "522\n"
     ]
    }
   ],
   "source": [
    "file=open(r\"C:\\Users\\Taylor\\OneDrive\\桌面\\程序\\Python\\Notes\\README.md\", \"r\") # open file for writing using row string\n",
    "print(file.read())  # read file\n",
    "print(file.tell())  # get current position in file\n",
    "file.close()  # close file"
   ]
  },
  {
   "cell_type": "code",
   "execution_count": 7,
   "metadata": {},
   "outputs": [
    {
     "name": "stdout",
     "output_type": "stream",
     "text": [
      "# Notes\n",
      "Hey there! I'm currently learning Python, and I'll be updating the note files here regularly.\n",
      "\n",
      "Just so you know, the folder's got Git, Markdown, Pypi, Python scripts and Python syntax notes in it at the moment. I'll add more if I have time, but don't worry, there'll always be everything you need in there!\n",
      "\n",
      "Why not follow me as we learn Python together? I promise you'll find the notes super helpful, especially if you're just starting out.\n",
      "\n",
      "Python is a great language to learn if you're just starting out."
     ]
    }
   ],
   "source": [
    "file=open(r\"C:\\Users\\Taylor\\OneDrive\\桌面\\程序\\Python\\Notes\\README.md\", \"r\") # open file for writing using row string\n",
    "try: # exception handling\n",
    "    for line in file:\n",
    "        print(line, end=\"\")  # read line\n",
    "finally: # do this anyway\n",
    "    file.close()  # close file"
   ]
  },
  {
   "cell_type": "markdown",
   "metadata": {},
   "source": [
    "*file*.readline() & *file*.readlines()"
   ]
  },
  {
   "cell_type": "code",
   "execution_count": 8,
   "metadata": {},
   "outputs": [
    {
     "name": "stdout",
     "output_type": "stream",
     "text": [
      "# Notes\n",
      "\n",
      "Hey there! I'm currently learning Python, and I'll be updating the note files here regularly.\n",
      "\n",
      "['\\n', \"Just so you know, the folder's got Git, Markdown, Pypi, Python scripts and Python syntax notes in it at the moment. I'll add more if I have time, but don't worry, there'll always be everything you need in there!\\n\", '\\n', \"Why not follow me as we learn Python together? I promise you'll find the notes super helpful, especially if you're just starting out.\\n\", '\\n', \"Python is a great language to learn if you're just starting out.\"]\n"
     ]
    }
   ],
   "source": [
    "with open(r\"C:\\Users\\Taylor\\OneDrive\\桌面\\程序\\Python\\Notes\\README.md\", \"r\") as file: \n",
    "    # with statement automatically closes the file, the same as try/finally\n",
    "    print(file.readline())  # read line\n",
    "    print(file.readline())  # read line\n",
    "    print(file.readlines())  # read lines\n"
   ]
  },
  {
   "cell_type": "markdown",
   "metadata": {},
   "source": [
    "*file*.write()"
   ]
  },
  {
   "cell_type": "code",
   "execution_count": 9,
   "metadata": {},
   "outputs": [
    {
     "name": "stdout",
     "output_type": "stream",
     "text": [
      "13 4\n",
      "Hello world!\n",
      "你好！\n",
      "\n"
     ]
    }
   ],
   "source": [
    "with open(r\"test.md\", \"w+\", encoding=\"utf-8\") as file:\n",
    "# open file for writing using row string, encoding utf-8\n",
    "    num1=file.write(\"Hello world!\\n\")  # write line\n",
    "    num2=file.write(\"你好！\\n\")  # write line\n",
    "    print(num1,num2) # number of characters written\n",
    "    file.seek(0)  # move to the beginning of the file\n",
    "    print(file.read())  # read line"
   ]
  },
  {
   "cell_type": "markdown",
   "metadata": {},
   "source": [
    "---"
   ]
  },
  {
   "cell_type": "markdown",
   "metadata": {},
   "source": [
    "- ### Storage\n",
    "\n",
    "**pickle**"
   ]
  },
  {
   "cell_type": "code",
   "execution_count": 21,
   "metadata": {},
   "outputs": [
    {
     "name": "stdout",
     "output_type": "stream",
     "text": [
      "{'name': 'hello', 'age': 18}\n"
     ]
    }
   ],
   "source": [
    "import pickle\n",
    "data={\"name\":\"hello\", \"age\":18}  # dictionary\n",
    "with open(r\"test_pickle.pkl\", \"wb+\") as file:  # open file for writing in binary mode\n",
    "    pickle.dump(data, file)  # write dictionary to file\n",
    "    file.seek(0)  # move the file pointer to the beginning\n",
    "    read_data=pickle.load(file)  # read dictionary from file\n",
    "    print(read_data)  # print dictionary"
   ]
  },
  {
   "cell_type": "markdown",
   "metadata": {},
   "source": [
    "**json**"
   ]
  },
  {
   "cell_type": "code",
   "execution_count": 22,
   "metadata": {},
   "outputs": [
    {
     "name": "stdout",
     "output_type": "stream",
     "text": [
      "{'name': 'hello', 'age': 18}\n"
     ]
    }
   ],
   "source": [
    "import json\n",
    "data={\"name\":\"hello\", \"age\":18}  # dictionary\n",
    "with open(r\"test_json.json\", \"w+\", encoding=\"utf-8\") as file:  # open file for writing using row string, encoding utf-8\n",
    "    json.dump(data, file)  # write dictionary to file\n",
    "    file.seek(0)  # move the file pointer to the beginning\n",
    "    read_data=json.load(file)  # read dictionary from file\n",
    "    print(read_data)  # print dictionary"
   ]
  },
  {
   "cell_type": "markdown",
   "metadata": {},
   "source": [
    "---"
   ]
  },
  {
   "cell_type": "markdown",
   "metadata": {},
   "source": [
    "- ### OS\n",
    "\n",
    "**file and directory**"
   ]
  },
  {
   "cell_type": "code",
   "execution_count": 2,
   "metadata": {},
   "outputs": [
    {
     "name": "stdout",
     "output_type": "stream",
     "text": [
      "c:\\Users\\Taylor\\OneDrive\\桌面\\程序\\Python\\Notes\\Syntax\n",
      "['.git', 'Git', 'Markdown', 'Pypi', 'README.md', 'Scripts', 'Syntax']\n"
     ]
    }
   ],
   "source": [
    "import os\n",
    "print(os.getcwd())  # get current working directory\n",
    "os.chdir(r\"C:\\Users\\Taylor\\OneDrive\\桌面\\程序\\Python\\Notes\")  # change directory\n",
    "print(os.listdir())  # list files in directory\n",
    "os.mkdir(\"new_folder\")  # create directory\n",
    "os.rename(\"new_folder\", \"folder\")  # rename directory\n",
    "os.makedirs(\"new_folder/sub_folder\")  # create directory and subdirectory"
   ]
  },
  {
   "cell_type": "code",
   "execution_count": 3,
   "metadata": {},
   "outputs": [
    {
     "name": "stdout",
     "output_type": "stream",
     "text": [
      "True\n"
     ]
    }
   ],
   "source": [
    "import os,stat\n",
    "print(os.access('new_folder', os.W_OK))  # check if file is executable\n",
    "os.chmod('new_folder', stat.S_IWRITE) # change permission to read and write\n",
    "os.chmod('folder', stat.S_IWRITE) # change permission to read and write\n",
    "os.rmdir('folder')  # remove directory\n",
    "os.removedirs('new_folder/sub_folder')  # remove directory and subdirectory"
   ]
  },
  {
   "cell_type": "markdown",
   "metadata": {},
   "source": [
    "**file path**"
   ]
  },
  {
   "cell_type": "code",
   "execution_count": 43,
   "metadata": {},
   "outputs": [
    {
     "name": "stdout",
     "output_type": "stream",
     "text": [
      "C:\\Users\\Taylor\\OneDrive\\桌面\\程序\\Python\\Notes\n",
      "C:\\Users\\Taylor\\OneDrive\\桌面\\程序\\Python\\Notes\\Syntax\\test.md\n",
      "True\n",
      "True\n",
      "False\n",
      "C:\\Users\\Taylor\\OneDrive\\桌面\\程序\\Python\\Notes\\Syntax\\test.md\n"
     ]
    }
   ],
   "source": [
    "import os\n",
    "print(os.getcwd())  # get current working directory\n",
    "os.chdir(r\"C:\\Users\\Taylor\\OneDrive\\桌面\\程序\\Python\\Notes\\Syntax\")  # change directory\n",
    "print(os.path.join('C:\\\\Users\\\\Taylor\\\\OneDrive\\\\桌面\\\\程序\\\\Python\\\\Notes\\\\Syntax', 'test.md'))  # join path\n",
    "print(os.path.exists('test.md'))  # check if file exists\n",
    "print(os.path.isfile('test.md'))  # check if file is a file\n",
    "print(os.path.isdir('test.md'))  # check if file is a directory\n",
    "print(os.path.abspath('test.md'))  # get absolute path"
   ]
  },
  {
   "cell_type": "code",
   "execution_count": 48,
   "metadata": {},
   "outputs": [
    {
     "name": "stdout",
     "output_type": "stream",
     "text": [
      "C:\\Users\\Taylor\\OneDrive\\桌面\\程序\\Python\\Notes\\Syntax [] ['data_type.ipynb', 'function.ipynb', 'input-output.ipynb', 'module.ipynb', 'Object_oriented.ipynb', 'operation.ipynb', 'statement.ipynb', 'test.md', 'test_json.json', 'test_pickle.pkl']\n"
     ]
    }
   ],
   "source": [
    "import os\n",
    "os.chdir(r\"C:\\Users\\Taylor\\OneDrive\\桌面\\程序\\Python\\Notes\\Syntax\")  # change directory\n",
    "for dirpath, dirnames, filenames in os.walk(os.getcwd()):  # walk through directory\n",
    "    print(dirpath, dirnames, filenames)"
   ]
  },
  {
   "cell_type": "markdown",
   "metadata": {},
   "source": [
    "**environment variables**"
   ]
  },
  {
   "cell_type": "code",
   "execution_count": 50,
   "metadata": {},
   "outputs": [
    {
     "name": "stdout",
     "output_type": "stream",
     "text": [
      "C:\\Users\\Taylor\\OneDrive\\桌面\\程序\\Python\\Notes\n",
      "ALLUSERSPROFILE C:\\ProgramData\n",
      "APPDATA C:\\Users\\Taylor\\AppData\\Roaming\n",
      "CHROME_CRASHPAD_PIPE_NAME \\\\.\\pipe\\crashpad_26564_KUDGJGGDSVXOQAJE\n",
      "COMMONPROGRAMFILES C:\\Program Files\\Common Files\n",
      "COMMONPROGRAMFILES(X86) C:\\Program Files (x86)\\Common Files\n",
      "COMMONPROGRAMW6432 C:\\Program Files\\Common Files\n",
      "COMPUTERNAME LAPTOP-160GFFEC\n",
      "COMSPEC C:\\WINDOWS\\system32\\cmd.exe\n",
      "DRIVERDATA C:\\Windows\\System32\\Drivers\\DriverData\n",
      "ELECTRON_RUN_AS_NODE 1\n",
      "HOMEDRIVE C:\n",
      "HOMEPATH \\Users\\Taylor\n",
      "IGCCSVC_DB AQAAANCMnd8BFdERjHoAwE/Cl+sBAAAAgbQQYPCEY0CadL0JENljjgQAAAACAAAAAAAQZgAAAAEAACAAAADK3CHumjPa+vdkhQBlZTaQGfMEN9OAjmSJ6MIjnHkBaAAAAAAOgAAAAAIAACAAAAALaPbjwveWjtr5YuUclgcQQ2I1bno5fsgbySCq0AcPw2AAAADdFM7UEovfF7Z4MMFsqch4F2qpkKVubrfnGz1FObLrDhB7iBUtP8BsaJhg47g2ffAaOM2XdQENGkOBs1O6kT0VXJBxNcGTmktbthDHCdjvtN/IoNLYAyOmv0AoD/uRU8hAAAAAXbaSdd14SiJwzNlHeGx/13OsgyAeVOvxyRdl5UrixgfplOjx2SRdtWkB7iDkTsua1pD+K5H/4iWolVez2ealYA==\n",
      "JPY_INTERRUPT_EVENT 1752\n",
      "LOCALAPPDATA C:\\Users\\Taylor\\AppData\\Local\n",
      "LOGONSERVER \\\\LAPTOP-160GFFEC\n",
      "NUMBER_OF_PROCESSORS 16\n",
      "ONEDRIVE C:\\Users\\Taylor\\OneDrive\n",
      "ONEDRIVECONSUMER C:\\Users\\Taylor\\OneDrive\n",
      "ONLINESERVICES Online Services\n",
      "ORIGINAL_XDG_CURRENT_DESKTOP undefined\n",
      "OS Windows_NT\n",
      "PATH C:\\Users\\Taylor\\OneDrive\\桌面\\程序\\Python\\Notes\n",
      "PATHEXT .COM;.EXE;.BAT;.CMD;.VBS;.VBE;.JS;.JSE;.WSF;.WSH;.MSC;.PY;.PYW\n",
      "PLATFORMCODE KV\n",
      "PROCESSOR_ARCHITECTURE AMD64\n",
      "PROCESSOR_IDENTIFIER Intel64 Family 6 Model 186 Stepping 2, GenuineIntel\n",
      "PROCESSOR_LEVEL 6\n",
      "PROCESSOR_REVISION ba02\n",
      "PROGRAMDATA C:\\ProgramData\n",
      "PROGRAMFILES C:\\Program Files\n",
      "PROGRAMFILES(X86) C:\\Program Files (x86)\n",
      "PROGRAMW6432 C:\\Program Files\n",
      "PSMODULEPATH C:\\Program Files\\WindowsPowerShell\\Modules;C:\\WINDOWS\\system32\\WindowsPowerShell\\v1.0\\Modules\n",
      "PUBLIC C:\\Users\\Public\n",
      "PYDEVD_IPYTHON_COMPATIBLE_DEBUGGING 1\n",
      "PYTHONIOENCODING utf-8\n",
      "PYTHONUNBUFFERED 1\n",
      "PYTHON_FROZEN_MODULES on\n",
      "REGIONCODE APJ\n",
      "SYSTEMDRIVE C:\n",
      "SYSTEMROOT C:\\WINDOWS\n",
      "TEMP C:\\Users\\Taylor\\AppData\\Local\\Temp\n",
      "TMP C:\\Users\\Taylor\\AppData\\Local\\Temp\n",
      "USERDOMAIN LAPTOP-160GFFEC\n",
      "USERDOMAIN_ROAMINGPROFILE LAPTOP-160GFFEC\n",
      "USERNAME Taylor\n",
      "USERPROFILE C:\\Users\\Taylor\n",
      "VSCODE_CODE_CACHE_PATH C:\\Users\\Taylor\\AppData\\Roaming\\Code\\CachedData\\e54c774e0add60467559eb0d1e229c6452cf8447\n",
      "VSCODE_CRASH_REPORTER_PROCESS_TYPE extensionHost\n",
      "VSCODE_CWD D:\\Program Files\\Microsoft VS Code\n",
      "VSCODE_ESM_ENTRYPOINT vs/workbench/api/node/extensionHostProcess\n",
      "VSCODE_HANDLES_UNCAUGHT_ERRORS true\n",
      "VSCODE_IPC_HOOK \\\\.\\pipe\\cd490763-1.97.2-main-sock\n",
      "VSCODE_L10N_BUNDLE_LOCATION \n",
      "VSCODE_NLS_CONFIG {\"userLocale\":\"en-us\",\"osLocale\":\"zh-cn\",\"resolvedLanguage\":\"en\",\"defaultMessagesFile\":\"D:\\\\Program Files\\\\Microsoft VS Code\\\\resources\\\\app\\\\out\\\\nls.messages.json\",\"locale\":\"en-us\",\"availableLanguages\":{}}\n",
      "VSCODE_PID 26564\n",
      "WINDIR C:\\WINDOWS\n",
      "ZES_ENABLE_SYSMAN 1\n",
      "__COMPAT_LAYER RunAsAdmin\n",
      "PYDEVD_USE_FRAME_EVAL NO\n",
      "TERM xterm-color\n",
      "CLICOLOR 1\n",
      "FORCE_COLOR 1\n",
      "CLICOLOR_FORCE 1\n",
      "PAGER cat\n",
      "GIT_PAGER cat\n",
      "MPLBACKEND module://matplotlib_inline.backend_inline\n"
     ]
    }
   ],
   "source": [
    "import os\n",
    "os.environ['PATH'] = r\"C:\\Users\\Taylor\\OneDrive\\桌面\\程序\\Python\\Notes\"  # set environment variable\n",
    "print(os.environ['PATH'])  # get environment variable\n",
    "\n",
    "for key,value in os.environ.items():  # iterate through environment variables\n",
    "    print(key, value)  # print key and value"
   ]
  }
 ],
 "metadata": {
  "kernelspec": {
   "display_name": "Python 3",
   "language": "python",
   "name": "python3"
  },
  "language_info": {
   "codemirror_mode": {
    "name": "ipython",
    "version": 3
   },
   "file_extension": ".py",
   "mimetype": "text/x-python",
   "name": "python",
   "nbconvert_exporter": "python",
   "pygments_lexer": "ipython3",
   "version": "3.13.2"
  }
 },
 "nbformat": 4,
 "nbformat_minor": 2
}
