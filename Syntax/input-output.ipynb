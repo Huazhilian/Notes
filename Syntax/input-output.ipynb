{
 "cells": [
  {
   "cell_type": "markdown",
   "metadata": {},
   "source": [
    "- ### Input & Output\n",
    "\n",
    "1. Input\n",
    "\n",
    "**input from keyboard:**\n",
    "\n",
    "`input()`\n",
    "\n",
    "**open files with mode:**\n",
    "\n",
    "`open(*filename*, [*mode*])`\n",
    "\n",
    "---\n",
    "\n",
    "2. Output\n",
    "\n",
    "**display:**\n",
    "\n",
    "`print()` for string\n",
    "\n",
    "`repr()` for showing developer string representation\n",
    "\n",
    "`str()` for showing user string\n",
    "\n",
    "**formatting:**\n",
    "\n",
    "`str.format()` for formatted string\n",
    "\n",
    "`write()` / `sys.stdout` for file\n",
    "\n",
    "---"
   ]
  },
  {
   "cell_type": "markdown",
   "metadata": {},
   "source": [
    "- ### Output"
   ]
  },
  {
   "cell_type": "markdown",
   "metadata": {},
   "source": [
    "**convert to str**"
   ]
  },
  {
   "cell_type": "code",
   "execution_count": 22,
   "metadata": {},
   "outputs": [
    {
     "name": "stdout",
     "output_type": "stream",
     "text": [
      "0.14285714285714285Hello\n"
     ]
    }
   ],
   "source": [
    "s='Hello';n=1/7\n",
    "a=str(n);print(a+s)"
   ]
  },
  {
   "cell_type": "markdown",
   "metadata": {},
   "source": [
    "**representation for interpreter**"
   ]
  },
  {
   "cell_type": "code",
   "execution_count": 29,
   "metadata": {},
   "outputs": [
    {
     "name": "stdout",
     "output_type": "stream",
     "text": [
      "Hello\n",
      "\n",
      "'Hello\\n'\n"
     ]
    }
   ],
   "source": [
    "s='Hello\\n';print(s)\n",
    "print(repr(s)) #repr() shows the string with escape characters"
   ]
  },
  {
   "cell_type": "markdown",
   "metadata": {},
   "source": [
    "**display in speicific position**"
   ]
  },
  {
   "cell_type": "code",
   "execution_count": 92,
   "metadata": {},
   "outputs": [
    {
     "name": "stdout",
     "output_type": "stream",
     "text": [
      "                                     'm'                                      \n",
      "                                    'mmm'                                     \n",
      "                                   'mmmmmm'                                   \n",
      "                                 'mmmmmmmmm'                                  \n",
      "                                'mmmmmmmmmmmm'                                \n",
      "                              'mmmmmmmmmmmmmmm'                               \n",
      "                             'mmmmmmmmmmmmmmmmmm'                             \n",
      "                           'mmmmmmmmmmmmmmmmmmmmm'                            \n",
      "                          'mmmmmmmmmmmmmmmmmmmmmmmm'                          \n",
      "                        'mmmmmmmmmmmmmmmmmmmmmmmmmmm'                         \n",
      "                                   'nnnnn'                                    \n",
      "                                   'nnnnn'                                    \n",
      "                                   'nnnnn'                                    \n",
      "                                   'nnnnn'                                    \n",
      "                                   'nnnnn'                                    \n",
      "                                   'nnnnn'                                    \n",
      "                                   'nnnnn'                                    \n",
      "                                   'nnnnn'                                    \n",
      "                                   'nnnnn'                                    \n"
     ]
    }
   ],
   "source": [
    "print(repr('m').center(78))\n",
    "for x in range(1, 10):\n",
    "    print(repr(3*x*'m').center(78))\n",
    "for y in range(1, 10):\n",
    "    print(repr(5*'n').center(78))"
   ]
  },
  {
   "cell_type": "markdown",
   "metadata": {},
   "source": [
    "**format by %**"
   ]
  },
  {
   "cell_type": "code",
   "execution_count": null,
   "metadata": {},
   "outputs": [
    {
     "name": "stdout",
     "output_type": "stream",
     "text": [
      "3.141593 in integer is 3\n"
     ]
    }
   ],
   "source": [
    "import math\n",
    "print(\"%f in %s is %d\" % (math.pi,\"integer\",math.pi))  # %s for string, %d for integer, %f for float"
   ]
  },
  {
   "cell_type": "markdown",
   "metadata": {},
   "source": [
    "**format by str.format()**"
   ]
  },
  {
   "cell_type": "code",
   "execution_count": null,
   "metadata": {},
   "outputs": [
    {
     "name": "stdout",
     "output_type": "stream",
     "text": [
      "two decimal 3.14\n"
     ]
    }
   ],
   "source": [
    "import math\n",
    "str=\"{} {:.2f}\".format(\"two decimal\", math.pi) # default order; 2 decimal places\n",
    "print(str)  # string format"
   ]
  },
  {
   "cell_type": "code",
   "execution_count": null,
   "metadata": {},
   "outputs": [
    {
     "name": "stdout",
     "output_type": "stream",
     "text": [
      "xx5 10,000\n"
     ]
    }
   ],
   "source": [
    "str=\"{0:x>3d} {1:,}\".format(5, 10000) # ordered; fill with x, align right, width 3; comma separator\n",
    "print(str)  # string format"
   ]
  },
  {
   "cell_type": "code",
   "execution_count": null,
   "metadata": {},
   "outputs": [
    {
     "name": "stdout",
     "output_type": "stream",
     "text": [
      "25.67%  56 x\n"
     ]
    }
   ],
   "source": [
    "str=\"{pos1:.2%} {pos2:^4d}x\".format(pos1=0.2567, pos2=56) # named\n",
    "print(str)  # string format"
   ]
  },
  {
   "cell_type": "code",
   "execution_count": null,
   "metadata": {},
   "outputs": [
    {
     "name": "stdout",
     "output_type": "stream",
     "text": [
      "hello world\n"
     ]
    }
   ],
   "source": [
    "dict={\"pos1\":\"hello\", \"pos2\":\"world\"}\n",
    "str=\"{pos1} {pos2}\".format(**dict) # dictionary with **\n",
    "print(str)  # string format"
   ]
  },
  {
   "cell_type": "code",
   "execution_count": null,
   "metadata": {},
   "outputs": [
    {
     "name": "stdout",
     "output_type": "stream",
     "text": [
      "hello world\n"
     ]
    }
   ],
   "source": [
    "list=[\"hello\", \"world\"]\n",
    "str=\"{0[0]} {0[1]}\".format(list) # list with 0[]\n",
    "print(str)  # string format"
   ]
  },
  {
   "cell_type": "markdown",
   "metadata": {},
   "source": [
    "---"
   ]
  },
  {
   "cell_type": "markdown",
   "metadata": {},
   "source": [
    "- ### Input\n",
    "\n",
    "**input from keyboard**"
   ]
  },
  {
   "cell_type": "code",
   "execution_count": 1,
   "metadata": {},
   "outputs": [
    {
     "name": "stdout",
     "output_type": "stream",
     "text": [
      "like\n"
     ]
    }
   ],
   "source": [
    "str=input(\"Enter a string: \") # input\n",
    "print(str)  # input string"
   ]
  },
  {
   "cell_type": "markdown",
   "metadata": {},
   "source": [
    "**read and write files**"
   ]
  }
 ],
 "metadata": {
  "kernelspec": {
   "display_name": "Python 3",
   "language": "python",
   "name": "python3"
  },
  "language_info": {
   "codemirror_mode": {
    "name": "ipython",
    "version": 3
   },
   "file_extension": ".py",
   "mimetype": "text/x-python",
   "name": "python",
   "nbconvert_exporter": "python",
   "pygments_lexer": "ipython3",
   "version": "3.13.2"
  }
 },
 "nbformat": 4,
 "nbformat_minor": 2
}
