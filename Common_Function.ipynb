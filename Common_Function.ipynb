{
 "cells": [
  {
   "cell_type": "code",
   "execution_count": 20,
   "id": "341679d1-e77e-4f90-b499-d52507db1eef",
   "metadata": {},
   "outputs": [
    {
     "name": "stdout",
     "output_type": "stream",
     "text": [
      "15\n"
     ]
    }
   ],
   "source": [
    "print(3 * 5)  # multiplication"
   ]
  },
  {
   "cell_type": "code",
   "execution_count": 21,
   "metadata": {},
   "outputs": [
    {
     "name": "stdout",
     "output_type": "stream",
     "text": [
      "2\n"
     ]
    }
   ],
   "source": [
    "print(7 // 3)  # floor division\n"
   ]
  },
  {
   "cell_type": "code",
   "execution_count": 22,
   "metadata": {},
   "outputs": [
    {
     "name": "stdout",
     "output_type": "stream",
     "text": [
      "2\n"
     ]
    }
   ],
   "source": [
    "print(5 % 3)  # modulus"
   ]
  },
  {
   "cell_type": "code",
   "execution_count": 23,
   "metadata": {},
   "outputs": [
    {
     "name": "stdout",
     "output_type": "stream",
     "text": [
      "(2, 1)\n"
     ]
    }
   ],
   "source": [
    "print(divmod(7, 3))  # division and modulus\n"
   ]
  },
  {
   "cell_type": "code",
   "execution_count": 24,
   "metadata": {},
   "outputs": [
    {
     "name": "stdout",
     "output_type": "stream",
     "text": [
      "9\n",
      "9\n"
     ]
    }
   ],
   "source": [
    "print(3 ** 2)\n",
    "print(pow(3,2))  # exponentiation\n"
   ]
  },
  {
   "cell_type": "code",
   "execution_count": 25,
   "metadata": {},
   "outputs": [
    {
     "name": "stdout",
     "output_type": "stream",
     "text": [
      "1\n",
      "3\n"
     ]
    }
   ],
   "source": [
    "print(pow(3,2,mod=4))  # exponentiation with modulus\n",
    "print(pow(3,-1,mod=4))  # negative exponentiation with modulus\n"
   ]
  },
  {
   "cell_type": "code",
   "execution_count": 26,
   "metadata": {},
   "outputs": [
    {
     "name": "stdout",
     "output_type": "stream",
     "text": [
      "True\n",
      "False\n",
      "True\n"
     ]
    }
   ],
   "source": [
    "print(3 < 5)\n",
    "print(3 == 5)\n",
    "print(3 != 5)  # comparison\n"
   ]
  },
  {
   "cell_type": "code",
   "execution_count": 27,
   "metadata": {},
   "outputs": [
    {
     "name": "stdout",
     "output_type": "stream",
     "text": [
      "12\n"
     ]
    }
   ],
   "source": [
    "\n",
    "a=3; b=4; c=a*b; \n",
    "print(c)  # multiple statements in one line"
   ]
  },
  {
   "cell_type": "code",
   "execution_count": 28,
   "metadata": {},
   "outputs": [
    {
     "name": "stdout",
     "output_type": "stream",
     "text": [
      "bracbracket\n",
      "don't  or  don't\n"
     ]
    }
   ],
   "source": [
    "\n",
    "print(2*'brac'+'ket')  # string concatenation\n",
    "print('don\\'t',\" or \",\"don't\")  # escape character"
   ]
  },
  {
   "cell_type": "code",
   "execution_count": 29,
   "metadata": {},
   "outputs": [
    {
     "name": "stdout",
     "output_type": "stream",
     "text": [
      "line1\n",
      "line2\n",
      "line1\\nline2\n"
     ]
    }
   ],
   "source": [
    "\n",
    "print(\"line1\\nline2\")  # new line\n",
    "print(r\"line1\\nline2\")  # raw string"
   ]
  },
  {
   "cell_type": "code",
   "execution_count": 30,
   "metadata": {},
   "outputs": [
    {
     "name": "stdout",
     "output_type": "stream",
     "text": [
      "string1string2\n"
     ]
    }
   ],
   "source": [
    "\n",
    "print(\"string1\\\n",
    "string2\")  # string concatenation"
   ]
  },
  {
   "cell_type": "code",
   "execution_count": 31,
   "metadata": {},
   "outputs": [
    {
     "name": "stdout",
     "output_type": "stream",
     "text": [
      "string1\n",
      "string2\n",
      "string3\n"
     ]
    }
   ],
   "source": [
    "print(\"\"\"string1\n",
    "string2\n",
    "string3\"\"\")  # multi-line string"
   ]
  },
  {
   "cell_type": "code",
   "execution_count": 32,
   "metadata": {},
   "outputs": [
    {
     "name": "stdout",
     "output_type": "stream",
     "text": [
      "5\n",
      "w\n",
      "d\n",
      "wo\n",
      "ld\n"
     ]
    }
   ],
   "source": [
    "char=\"world\";print(len(char))   # length\n",
    "a=char[0];b=char[-1];print(a);print(b)  # string indexing\n",
    "c=char[:2];d=char[-2:];print(c);print(d)  # string slicing with positive 2 excludied"
   ]
  },
  {
   "cell_type": "code",
   "execution_count": 33,
   "metadata": {},
   "outputs": [
    {
     "name": "stdout",
     "output_type": "stream",
     "text": [
      "[1, 2, 0, 4, 5]\n",
      "1\n",
      "5\n",
      "[1, 2, 3, 4, 5]\n",
      "[1, 2, 3, 4, 5, 6]\n",
      "[1, 2, 3, 4, 5]\n",
      "[1, 2, 3]\n",
      "3\n",
      "[[1, 'f'], [3, 4]]\n",
      "4\n"
     ]
    }
   ],
   "source": [
    "\n",
    "list=[1,2,0,4,5];print(list);print(list[0]);print(list[-1])  # list, mutable\n",
    "list[2]=3;print(list);list.append(6);print(list);list.pop();print(list)  # list modification\n",
    "list[-2:]=[];print(list);print(len(list))  # length of list\n",
    "list1=[1,'f'];list2=[3,4];list=[list1,list2];print(list);print(list[1][1])  # list nesting"
   ]
  },
  {
   "cell_type": "code",
   "execution_count": 34,
   "metadata": {},
   "outputs": [
    {
     "name": "stdout",
     "output_type": "stream",
     "text": [
      "(1, 2, 3)\n",
      "1\n",
      "3\n"
     ]
    }
   ],
   "source": [
    "tuple=(1,2,3);print(tuple)\n",
    "print(tuple[0]);print(tuple[-1])  # tuple, immutable"
   ]
  },
  {
   "cell_type": "code",
   "execution_count": 35,
   "metadata": {},
   "outputs": [
    {
     "name": "stdout",
     "output_type": "stream",
     "text": [
      "(3+4j) (3+4j) (-inf+nanj)\n",
      "5.0\n",
      "3.0\n",
      "4.0\n"
     ]
    }
   ],
   "source": [
    "a=complex('3+4j');b=complex(3,4);c=complex('-Infinity+NaNj')\n",
    "print(a,b,c);print(abs(a));print(a.real);print(a.imag)  # complex number"
   ]
  }
 ],
 "metadata": {
  "kernelspec": {
   "display_name": "base",
   "language": "python",
   "name": "python3"
  },
  "language_info": {
   "codemirror_mode": {
    "name": "ipython",
    "version": 3
   },
   "file_extension": ".py",
   "mimetype": "text/x-python",
   "name": "python",
   "nbconvert_exporter": "python",
   "pygments_lexer": "ipython3",
   "version": "3.12.7"
  }
 },
 "nbformat": 4,
 "nbformat_minor": 2
}
