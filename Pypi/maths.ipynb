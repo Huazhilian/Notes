{
 "cells": [
  {
   "cell_type": "markdown",
   "metadata": {},
   "source": [
    "- ### Maths calculation & plotting\n",
    "\n",
    "1. numpy\n",
    "\n",
    "**array**, **dtype**, **create array**\n",
    "\n",
    "2. scipy\n",
    "\n",
    "3. matplotlib"
   ]
  },
  {
   "cell_type": "markdown",
   "metadata": {},
   "source": [
    "---"
   ]
  },
  {
   "cell_type": "markdown",
   "metadata": {},
   "source": [
    "- ### numpy"
   ]
  },
  {
   "cell_type": "code",
   "execution_count": null,
   "metadata": {},
   "outputs": [],
   "source": [
    "%% capture\n",
    "%pip install numpy"
   ]
  },
  {
   "cell_type": "markdown",
   "metadata": {},
   "source": [
    "**array / asarray**"
   ]
  },
  {
   "cell_type": "code",
   "execution_count": 84,
   "metadata": {},
   "outputs": [
    {
     "name": "stdout",
     "output_type": "stream",
     "text": [
      "[1 2 3]\n",
      "int64 1 (3,) 3 \n",
      "\n",
      "[[1 2 3]\n",
      " [4 5 6]]\n",
      "int64 2 (2, 3) 6 \n",
      "\n",
      "[[ 1 10  3]\n",
      " [ 4  5  6]] \n",
      "\n",
      "[[ 1 10]\n",
      " [ 3  4]\n",
      " [ 5  6]] \n",
      "\n",
      "[[ 1 10  3]\n",
      " [ 4  5  6]] \n",
      "\n",
      "[[ 1  4]\n",
      " [10  5]\n",
      " [ 3  6]]\n"
     ]
    }
   ],
   "source": [
    "import numpy as np\n",
    "\n",
    "vec=np.array([1, 2, 3]) # using array to create a vector\n",
    "print(vec)\n",
    "print(vec.dtype,vec.ndim,vec.shape,vec.size,'\\n') # data attributes\n",
    "\n",
    "mat=np.asarray([(1, 2, 3), [4, 5, 6]]) # using asarray to avoid copying data\n",
    "print(mat)\n",
    "print(mat.dtype,mat.ndim,mat.shape,mat.size,'\\n') # data attributes\n",
    "\n",
    "mat[0, 1] = 10 # change value\n",
    "print(mat,'\\n')\n",
    "\n",
    "m=mat.reshape(3, 2) # change shape without changing data\n",
    "print(m,'\\n')\n",
    "\n",
    "m.shape= (2, 3) # change shape with changing data\n",
    "print(m,'\\n')\n",
    "\n",
    "mtranspose = m.T # transpose\n",
    "print(mtranspose)"
   ]
  },
  {
   "cell_type": "code",
   "execution_count": 67,
   "metadata": {},
   "outputs": [
    {
     "name": "stdout",
     "output_type": "stream",
     "text": [
      "[[1.+0.j 2.+0.j]\n",
      " [3.+0.j 4.+0.j]]\n",
      "complex128 2 (2, 2) 4 \n",
      "\n",
      "[[1. 2.]\n",
      " [3. 4.]] \n",
      "\n",
      "[[0. 0.]\n",
      " [0. 0.]]\n"
     ]
    }
   ],
   "source": [
    "arr=np.array([[1, 2], [3,4]],ndmin=2,dtype=complex) # dtype\n",
    "print(arr)\n",
    "print(arr.dtype,arr.ndim,arr.shape,arr.size,'\\n') # data attributes\n",
    "print(arr.real,'\\n')\n",
    "print(arr.imag) # real and imaginary parts"
   ]
  },
  {
   "cell_type": "markdown",
   "metadata": {},
   "source": [
    "**create array**"
   ]
  },
  {
   "cell_type": "code",
   "execution_count": 102,
   "metadata": {},
   "outputs": [
    {
     "name": "stdout",
     "output_type": "stream",
     "text": [
      "[1 3 5 7 9] \n",
      "\n",
      "[ 0.  2.  4.  6.  8. 10.] \n",
      "\n",
      "[1.e+00 1.e+01 1.e+02 1.e+03 1.e+04] \n",
      "\n"
     ]
    }
   ],
   "source": [
    "series=np.arange(1, 10, 2) # array with step\n",
    "print(series,'\\n')\n",
    "\n",
    "series2=np.linspace(0, 10, 6) # array with specified number of elements\n",
    "print(series2,'\\n')\n",
    "\n",
    "series3=np.logspace(0, 4, 5) # logarithmically spaced array with default base 10\n",
    "print(series3,'\\n')"
   ]
  },
  {
   "cell_type": "code",
   "execution_count": 97,
   "metadata": {},
   "outputs": [
    {
     "name": "stdout",
     "output_type": "stream",
     "text": [
      "[[4607182418800017408 4611686018427387904 4613937818241073152]\n",
      " [4616189618054758400 4617315517961601024 4618441417868443648]\n",
      " [4619567317775286272 4620693217682128896 4621256167635550208]] \n",
      "\n",
      "[[0. 0.]\n",
      " [0. 0.]] \n",
      "\n",
      "[1. 1.] \n",
      "\n",
      "[0. 0.] \n",
      "\n",
      "[1. 1.] \n",
      "\n"
     ]
    }
   ],
   "source": [
    "a=np.empty((3, 3),dtype=int) # empty array\n",
    "print(a,'\\n')\n",
    "\n",
    "b=np.zeros((2, 2),dtype=float) # zeros array\n",
    "print(b,'\\n')\n",
    "\n",
    "c=np.ones((2),dtype=float) # ones array\n",
    "print(c,'\\n')\n",
    "\n",
    "d=np.zeros_like(c) # zeros like shape of c\n",
    "print(d,'\\n')\n",
    "\n",
    "e=np.ones_like(d) # ones like shape of d\n",
    "print(e,'\\n')"
   ]
  },
  {
   "cell_type": "markdown",
   "metadata": {},
   "source": [
    "**dtype**"
   ]
  },
  {
   "cell_type": "code",
   "execution_count": 25,
   "metadata": {},
   "outputs": [
    {
     "name": "stdout",
     "output_type": "stream",
     "text": [
      "[(b'abc', 21, 50.) (b'xyz', 18, 75.)]\n",
      "1\n",
      "(2,)\n"
     ]
    }
   ],
   "source": [
    "student=[('name', 'S20'), ('age', 'i4'), ('marks', 'f4')]\n",
    "a = np.array([('abc', 21, 50),('xyz', 18, 75)],dtype=student) # structured array\n",
    "print(a)\n",
    "print(a.ndim)\n",
    "print(a.shape)"
   ]
  },
  {
   "cell_type": "markdown",
   "metadata": {},
   "source": [
    "**create array from buffer/iterator**"
   ]
  },
  {
   "cell_type": "code",
   "execution_count": null,
   "metadata": {},
   "outputs": [
    {
     "name": "stdout",
     "output_type": "stream",
     "text": [
      "[b'H' b'e' b'l' b'l' b'o' b' ' b'W' b'o' b'r' b'l' b'd']\n",
      "[0. 1. 2. 3. 4. 5. 6. 7. 8. 9.]\n"
     ]
    }
   ],
   "source": [
    "import numpy as np\n",
    "\n",
    "st=b'Hello World'\n",
    "arr=np.frombuffer(st,dtype='S1') # from buffer\n",
    "print(arr)\n",
    "\n",
    "list=range(10)\n",
    "iter=iter(list)\n",
    "arr=np.fromiter(iter, dtype=float) # from iterator\n",
    "print(arr)"
   ]
  },
  {
   "cell_type": "markdown",
   "metadata": {},
   "source": [
    "**slice**"
   ]
  },
  {
   "cell_type": "code",
   "execution_count": 114,
   "metadata": {},
   "outputs": [
    {
     "name": "stdout",
     "output_type": "stream",
     "text": [
      "[[ 0  1  2]\n",
      " [ 3  4  5]\n",
      " [ 6  7  8]\n",
      " [ 9 10 11]\n",
      " [12 13 14]] \n",
      "\n",
      "[[ 0  1  2]\n",
      " [ 6  7  8]\n",
      " [12 13 14]] \n",
      "\n",
      "[[ 0  1  2]\n",
      " [ 6  7  8]\n",
      " [12 13 14]] \n",
      "\n",
      "[[ 0  0  0]\n",
      " [ 3  4  5]\n",
      " [ 0  0  0]\n",
      " [ 9 10 11]\n",
      " [ 0  0  0]] \n",
      "\n",
      "[ 0  4  0 10  0]\n"
     ]
    }
   ],
   "source": [
    "import numpy as np\n",
    "\n",
    "arr=np.arange(15).reshape(5,3) # from range\n",
    "print(arr,'\\n')\n",
    "\n",
    "s=slice(0, 9, 2) # slice\n",
    "print(arr[s],'\\n')\n",
    "print(arr[0:9:2],'\\n') # same as above\n",
    "\n",
    "arr[s] = 0 # change values using slice\n",
    "print(arr,'\\n')\n",
    "\n",
    "print(arr[..., 1]) # ellipsis to select all rows and second column"
   ]
  }
 ],
 "metadata": {
  "kernelspec": {
   "display_name": "Python 3",
   "language": "python",
   "name": "python3"
  },
  "language_info": {
   "codemirror_mode": {
    "name": "ipython",
    "version": 3
   },
   "file_extension": ".py",
   "mimetype": "text/x-python",
   "name": "python",
   "nbconvert_exporter": "python",
   "pygments_lexer": "ipython3",
   "version": "3.13.2"
  }
 },
 "nbformat": 4,
 "nbformat_minor": 2
}
