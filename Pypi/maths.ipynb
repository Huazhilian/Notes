{
 "cells": [
  {
   "cell_type": "markdown",
   "metadata": {},
   "source": [
    "- ### Maths calculation & plotting\n",
    "\n",
    "1. numpy\n",
    "\n",
    "2. sympy\n",
    "\n",
    "3. matplotlib"
   ]
  }
 ],
 "metadata": {
  "language_info": {
   "name": "python"
  }
 },
 "nbformat": 4,
 "nbformat_minor": 2
}
