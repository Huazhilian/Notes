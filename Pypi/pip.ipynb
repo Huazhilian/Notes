{
 "cells": [
  {
   "cell_type": "markdown",
   "metadata": {},
   "source": [
    "- ### pip version\n",
    "`pip --version `\n",
    "\n",
    "---"
   ]
  },
  {
   "cell_type": "markdown",
   "metadata": {},
   "source": [
    "- ### lib list (with outdated)\n",
    "`pip list`\n",
    "\n",
    "`pip list -o`\n",
    "\n",
    "---"
   ]
  },
  {
   "cell_type": "markdown",
   "metadata": {},
   "source": [
    "- #### install a package (with speicific version)\n",
    "`pip install *package_name*`\n",
    "\n",
    "`pip install *package_name==version*·`\n",
    "\n",
    "---"
   ]
  },
  {
   "cell_type": "markdown",
   "metadata": {},
   "source": [
    "- ### the package version and location\n",
    "`pip show *package_name*`\n",
    "\n",
    "---"
   ]
  },
  {
   "cell_type": "markdown",
   "metadata": {},
   "source": [
    "- ### uninstall a package\n",
    "`pip uninstall *package_name*`\n",
    "\n",
    "---"
   ]
  },
  {
   "cell_type": "markdown",
   "metadata": {},
   "source": [
    "- ### upgrade a package\n",
    "`pip install -U *package_name*`\n",
    "\n",
    "---"
   ]
  },
  {
   "cell_type": "markdown",
   "metadata": {},
   "source": [
    "- ### installed packages and their versions\n",
    "\n",
    "`pip freeze`\n",
    "\n",
    "---"
   ]
  },
  {
   "cell_type": "markdown",
   "metadata": {},
   "source": [
    "- ### upgrade pip\n",
    "\n",
    "`pip install -U pip`\n",
    "\n",
    "`python -m pip install --upgrade pip`\n",
    "\n",
    "---"
   ]
  },
  {
   "cell_type": "markdown",
   "metadata": {},
   "source": [
    "- ### export packages version\n",
    "\n",
    "`pip freeze > *location with file_name*`\n",
    "\n",
    "---"
   ]
  },
  {
   "cell_type": "markdown",
   "metadata": {},
   "source": [
    "- ### pip check compatible dependencies\n",
    "`pip check`\n",
    "\n",
    "---\n"
   ]
  }
 ],
 "metadata": {
  "language_info": {
   "name": "python"
  }
 },
 "nbformat": 4,
 "nbformat_minor": 2
}
