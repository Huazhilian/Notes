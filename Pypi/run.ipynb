{
 "cells": [
  {
   "cell_type": "markdown",
   "metadata": {},
   "source": [
    "- ### Run python file interactively\n",
    "Run with shortcut `Ctrl F5` in the intepreter"
   ]
  },
  {
   "cell_type": "markdown",
   "metadata": {},
   "source": [
    "---\n",
    "- ### Run python file with scripts\n",
    "1. Run `python (*pathname*/)*filename*.py`\n",
    "\n",
    "    in the terminal in IDE/cmd/powershell\n",
    "\n",
    "2. Change dictionary to the current fold\n",
    "\n",
    "    `cd (d:foldname/.../)foldname0`\n",
    "\n",
    "    And then run \n",
    "    \n",
    "    `python filename*.py` in the terminal\n",
    "\n",
    "---\n"
   ]
  },
  {
   "cell_type": "markdown",
   "metadata": {},
   "source": [
    "- ### Annotations\n",
    "Inline `# This is an annotation`\n",
    "\n",
    "Among multi-lines `'''This is also an annotation'''`\n",
    "\n",
    "Among multi-lines `\"\"\"This is also an annotation\"\"\"`"
   ]
  }
 ],
 "metadata": {
  "language_info": {
   "name": "python"
  }
 },
 "nbformat": 4,
 "nbformat_minor": 2
}
